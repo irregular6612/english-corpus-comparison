{
 "cells": [
  {
   "cell_type": "markdown",
   "metadata": {},
   "source": [
    "# Corpus 전처리"
   ]
  },
  {
   "cell_type": "markdown",
   "metadata": {},
   "source": [
    "현재 데이터는 xlsx로 저장이 되어 있다. <br/><br/>COCA 코퍼스와 같은 영어 corpus와 비교 예정이기에 전처리가 필요한데, 이를 위해 데이터 저장 포멧은 크게 3가지가 있고 아래와 같다. <br/> <br/> <br/> 1. csv: 엑셀로 읽을 수 있으며 가독성이 좋다. 테이블 형식의 데이터 정리에 유용. <br/> 2. parquet: 하둡과 같은 프레임 워크를 위해 개발된 데이터 압축 형태이고, 압축이 가장 잘되는 열 방향 데이터 정보 포멧. <br/> 3. json: 일반적으로 CS 분야에서 통신이나 테이블 형태가 아닌 데이터 저장에 많이 사용되는 형태. 압축률이 좋지는 않으나 유연한 구조로 인해 확장이 쉽다.<br/><br/> <br/> 고로 이번에는 json으로 사용하려고 한다."
   ]
  },
  {
   "cell_type": "markdown",
   "metadata": {},
   "source": [
    "## 개발 환경 세팅"
   ]
  },
  {
   "cell_type": "markdown",
   "metadata": {},
   "source": [
    "python을 언어로 사용할 거고, uv를 사용해 필요한 라이브러리를 다운로드할 것이다. \n",
    "<br/> uv 란? -> python 라이브러리를 굉장히 빨리 다운로드해주는 pkg-manager\n",
    "<br/> 혹시라도 읽고 계신 분이 CS 분야 전공자라면, 부디 쓰시길 바랍니다. conda, pip 대비 비교도 안될 정도로 빠릅니다,,"
   ]
  },
  {
   "cell_type": "markdown",
   "metadata": {},
   "source": [
    "만약 github에서 pull하고 사용 중이라면 pyproject.toml 파일을 열어보면 dependencies에서 라이브러리 이름을 확인할 수 있을 텐데 그게 꼭 설치되어야 아래가 진행 가능하다!!!"
   ]
  },
  {
   "cell_type": "markdown",
   "metadata": {},
   "source": [
    "## 데이터 전처리 전략 및 순서"
   ]
  },
  {
   "cell_type": "markdown",
   "metadata": {},
   "source": [
    "전처리 순서는 아래와 같다.<br/><br/><br/> 1. 문잔 단위 분할 <br/> 2. 단어 단위 분할 및 품사 태깅"
   ]
  },
  {
   "cell_type": "markdown",
   "metadata": {},
   "source": [
    "### 문장 기준 분할"
   ]
  },
  {
   "cell_type": "markdown",
   "metadata": {},
   "source": [
    "수능 영어 듣기 corpus: csat_listening_article"
   ]
  },
  {
   "cell_type": "markdown",
   "metadata": {},
   "source": [
    "### 라이브러리 import"
   ]
  },
  {
   "cell_type": "code",
   "execution_count": 11,
   "metadata": {},
   "outputs": [],
   "source": [
    "import nltk # Natural Language Toolkit\n",
    "import contractions # 영어 줄임말 풀기\n",
    "import pandas as pd # 데이터 처리\n",
    "import numpy as np # 데이터 처리\n",
    "import seaborn as sns # 데이터 시각화\n",
    "from tqdm import tqdm # 데이터 처리\n",
    "import re # 정규식으로 특수기호 및 char 처리\n",
    "import json # 데이터 가공 후 저장할 형식\n",
    "from typing import Any, Dict, List  # python data-type 정의\n",
    "from pathlib import Path # 파일 경로 처리\n",
    "import os # 파일 경로 및 처리"
   ]
  },
  {
   "cell_type": "markdown",
   "metadata": {},
   "source": [
    "## preprocessor class"
   ]
  },
  {
   "cell_type": "code",
   "execution_count": 12,
   "metadata": {},
   "outputs": [],
   "source": [
    "class Preprocessor:\n",
    "    def __init__(self, type:str):\n",
    "        # corpus 종류에 따라 구분 / 수능 or 교과서\n",
    "        if type not in ['test', 'textbook']:\n",
    "            raise ValueError('type must be either \"test\" or \"textbook\"')     # 둘 다 아니라면,,\n",
    "        self.type = type\n",
    "        \n",
    "        # nltk에서 제공하는 tokenizer와 tagger를 다운로드: \n",
    "        try:\n",
    "            nltk.download('punkt')  \n",
    "            nltk.download('punkt_tab')\n",
    "            nltk.download('averaged_perceptron_tagger_eng')\n",
    "        except:\n",
    "            pass\n",
    "        \n",
    "    def split_sentences(self, text: str) -> list: # 여러 문장을 각각의 문장으로 분리\n",
    "        return nltk.sent_tokenize(text)\n",
    "    \n",
    "    def tokenize_sentence(self, sentence: str) -> list: # str 형태의 문장은 단어별 품사 태깅(single sentence)\n",
    "        tokens = nltk.word_tokenize(sentence) # tokenize sentence -> word level\n",
    "        tagged = nltk.pos_tag(tokens, lang='eng') # tagging the word -> pos(품사) level\n",
    "        return tagged\n",
    "    \n",
    "    def split_word_pos(self, tagged: list) -> list: # 위의 정보를 단어와 품사로 분리\n",
    "        word_list, pos_list = [], [] # 각각 단어와 품사를 저장할 리스트\n",
    "        for word, pos in tagged:    # token과 품사 정보를 분리하여 저장.\n",
    "            word_list.append(word)\n",
    "            pos_list.append(pos)\n",
    "        return word_list, pos_list\n",
    "    \n",
    "    def change_data_type(self, corpus: pd.DataFrame): # 열 별 데이터 타입 수정.\n",
    "        \n",
    "        if self.type == 'test': # 수능 읽기 혹은 듣기 지문\n",
    "            if '년도' in corpus.columns:    # 수능 읽기, 듣기 지문 파일에만 적용!!\n",
    "                corpus['년도'] = corpus['년도'].astype('int')\n",
    "                corpus['월'] = corpus['월'].astype('int')\n",
    "                corpus['번호'] = corpus['번호'].astype('int')\n",
    "\n",
    "                corpus = corpus.astype({\n",
    "                    '년도': 'str',\n",
    "                    '월': 'str',\n",
    "                    '번호': 'str',\n",
    "                    '출처': 'str',\n",
    "                    '비고': 'str',\n",
    "                    '본문': 'str'\n",
    "                })\n",
    "        elif self.type == 'textbook': # 영어 교과서\n",
    "            corpus = corpus.astype({\n",
    "                '출처': 'str',\n",
    "                '비고': 'str',\n",
    "                '본문': 'str'})\n",
    "        \n",
    "\n",
    "        return corpus\n",
    "        \n",
    "    def fillter_values(self, df: pd.DataFrame): # 일부 열 형식 정리\n",
    "        \n",
    "        # 숫자만 해당하는 정규식\n",
    "        number_expression = r'^\\d+'\n",
    "\n",
    "        if self.type == 'test': # 수능 관련 지문들만 처리,,\n",
    "            if '년도' not in df.columns:    # 해당 파일들은 '년도' column이 있을 테니,,\n",
    "                raise ValueError('년도 열이 없습니다.')\n",
    "\n",
    "            for idx, row in tqdm(df.iterrows(), desc='데이터 형식 통일 중..', total=len(df)):\n",
    "                # NaN, null 값을 채운다.\n",
    "                if row['본문'] is None: # 혹시라도 본문이 없는 row면 pass\n",
    "                    continue\n",
    "\n",
    "                # 모든 정보가 다 있는 경우, \n",
    "                if not np.isnan(row['년도']):   # 년도 정보가 없다면 바로 이전 row에서 참고\n",
    "                    if type(row['년도']) == str:\n",
    "                        df.loc[idx, '년도'] = re.search(number_expression, row['년도']).group()\n",
    "                    if type(row['월']) == str:\n",
    "                        df.loc[idx, '월'] = re.search(number_expression, row['월']).group()\n",
    "                    if type(row['번호']) == str:\n",
    "                        df.loc[idx, '번호'] = re.search(number_expression, row['번호']).group()\n",
    "                    if type(row['출처']) == str:\n",
    "                        if '수능' in row['출처']:\n",
    "                            df.loc[idx, '출처'] = '수능'\n",
    "                        elif '모의' in row['출처']:\n",
    "                            df.loc[idx, '출처'] = '모의'\n",
    "                        else:\n",
    "                            pass\n",
    "                \n",
    "                # 일부 정보가 없는 경우\n",
    "                else:   # 년도 정보가 없다면 바로 이전 row에서 참고\n",
    "                    df.loc[idx, '년도'] = df.loc[idx-1, '년도']\n",
    "                    df.loc[idx, '월'] = df.loc[idx-1, '월']\n",
    "                    df.loc[idx, '출처'] = df.loc[idx-1, '출처']\n",
    "                    if df.loc[idx, '비고'] is None:\n",
    "                        df.loc[idx, '비고'] = \".\"\n",
    "        \n",
    "        elif self.type == 'textbook':\n",
    "            if '저자' not in df.columns:    # 해당 파일들은 '저자' column이 있을 테니,,\n",
    "                raise ValueError('저자 열이 없습니다.')\n",
    "            \n",
    "            remove_row_idxs = []    # 본문이 없는 열들 번호를 저장할 리스트\n",
    "            sources = [] # 출처 정보를 통합하여 저장할 리스트\n",
    "            notes = [] # 비고 정보 저장 열\n",
    "            \n",
    "            for idx, row in tqdm(df.iterrows(), desc='데이터 형식 통일 중..', total=len(df)):\n",
    "                \n",
    "                if row['본문'] is None: # 혹시라도 본문이 없는 row면 collect\n",
    "                    remove_row_idxs.append(idx)\n",
    "                \n",
    "                if row['출판사'] is None:   # 메타 정보 중 일부가 None이라면 str _ 값으로 대체\n",
    "                    row['출판사'] = '_'\n",
    "                if row['저자'] is None:\n",
    "                    row['저자'] = '_'\n",
    "                if row['과정'] is None:\n",
    "                    row['과정'] = '_'\n",
    "                if row['교과서'] is None:\n",
    "                    row['교과서'] = '_'\n",
    "                if row['단원'] is None:\n",
    "                    row['단원'] = '_'\n",
    "                elif type(row['단원']) != str:\n",
    "                    row['단원'] = str(row['단원'])\n",
    "                if row['단원명'] is None:\n",
    "                    row['단원명'] = '_'\n",
    "                if row['본문제목'] is None:\n",
    "                    row['본문제목'] = '_'\n",
    "                \n",
    "                source = f\"{row['출판사']} {row['저자']} {row['과정']} {row['교과서']}\"\n",
    "                sources.append(source)\n",
    "\n",
    "                if row['비고'] is None:\n",
    "                    row['비고'] = '.'\n",
    "                note = f\"{row['단원']} {row['단원명']} {row['본문제목']} / {row['비고']}\"\n",
    "                notes.append(note)\n",
    "            \n",
    "            \n",
    "            # 출처 정보 추가 및 불필요 열 제거\n",
    "            df['출처'] = sources\n",
    "            df['비고'] = notes\n",
    "            df = df.drop(index=remove_row_idxs)\n",
    "            df = df.drop(columns=['출판사', '저자', '과정', '교과서', '단원', '단원명', '본문제목'])\n",
    "        \n",
    "        else:\n",
    "            raise ValueError('type must be either \"test\" or \"textbook\"')\n",
    "        \n",
    "        return df\n",
    "\n",
    "    def generate_json_data(self, id: int, text:str, tokens:list, pos_tags:list, metadata:dict) -> dict:\n",
    "        \"\"\"\n",
    "        주어진 행의 데이터를 JSON 형식으로 변환하는 함수\n",
    "        \n",
    "        Args:\n",
    "            text (str): 원본 텍스트\n",
    "            tokens (list): 토큰 리스트\n",
    "            pos_tags (list): 품사 태깅 리스트\n",
    "            metadata (dict): 메타데이터\n",
    "        \"\"\" \n",
    "        \n",
    "        return {\n",
    "            \"id\": id,\n",
    "            \"text\": text,\n",
    "            \"tokens\": tokens,\n",
    "            \"pos_tags\": pos_tags,\n",
    "            \"metadata\": metadata\n",
    "        }\n",
    "\n",
    "    def get_gender(self, text: str) -> str: # 문장 내에서 화자 성별 탐지\n",
    "        if 'M:' in text or 'M ' in text:\n",
    "            return 'M'\n",
    "        elif 'W:' in text or 'W ' in text:\n",
    "            return 'W'\n",
    "        else:\n",
    "            return 'N'\n"
   ]
  },
  {
   "cell_type": "code",
   "execution_count": 3,
   "metadata": {},
   "outputs": [
    {
     "name": "stderr",
     "output_type": "stream",
     "text": [
      "[nltk_data] Downloading package punkt to\n",
      "[nltk_data]     /Users/bagjuhyeon/nltk_data...\n",
      "[nltk_data]   Package punkt is already up-to-date!\n",
      "[nltk_data] Downloading package punkt_tab to\n",
      "[nltk_data]     /Users/bagjuhyeon/nltk_data...\n",
      "[nltk_data]   Package punkt_tab is already up-to-date!\n",
      "[nltk_data] Downloading package averaged_perceptron_tagger_eng to\n",
      "[nltk_data]     /Users/bagjuhyeon/nltk_data...\n",
      "[nltk_data]   Package averaged_perceptron_tagger_eng is already up-to-\n",
      "[nltk_data]       date!\n"
     ]
    }
   ],
   "source": [
    "# sample\n",
    "preprocessor = Preprocessor()\n",
    "text = \"I am a student. I am a professor.\""
   ]
  },
  {
   "cell_type": "code",
   "execution_count": 4,
   "metadata": {},
   "outputs": [
    {
     "name": "stdout",
     "output_type": "stream",
     "text": [
      "(['I', 'am', 'a', 'student', '.'], ['PRP', 'VBP', 'DT', 'NN', '.'])\n",
      "(['I', 'am', 'a', 'professor', '.'], ['PRP', 'VBP', 'DT', 'NN', '.'])\n"
     ]
    }
   ],
   "source": [
    "# example\n",
    "sentences = preprocessor.split_sentences(text)\n",
    "for sentence in sentences:\n",
    "    #print(preprocessor.tokenize_sentence(sentence))\n",
    "    print(preprocessor.split_word_pos(preprocessor.tokenize_sentence(sentence)))"
   ]
  },
  {
   "cell_type": "markdown",
   "metadata": {
    "vscode": {
     "languageId": "javascript"
    }
   },
   "source": [
    "예상하는 json 데이터 구조\n",
    "<br>\n",
    "~~~json\n",
    "{\n",
    "  \"text\": \"원본 텍스트\",\n",
    "  \"tokens\": [\"토큰1\", \"토큰2\"],\n",
    "  \"pos_tags\": [\"NN\", \"VB\"],\n",
    "  \"metadata\": {\n",
    "    \"source\": \"수능\",\n",
    "    \"year\": \"2023\",\n",
    "    \"month\": \"6\",\n",
    "    \"note\": \".\",\n",
    "    \"gender\": \"M\",\n",
    "    \"type\": \"listening\"\n",
    "  }\n",
    "}\n",
    "~~~"
   ]
  },
  {
   "cell_type": "markdown",
   "metadata": {},
   "source": [
    "## 수능 Corpus 전처리"
   ]
  },
  {
   "cell_type": "code",
   "execution_count": 5,
   "metadata": {},
   "outputs": [
    {
     "data": {
      "text/html": [
       "<div>\n",
       "<style scoped>\n",
       "    .dataframe tbody tr th:only-of-type {\n",
       "        vertical-align: middle;\n",
       "    }\n",
       "\n",
       "    .dataframe tbody tr th {\n",
       "        vertical-align: top;\n",
       "    }\n",
       "\n",
       "    .dataframe thead th {\n",
       "        text-align: right;\n",
       "    }\n",
       "</style>\n",
       "<table border=\"1\" class=\"dataframe\">\n",
       "  <thead>\n",
       "    <tr style=\"text-align: right;\">\n",
       "      <th></th>\n",
       "      <th>년도</th>\n",
       "      <th>월</th>\n",
       "      <th>번호</th>\n",
       "      <th>출처</th>\n",
       "      <th>본문</th>\n",
       "      <th>비고</th>\n",
       "    </tr>\n",
       "  </thead>\n",
       "  <tbody>\n",
       "    <tr>\n",
       "      <th>0</th>\n",
       "      <td>2016.0</td>\n",
       "      <td>11</td>\n",
       "      <td>1.0</td>\n",
       "      <td>수능</td>\n",
       "      <td>W: Charlie, where did you get these apples? Th...</td>\n",
       "      <td>.</td>\n",
       "    </tr>\n",
       "    <tr>\n",
       "      <th>1</th>\n",
       "      <td>NaN</td>\n",
       "      <td>NaN</td>\n",
       "      <td>2.0</td>\n",
       "      <td>NaN</td>\n",
       "      <td>M: Excuse me. I see the 2 o’clock flight to Da...</td>\n",
       "      <td>.</td>\n",
       "    </tr>\n",
       "    <tr>\n",
       "      <th>2</th>\n",
       "      <td>NaN</td>\n",
       "      <td>NaN</td>\n",
       "      <td>3.0</td>\n",
       "      <td>NaN</td>\n",
       "      <td>W: Hello, listeners! This is One Minute Health...</td>\n",
       "      <td>.</td>\n",
       "    </tr>\n",
       "    <tr>\n",
       "      <th>3</th>\n",
       "      <td>NaN</td>\n",
       "      <td>NaN</td>\n",
       "      <td>4.0</td>\n",
       "      <td>NaN</td>\n",
       "      <td>M: Ms. Robinson, what was your opinion of Mr. ...</td>\n",
       "      <td>.</td>\n",
       "    </tr>\n",
       "    <tr>\n",
       "      <th>4</th>\n",
       "      <td>NaN</td>\n",
       "      <td>NaN</td>\n",
       "      <td>5.0</td>\n",
       "      <td>NaN</td>\n",
       "      <td>W: How was everything, Mr. Silverman? \\nM: Goo...</td>\n",
       "      <td>.</td>\n",
       "    </tr>\n",
       "    <tr>\n",
       "      <th>...</th>\n",
       "      <td>...</td>\n",
       "      <td>...</td>\n",
       "      <td>...</td>\n",
       "      <td>...</td>\n",
       "      <td>...</td>\n",
       "      <td>...</td>\n",
       "    </tr>\n",
       "    <tr>\n",
       "      <th>1302</th>\n",
       "      <td>NaN</td>\n",
       "      <td>NaN</td>\n",
       "      <td>13.0</td>\n",
       "      <td>NaN</td>\n",
       "      <td>① W: What can I do for you today?\\nM: I'd like...</td>\n",
       "      <td>그림의 상황에 적절한 대화를 고르는 문제 / 답 4</td>\n",
       "    </tr>\n",
       "    <tr>\n",
       "      <th>1303</th>\n",
       "      <td>NaN</td>\n",
       "      <td>NaN</td>\n",
       "      <td>14.0</td>\n",
       "      <td>NaN</td>\n",
       "      <td>W: You must be my new next door neighbor. Welc...</td>\n",
       "      <td>NaN</td>\n",
       "    </tr>\n",
       "    <tr>\n",
       "      <th>1304</th>\n",
       "      <td>NaN</td>\n",
       "      <td>NaN</td>\n",
       "      <td>15.0</td>\n",
       "      <td>NaN</td>\n",
       "      <td>W: Hey, Joe. How are you doing?\\nM: Hi, Michel...</td>\n",
       "      <td>NaN</td>\n",
       "    </tr>\n",
       "    <tr>\n",
       "      <th>1305</th>\n",
       "      <td>NaN</td>\n",
       "      <td>NaN</td>\n",
       "      <td>16.0</td>\n",
       "      <td>NaN</td>\n",
       "      <td>W: Peter, how's the planning for the school fe...</td>\n",
       "      <td>NaN</td>\n",
       "    </tr>\n",
       "    <tr>\n",
       "      <th>1306</th>\n",
       "      <td>NaN</td>\n",
       "      <td>NaN</td>\n",
       "      <td>17.0</td>\n",
       "      <td>NaN</td>\n",
       "      <td>W: Steve heard Nancy Brown on a radio show. Sh...</td>\n",
       "      <td>NaN</td>\n",
       "    </tr>\n",
       "  </tbody>\n",
       "</table>\n",
       "<p>1307 rows × 6 columns</p>\n",
       "</div>"
      ],
      "text/plain": [
       "          년도    월    번호   출처  \\\n",
       "0     2016.0   11   1.0   수능   \n",
       "1        NaN  NaN   2.0  NaN   \n",
       "2        NaN  NaN   3.0  NaN   \n",
       "3        NaN  NaN   4.0  NaN   \n",
       "4        NaN  NaN   5.0  NaN   \n",
       "...      ...  ...   ...  ...   \n",
       "1302     NaN  NaN  13.0  NaN   \n",
       "1303     NaN  NaN  14.0  NaN   \n",
       "1304     NaN  NaN  15.0  NaN   \n",
       "1305     NaN  NaN  16.0  NaN   \n",
       "1306     NaN  NaN  17.0  NaN   \n",
       "\n",
       "                                                     본문  \\\n",
       "0     W: Charlie, where did you get these apples? Th...   \n",
       "1     M: Excuse me. I see the 2 o’clock flight to Da...   \n",
       "2     W: Hello, listeners! This is One Minute Health...   \n",
       "3     M: Ms. Robinson, what was your opinion of Mr. ...   \n",
       "4     W: How was everything, Mr. Silverman? \\nM: Goo...   \n",
       "...                                                 ...   \n",
       "1302  ① W: What can I do for you today?\\nM: I'd like...   \n",
       "1303  W: You must be my new next door neighbor. Welc...   \n",
       "1304  W: Hey, Joe. How are you doing?\\nM: Hi, Michel...   \n",
       "1305  W: Peter, how's the planning for the school fe...   \n",
       "1306  W: Steve heard Nancy Brown on a radio show. Sh...   \n",
       "\n",
       "                                비고  \n",
       "0                                .  \n",
       "1                                .  \n",
       "2                                .  \n",
       "3                                .  \n",
       "4                                .  \n",
       "...                            ...  \n",
       "1302  그림의 상황에 적절한 대화를 고르는 문제 / 답 4  \n",
       "1303                           NaN  \n",
       "1304                           NaN  \n",
       "1305                           NaN  \n",
       "1306                           NaN  \n",
       "\n",
       "[1307 rows x 6 columns]"
      ]
     },
     "execution_count": 5,
     "metadata": {},
     "output_type": "execute_result"
    }
   ],
   "source": [
    "# 영어 듣기 지문 읽어오기\n",
    "listening_article = pd.read_excel('csat_listening_article.xlsx')\n",
    "listening_article"
   ]
  },
  {
   "cell_type": "code",
   "execution_count": 6,
   "metadata": {},
   "outputs": [
    {
     "name": "stdout",
     "output_type": "stream",
     "text": [
      "<class 'pandas.core.frame.DataFrame'>\n",
      "RangeIndex: 1307 entries, 0 to 1306\n",
      "Data columns (total 6 columns):\n",
      " #   Column  Non-Null Count  Dtype  \n",
      "---  ------  --------------  -----  \n",
      " 0   년도      77 non-null     float64\n",
      " 1   월       77 non-null     object \n",
      " 2   번호      1306 non-null   float64\n",
      " 3   출처      77 non-null     object \n",
      " 4   본문      1234 non-null   object \n",
      " 5   비고      1291 non-null   object \n",
      "dtypes: float64(2), object(4)\n",
      "memory usage: 61.4+ KB\n"
     ]
    }
   ],
   "source": [
    "# 전체 행은 1307, 본문이 있는 행은 1234 -> 본문이 있는 행만 기준으로 처리\n",
    "listening_article.info()"
   ]
  },
  {
   "cell_type": "code",
   "execution_count": 7,
   "metadata": {},
   "outputs": [
    {
     "name": "stderr",
     "output_type": "stream",
     "text": [
      "NaN 값 채우기: 100%|██████████| 1307/1307 [00:00<00:00, 3164.73it/s]\n"
     ]
    }
   ],
   "source": [
    "# 결측치 제거 후 불필요 행 지우기\n",
    "listening_article = preprocessor.fillter_values(listening_article).dropna(how='any')"
   ]
  },
  {
   "cell_type": "code",
   "execution_count": 8,
   "metadata": {},
   "outputs": [
    {
     "name": "stdout",
     "output_type": "stream",
     "text": [
      "<class 'pandas.core.frame.DataFrame'>\n",
      "Index: 1218 entries, 0 to 1302\n",
      "Data columns (total 6 columns):\n",
      " #   Column  Non-Null Count  Dtype  \n",
      "---  ------  --------------  -----  \n",
      " 0   년도      1218 non-null   float64\n",
      " 1   월       1218 non-null   object \n",
      " 2   번호      1218 non-null   float64\n",
      " 3   출처      1218 non-null   object \n",
      " 4   본문      1218 non-null   object \n",
      " 5   비고      1218 non-null   object \n",
      "dtypes: float64(2), object(4)\n",
      "memory usage: 66.6+ KB\n"
     ]
    }
   ],
   "source": [
    "listening_article.info()"
   ]
  },
  {
   "cell_type": "code",
   "execution_count": 9,
   "metadata": {},
   "outputs": [
    {
     "name": "stderr",
     "output_type": "stream",
     "text": [
      "/var/folders/3t/7cyq0j713bn7qcyfypl8dx3w0000gn/T/ipykernel_1802/2391515850.py:27: SettingWithCopyWarning: \n",
      "A value is trying to be set on a copy of a slice from a DataFrame.\n",
      "Try using .loc[row_indexer,col_indexer] = value instead\n",
      "\n",
      "See the caveats in the documentation: https://pandas.pydata.org/pandas-docs/stable/user_guide/indexing.html#returning-a-view-versus-a-copy\n",
      "  corpus['년도'] = corpus['년도'].astype('int')\n",
      "/var/folders/3t/7cyq0j713bn7qcyfypl8dx3w0000gn/T/ipykernel_1802/2391515850.py:28: SettingWithCopyWarning: \n",
      "A value is trying to be set on a copy of a slice from a DataFrame.\n",
      "Try using .loc[row_indexer,col_indexer] = value instead\n",
      "\n",
      "See the caveats in the documentation: https://pandas.pydata.org/pandas-docs/stable/user_guide/indexing.html#returning-a-view-versus-a-copy\n",
      "  corpus['월'] = corpus['월'].astype('int')\n",
      "/var/folders/3t/7cyq0j713bn7qcyfypl8dx3w0000gn/T/ipykernel_1802/2391515850.py:29: SettingWithCopyWarning: \n",
      "A value is trying to be set on a copy of a slice from a DataFrame.\n",
      "Try using .loc[row_indexer,col_indexer] = value instead\n",
      "\n",
      "See the caveats in the documentation: https://pandas.pydata.org/pandas-docs/stable/user_guide/indexing.html#returning-a-view-versus-a-copy\n",
      "  corpus['번호'] = corpus['번호'].astype('int')\n"
     ]
    }
   ],
   "source": [
    "listening_article = preprocessor.change_data_type(listening_article)"
   ]
  },
  {
   "cell_type": "code",
   "execution_count": 10,
   "metadata": {},
   "outputs": [
    {
     "name": "stdout",
     "output_type": "stream",
     "text": [
      "<class 'pandas.core.frame.DataFrame'>\n",
      "Index: 1218 entries, 0 to 1302\n",
      "Data columns (total 6 columns):\n",
      " #   Column  Non-Null Count  Dtype \n",
      "---  ------  --------------  ----- \n",
      " 0   년도      1218 non-null   object\n",
      " 1   월       1218 non-null   object\n",
      " 2   번호      1218 non-null   object\n",
      " 3   출처      1218 non-null   object\n",
      " 4   본문      1218 non-null   object\n",
      " 5   비고      1218 non-null   object\n",
      "dtypes: object(6)\n",
      "memory usage: 66.6+ KB\n"
     ]
    }
   ],
   "source": [
    "listening_article.info()"
   ]
  },
  {
   "cell_type": "code",
   "execution_count": 11,
   "metadata": {},
   "outputs": [
    {
     "name": "stdout",
     "output_type": "stream",
     "text": [
      "['수능' '모의']\n",
      "['2016' '2017' '2018' '2019' '2020' '2021' '2022' '2023' '2024' '2015'\n",
      " '2025' '2014' '2013' '2012' '2011' '2010' '2009' '2008' '2007' '2006'\n",
      " '2005' '2004' '2003' '2002' '2001' '2000' '1999']\n",
      "['11' '12' '6' '9']\n",
      "['1' '2' '3' '4' '5' '6' '7' '8' '9' '10' '11' '12' '13' '14' '15' '16'\n",
      " '17' '18' '19' '20' '21']\n",
      "['.' '그림의 상황에 적절한 대화를 고르는 문제 / 답 4' '그림의 상황에 적절한 대화를 고르는 문제 / 답 3'\n",
      " '그림의 상황에 적절한 대화를 고르는 문제 / 답 5' '그림의 상황에 적절한 대화를 고르는 문제 / 답 1'\n",
      " '그림의 상황에 적절한 대화를 고르는 문제 / 답 2' 'A5' 'A7' 'A16' 'A17' 'A19' 'A20']\n"
     ]
    }
   ],
   "source": [
    "print(listening_article['출처'].unique())\n",
    "print(listening_article['년도'].unique())\n",
    "print(listening_article['월'].unique())\n",
    "print(listening_article['번호'].unique())\n",
    "print(listening_article['비고'].unique())"
   ]
  },
  {
   "cell_type": "markdown",
   "metadata": {},
   "source": [
    "병렬 처리 참고: https://yganalyst.github.io/data_handling/memo_17_parallel/\n"
   ]
  },
  {
   "cell_type": "code",
   "execution_count": 13,
   "metadata": {},
   "outputs": [],
   "source": [
    "class JsonFileHandler:\n",
    "    \"\"\"\n",
    "    JSON 파일 처리를 담당하는 클래스\n",
    "    \"\"\"\n",
    "    def __init__(self):\n",
    "        pass\n",
    "        \n",
    "    def update_json_file(self, file_path: str, new_data: Any) -> None:\n",
    "        \"\"\"\n",
    "        JSON 파일을 읽고 데이터를 추가한 후 다시 저장\n",
    "        - 리스트인 경우: id가 동일한 객체가 있으면 덮어씁니다.\n",
    "        - 리스트가 아닌 경우: id가 다른 객체면 리스트로 변환하여 저장합니다.\n",
    "        \n",
    "        Args:\n",
    "            file_path (str): JSON 파일 경로\n",
    "            new_data (Any): 추가할 데이터 (id 필드가 있어야 함)\n",
    "        \"\"\"\n",
    "        try:\n",
    "            # new_data가 딕셔너리이고 id 필드를 포함하는지 확인\n",
    "            if not isinstance(new_data, dict) or 'id' not in new_data:\n",
    "                raise ValueError(\"new_data는 'id' 필드를 포함하는 딕셔너리여야 합니다.\")\n",
    "            \n",
    "            # 파일 경로 객체 생성\n",
    "            file_path_obj = Path(file_path)\n",
    "            \n",
    "            # 디렉토리가 존재하지 않으면 생성\n",
    "            file_path_obj.parent.mkdir(parents=True, exist_ok=True)\n",
    "\n",
    "            # 파일이 존재하는 경우 기존 데이터 읽기\n",
    "            if Path(file_path).exists():\n",
    "                with open(file_path, 'r', encoding='utf-8') as f:\n",
    "                    existing_data = json.load(f)\n",
    "            else:\n",
    "                existing_data = []\n",
    "            \n",
    "            # 데이터 추가\n",
    "            if isinstance(existing_data, list):\n",
    "                # id가 동일한 객체 찾기\n",
    "                found = False\n",
    "                for i, item in enumerate(existing_data):\n",
    "                    if isinstance(item, dict) and item.get('id') == new_data['id']:\n",
    "                        existing_data[i] = new_data  # 기존 데이터 덮어쓰기\n",
    "                        found = True\n",
    "                        break\n",
    "                \n",
    "                # id가 동일한 객체가 없으면 새로 추가\n",
    "                if not found:\n",
    "                    existing_data.append(new_data)\n",
    "                    \n",
    "            elif isinstance(existing_data, dict):\n",
    "                # 기존 데이터가 딕셔너리이고 id가 다른 경우\n",
    "                if existing_data.get('id') != new_data['id']:\n",
    "                    # 기존 데이터와 새로운 데이터를 리스트로 변환\n",
    "                    existing_data = [existing_data, new_data]\n",
    "                else:\n",
    "                    # id가 같은 경우 덮어쓰기\n",
    "                    existing_data = new_data\n",
    "            else:\n",
    "                # 기존 데이터가 리스트나 딕셔너리가 아닌 경우\n",
    "                # 새로운 데이터를 리스트로 변환하여 저장\n",
    "                existing_data = [new_data]\n",
    "            \n",
    "            # 데이터 저장\n",
    "            with open(file_path, 'w', encoding='utf-8') as f:\n",
    "                json.dump(existing_data, f, ensure_ascii=False, indent=2)\n",
    "                \n",
    "        except json.JSONDecodeError:\n",
    "            print(f\"JSON 파일 형식이 올바르지 않습니다: {file_path}\")\n",
    "        except Exception as e:\n",
    "            print(f\"오류 발생: {str(e)}\")\n",
    "    \n",
    "    def load_data(self, file_path: str) -> Any:\n",
    "        \"\"\"\n",
    "        JSON 파일에서 데이터 로드\n",
    "        \n",
    "        Returns:\n",
    "            Any: 로드된 데이터\n",
    "        \"\"\"\n",
    "        try:\n",
    "            if Path(file_path).exists():\n",
    "                with open(file_path, 'r', encoding='utf-8') as f:\n",
    "                    return json.load(f)\n",
    "            return None\n",
    "        except Exception as e:\n",
    "            print(f\"데이터 로드 중 오류 발생: {str(e)}\")\n",
    "            return None"
   ]
  },
  {
   "cell_type": "code",
   "execution_count": 9,
   "metadata": {},
   "outputs": [],
   "source": [
    "def preprocess_article(corpus: pd.DataFrame, corpus_type: str, preprocessor: Preprocessor, json_handler: JsonFileHandler):\n",
    "    \n",
    "    if 'test' in corpus_type: # 수능 corpus\n",
    "        for idx, row in tqdm(corpus.iterrows(), desc='separating sentences..', total=len(corpus)):\n",
    "            sentences = preprocessor.split_sentences(row['본문'])\n",
    "            \n",
    "            before_gender = 'N' # 초기 화자의 성별 초기화\n",
    "            for sentence in sentences:  # 문장 더미에서 하나의 문장을 가져와서\n",
    "                \n",
    "                current_gender = preprocessor.get_gender(sentence)   # 문장 내 화자 성별 정보 추출\n",
    "                if current_gender == 'N':   # 만약 문장 내에서 확인이 되지 않는다면,\n",
    "                    current_gender = before_gender # 이전 화자의 성별 유지\n",
    "                else:   # 문장 내에세 화자 성별이 포착되었다면,\n",
    "                    before_gender = current_gender # 다음 문장을 위해 성별 정보 업데이트\n",
    "                \n",
    "                if current_gender != 'N':\n",
    "                    sentence = sentence.replace(current_gender+':', '') # 원 문장에서 성별 정보 제거\n",
    "                    sentence = sentence.replace(current_gender+' ', '') # 원 문장에서 성별 정보 제거\n",
    "\n",
    "                cleaned_sentence = sentence.lower()\n",
    "                cleaned_sentence = contractions.fix(cleaned_sentence)\n",
    "                cleaned_sentence = re.sub(r'[^a-zA-Z0-9,.!?%]', ' ', cleaned_sentence) # 여러 spacebar가 포함되지만, tokenize에서 정리됨. 영어, 숫자, 콤마, 온점, 퍼센트만 유지\n",
    "                \n",
    "                tokenized = preprocessor.tokenize_sentence(cleaned_sentence) # 문장 -> 어절 분리\n",
    "                word_list, pos_list = preprocessor.split_word_pos(tokenized) # 어절 -> 단어 및 품사 분리\n",
    "\n",
    "                metadata = {\n",
    "                    \"source\": row['출처'],\n",
    "                    \"year\": row['년도'],\n",
    "                    \"month\": row['월'],\n",
    "                    \"note\": row['비고'],\n",
    "                    \"gender\": current_gender,\n",
    "                    \"type\": corpus_type\n",
    "                }\n",
    "                \n",
    "                json_data = preprocessor.generate_json_data(id = idx, text=sentence, tokens=word_list, pos_tags=pos_list, metadata=metadata)\n",
    "                json_file_name = f\"{corpus_type}_article_{row['년도']}_{row['출처']}.json\"\n",
    "                json_file_path = os.path.join(Path.cwd(), 'corpus', json_file_name)\n",
    "                json_handler.update_json_file(json_file_path, json_data)\n",
    "    \n",
    "    elif 'textbook' in corpus_type:\n",
    "        for idx, row in tqdm(corpus.iterrows(), desc='separating sentences..', total=len(corpus)):\n",
    "            sentences = preprocessor.split_sentences(row['본문'])\n",
    "\n",
    "            for sentence in sentences:  # 문장 더미에서 하나의 문장을 가져와서\n",
    "                cleaned_sentence = sentence.lower()\n",
    "                cleaned_sentence = contractions.fix(cleaned_sentence)\n",
    "                cleaned_sentence = re.sub(r'[^a-zA-Z0-9,.!?%]', ' ', cleaned_sentence) # 여러 spacebar가 포함되지만, tokenize에서 정리됨. 영어, 숫자, 콤마, 온점, 퍼센트만 유지\n",
    "                \n",
    "                tokenized = preprocessor.tokenize_sentence(cleaned_sentence) # 문장 -> 어절 분리\n",
    "                word_list, pos_list = preprocessor.split_word_pos(tokenized) # 어절 -> 단어 및 품사 분리\n",
    "\n",
    "                metadata = {\n",
    "                    \"source\": row['출처'],\n",
    "                    \"note\": row['비고'],\n",
    "                    \"type\": corpus_type\n",
    "                }\n",
    "                \n",
    "                json_data = preprocessor.generate_json_data(id = idx, text=sentence, tokens=word_list, pos_tags=pos_list, metadata=metadata)\n",
    "                json_file_name = f\"{corpus_type}_article_{row['출처']}.json\"\n",
    "                json_file_path = os.path.join(Path.cwd(), 'corpus', json_file_name)\n",
    "                json_handler.update_json_file(json_file_path, json_data)\n"
   ]
  },
  {
   "cell_type": "markdown",
   "metadata": {},
   "source": [
    "### 바로 실행,,"
   ]
  },
  {
   "cell_type": "code",
   "execution_count": 14,
   "metadata": {},
   "outputs": [
    {
     "name": "stderr",
     "output_type": "stream",
     "text": [
      "[nltk_data] Downloading package punkt to\n",
      "[nltk_data]     /Users/bagjuhyeon/nltk_data...\n",
      "[nltk_data]   Package punkt is already up-to-date!\n",
      "[nltk_data] Downloading package punkt_tab to\n",
      "[nltk_data]     /Users/bagjuhyeon/nltk_data...\n",
      "[nltk_data]   Package punkt_tab is already up-to-date!\n",
      "[nltk_data] Downloading package averaged_perceptron_tagger_eng to\n",
      "[nltk_data]     /Users/bagjuhyeon/nltk_data...\n",
      "[nltk_data]   Package averaged_perceptron_tagger_eng is already up-to-\n",
      "[nltk_data]       date!\n",
      "NaN 값 채우기: 100%|██████████| 1307/1307 [00:00<00:00, 3810.16it/s]\n",
      "separating sentences..: 100%|██████████| 1218/1218 [00:11<00:00, 102.34it/s]\n"
     ]
    }
   ],
   "source": [
    "preprocessor = Preprocessor(type='test')\n",
    "json_handler = JsonFileHandler()\n",
    "\n",
    "# 영어 듣기 지문 읽어오기\n",
    "listening_article = pd.read_excel('csat_listening_article.xlsx')\n",
    "listening_article = preprocessor.fillter_values(listening_article).dropna(how='any')\n",
    "listening_article = preprocessor.change_data_type(listening_article)\n",
    "preprocess_article(corpus=listening_article, corpus_type='test_listening', preprocessor=preprocessor, json_handler=json_handler)"
   ]
  },
  {
   "cell_type": "markdown",
   "metadata": {},
   "source": [
    "### 읽기 지문도 동일하게 처리"
   ]
  },
  {
   "cell_type": "code",
   "execution_count": 15,
   "metadata": {},
   "outputs": [
    {
     "name": "stderr",
     "output_type": "stream",
     "text": [
      "NaN 값 채우기: 100%|██████████| 2553/2553 [00:00<00:00, 3479.52it/s]\n",
      "separating sentences..: 100%|██████████| 2168/2168 [00:18<00:00, 117.16it/s]\n"
     ]
    }
   ],
   "source": [
    "# 영어 듣기 지문 읽어오기\n",
    "reading_article = pd.read_excel('csat_reading_article.xlsx')\n",
    "reading_article = preprocessor.fillter_values(reading_article).dropna(how='any')\n",
    "reading_article = preprocessor.change_data_type(reading_article)\n",
    "preprocess_article(corpus=reading_article, corpus_type='test_reading', preprocessor=preprocessor, json_handler=json_handler)"
   ]
  },
  {
   "cell_type": "markdown",
   "metadata": {},
   "source": [
    "## 영어 교과서 Corpus 전처리"
   ]
  },
  {
   "cell_type": "markdown",
   "metadata": {},
   "source": [
    "예상하는 json 데이터 구조\n",
    "<br>\n",
    "~~~json\n",
    "{\n",
    "  \"text\": \"원본 텍스트\",\n",
    "  \"tokens\": [\"토큰1\", \"토큰2\"],\n",
    "  \"pos_tags\": [\"NN\", \"VB\"],\n",
    "  \"metadata\": {\n",
    "    \"source\": \"수능\",\n",
    "    \"year\": \"2023\",\n",
    "    \"month\": \"6\",\n",
    "    \"note\": \".\",\n",
    "    \"gender\": \"M\",\n",
    "    \"type\": \"listening\"\n",
    "  }\n",
    "}\n",
    "~~~"
   ]
  },
  {
   "cell_type": "code",
   "execution_count": 10,
   "metadata": {},
   "outputs": [
    {
     "name": "stdout",
     "output_type": "stream",
     "text": [
      "<class 'pandas.core.frame.DataFrame'>\n",
      "RangeIndex: 698 entries, 0 to 697\n",
      "Data columns (total 9 columns):\n",
      " #   Column  Non-Null Count  Dtype \n",
      "---  ------  --------------  ----- \n",
      " 0   출판사     698 non-null    object\n",
      " 1   저자      698 non-null    object\n",
      " 2   과정      698 non-null    object\n",
      " 3   교과서     698 non-null    object\n",
      " 4   단원      698 non-null    object\n",
      " 5   단원명     695 non-null    object\n",
      " 6   본문제목    643 non-null    object\n",
      " 7   본문      620 non-null    object\n",
      " 8   비고      698 non-null    object\n",
      "dtypes: object(9)\n",
      "memory usage: 49.2+ KB\n"
     ]
    }
   ],
   "source": [
    "textbook_article = pd.read_excel('english_textbook_article.xlsx')\n",
    "textbook_article.info()"
   ]
  },
  {
   "cell_type": "code",
   "execution_count": 11,
   "metadata": {},
   "outputs": [
    {
     "name": "stderr",
     "output_type": "stream",
     "text": [
      "[nltk_data] Downloading package punkt to\n",
      "[nltk_data]     /Users/bagjuhyeon/nltk_data...\n",
      "[nltk_data]   Package punkt is already up-to-date!\n",
      "[nltk_data] Downloading package punkt_tab to\n",
      "[nltk_data]     /Users/bagjuhyeon/nltk_data...\n",
      "[nltk_data]   Package punkt_tab is already up-to-date!\n",
      "[nltk_data] Downloading package averaged_perceptron_tagger_eng to\n",
      "[nltk_data]     /Users/bagjuhyeon/nltk_data...\n",
      "[nltk_data]   Package averaged_perceptron_tagger_eng is already up-to-\n",
      "[nltk_data]       date!\n",
      "데이터 형식 통일 중..: 100%|██████████| 698/698 [00:00<00:00, 25651.44it/s]\n",
      "separating sentences..: 100%|██████████| 620/620 [00:14<00:00, 43.45it/s] \n"
     ]
    }
   ],
   "source": [
    "preprocessor = Preprocessor(type='textbook')\n",
    "json_handler = JsonFileHandler()\n",
    "textbook_article = preprocessor.fillter_values(textbook_article).dropna(how='any')\n",
    "textbook_article = preprocessor.change_data_type(textbook_article)\n",
    "preprocess_article(corpus=textbook_article, corpus_type='textbook', preprocessor=preprocessor, json_handler=json_handler)"
   ]
  },
  {
   "cell_type": "markdown",
   "metadata": {},
   "source": [
    "# Corpus 분석"
   ]
  },
  {
   "cell_type": "markdown",
   "metadata": {},
   "source": [
    "## 수능 및 모의고사 지문 분석"
   ]
  },
  {
   "cell_type": "code",
   "execution_count": 14,
   "metadata": {},
   "outputs": [],
   "source": [
    "import seaborn as sns\n",
    "import os\n",
    "import json\n",
    "import pandas as pd\n",
    "from pathlib import Path\n"
   ]
  },
  {
   "cell_type": "code",
   "execution_count": 32,
   "metadata": {},
   "outputs": [],
   "source": [
    "json_handler = JsonFileHandler()\n",
    "corpus_path = os.path.join(Path.cwd(), 'corpus')\n",
    "corpus_list = os.listdir(corpus_path)\n",
    "corpus_list = [file for file in corpus_list if file.endswith('.json')]\n",
    "reading_corpus = [file for file in corpus_list if 'reading' in file]\n",
    "listening_corpus = [file for file in corpus_list if 'listening' in file]\n",
    "textbook_corpus = [file for file in corpus_list if 'textbook' in file]\n"
   ]
  },
  {
   "cell_type": "code",
   "execution_count": 59,
   "metadata": {},
   "outputs": [],
   "source": [
    "def plot_pos_tag(corpus: list):\n",
    "    # 읽기 지문 품사 분석\n",
    "    pos_list = []   # 품사 정보를 담을 리스트\n",
    "\n",
    "    for document in corpus: # corpus에서 하나의 json 파일을 가져와서\n",
    "        document = json_handler.load_data(os.path.join(corpus_path, document))  # 하나의 json 파일 내에 있는 모든 파일을 가져옴.\n",
    "\n",
    "        if isinstance(document, list):   # 한 json 내에 여러 obj가 있는 경우, \n",
    "            for sentence in document:  # json 파일 내 있는 여러 문장들 수 \n",
    "                pos_list.extend(sentence['pos_tags'])\n",
    "        else:   # 한 json 내에 하나의 obj가 있는 경우, \n",
    "            pos_list.extend(document['pos_tags'])   \n",
    "\n",
    "    len(pos_list)\n",
    "    pos_list = pd.Series(pos_list)\n",
    "    sns.countplot(data = pos_list, order=pos_list.value_counts().index)\n",
    "    return pos_list.to_list()"
   ]
  },
  {
   "cell_type": "code",
   "execution_count": 60,
   "metadata": {},
   "outputs": [
    {
     "data": {
      "image/png": "[encoded data removed]",
      "text/plain": [
       "<Figure size 640x480 with 1 Axes>"
      ]
     },
     "metadata": {},
     "output_type": "display_data"
    }
   ],
   "source": [
    "reading_pos_list = plot_pos_tag(reading_corpus)"
   ]
  },
  {
   "cell_type": "code",
   "execution_count": 61,
   "metadata": {},
   "outputs": [
    {
     "data": {
      "image/png": "[encoded data removed]",
      "text/plain": [
       "<Figure size 640x480 with 1 Axes>"
      ]
     },
     "metadata": {},
     "output_type": "display_data"
    }
   ],
   "source": [
    "listening_pos_list = plot_pos_tag(listening_corpus)"
   ]
  },
  {
   "cell_type": "code",
   "execution_count": 62,
   "metadata": {},
   "outputs": [
    {
     "data": {
      "image/png": "[encoded data removed]",
      "text/plain": [
       "<Figure size 640x480 with 1 Axes>"
      ]
     },
     "metadata": {},
     "output_type": "display_data"
    }
   ],
   "source": [
    "textbook_pos_list = plot_pos_tag(textbook_corpus)"
   ]
  },
  {
   "cell_type": "code",
   "execution_count": 63,
   "metadata": {},
   "outputs": [
    {
     "data": {
      "text/plain": [
       "<Axes: xlabel='count'>"
      ]
     },
     "execution_count": 63,
     "metadata": {},
     "output_type": "execute_result"
    },
    {
     "data": {
      "image/png": "[encoded data removed]",
      "text/plain": [
       "<Figure size 640x480 with 1 Axes>"
      ]
     },
     "metadata": {},
     "output_type": "display_data"
    }
   ],
   "source": [
    "corpus_pos_list = pd.Series(listening_pos_list + reading_pos_list + textbook_pos_list)\n",
    "sns.countplot(data = corpus_pos_list, order=corpus_pos_list.value_counts().index)"
   ]
  },
  {
   "cell_type": "code",
   "execution_count": 74,
   "metadata": {},
   "outputs": [],
   "source": [
    "def plot_word_freq(corpus: list):\n",
    "    # 읽기 지문 품사 분석\n",
    "    word_list = []   # 품사 정보를 담을 리스트\n",
    "\n",
    "    for document in corpus: # corpus에서 하나의 json 파일을 가져와서\n",
    "        document = json_handler.load_data(os.path.join(corpus_path, document))  # 하나의 json 파일 내에 있는 모든 파일을 가져옴.\n",
    "\n",
    "        if isinstance(document, list):   # 한 json 내에 여러 obj가 있는 경우, \n",
    "            for sentence in document:  # json 파일 내 있는 여러 문장들 수 \n",
    "                word_list.extend(sentence['tokens'])\n",
    "        else:   # 한 json 내에 하나의 obj가 있는 경우, \n",
    "            word_list.extend(document['tokens'])   \n",
    "\n",
    "    len(word_list)\n",
    "    #word_list = pd.Series(word_list)\n",
    "    #sns.countplot(data = word_list, order=word_list.value_counts().index)\n",
    "    return word_list"
   ]
  },
  {
   "cell_type": "code",
   "execution_count": 75,
   "metadata": {},
   "outputs": [],
   "source": [
    "listening_word_list = plot_word_freq(listening_corpus)\n",
    "reading_word_list = plot_word_freq(reading_corpus)\n",
    "textbook_word_list = plot_word_freq(textbook_corpus)"
   ]
  },
  {
   "cell_type": "code",
   "execution_count": 76,
   "metadata": {},
   "outputs": [],
   "source": [
    "corpus_word_list = pd.Series(listening_word_list + reading_word_list + textbook_word_list)"
   ]
  },
  {
   "cell_type": "code",
   "execution_count": 79,
   "metadata": {},
   "outputs": [
    {
     "data": {
      "text/plain": [
       ".             3646\n",
       ",             3170\n",
       "the           3149\n",
       "to            1880\n",
       "of            1561\n",
       "              ... \n",
       "whatsoever       1\n",
       "chairs           1\n",
       "beds             1\n",
       "double           1\n",
       "treasured        1\n",
       "Name: count, Length: 7960, dtype: int64"
      ]
     },
     "execution_count": 79,
     "metadata": {},
     "output_type": "execute_result"
    }
   ],
   "source": [
    "corpus_word_list.value_counts()"
   ]
  },
  {
   "cell_type": "code",
   "execution_count": 1,
   "metadata": {},
   "outputs": [],
   "source": [
    "import contractions\n",
    "import nltk\n",
    "from nltk.tokenize import word_tokenize"
   ]
  },
  {
   "cell_type": "code",
   "execution_count": 8,
   "metadata": {},
   "outputs": [
    {
     "data": {
      "text/plain": [
       "'I am running for 2 hours.'"
      ]
     },
     "execution_count": 8,
     "metadata": {},
     "output_type": "execute_result"
    }
   ],
   "source": [
    "expanded_text = contractions.fix(\"I'm running for 2 hours.\")\n",
    "expanded_text\n"
   ]
  },
  {
   "cell_type": "code",
   "execution_count": 9,
   "metadata": {},
   "outputs": [
    {
     "data": {
      "text/plain": [
       "['I', 'am', 'running', 'for', '2', 'hours', '.']"
      ]
     },
     "execution_count": 9,
     "metadata": {},
     "output_type": "execute_result"
    }
   ],
   "source": [
    "tokens = word_tokenize(expanded_text)\n",
    "tokens"
   ]
  },
  {
   "cell_type": "code",
   "execution_count": 10,
   "metadata": {},
   "outputs": [
    {
     "data": {
      "text/plain": [
       "[('I', 'PRP'),\n",
       " ('am', 'VBP'),\n",
       " ('running', 'VBG'),\n",
       " ('for', 'IN'),\n",
       " ('2', 'CD'),\n",
       " ('hours', 'NNS'),\n",
       " ('.', '.')]"
      ]
     },
     "execution_count": 10,
     "metadata": {},
     "output_type": "execute_result"
    }
   ],
   "source": [
    "nltk.pos_tag(tokens)"
   ]
  },
  {
   "cell_type": "markdown",
   "metadata": {},
   "source": [
    "### **어간 추출(Stemming) 및 표제어 추출(Lemmatization)**\n",
    "- 두 기법 모두 자연어 처리에서 텍스트 전처리 과정 중에 단어의 원형을 찾는 데 사용.\n",
    "\n",
    "- 일반적으로 표제어 추출은 어간 추출보다 정교하고 문맥을 잘 이해하는 방식이기 때문에, 자연어 처리에서 더 많이 사용.<br><br>\n",
    "\n",
    "- **어간 추출** : 단순한 접미사 제거 방식으로 단어의 어간을 추출. 결과는 사전에 있는 단어가 아닐 수 있다.\n",
    "\n",
    "- **표제어 추출** : 문법적, 의미적으로 올바른 표준 형태의 단어를 추출. 결과는 사전에 등재된 실제 단어.<br><br>\n",
    "\n",
    "1. **어간 추출 (Stemming)** : \n",
    "\n",
    "    - 어간 추출은 단어의 어간(stem)만 남기고 접사(suffix)를 제거하여 단어의 기본 형태를 찾는 과정.\n",
    "\n",
    "    - 예를 들어, \"running\", \"runs\", \"runner\"는 모두 \"run\"이라는 어간을 가지고 있다. 따라서 어간 추출은 이들을 모두 \"run\"으로 축소.\n",
    "\n",
    "    - 어간 추출은 단순히 규칙 기반의 접미사 제거 방식이기 때문에, 결과로 나오는 단어는 실제 사전에 있는 단어일 필요는 없고, 때로는 일반적이지 않은 형태일 수 있다.<br><br>\n",
    "\n",
    "\n",
    "2. **표제어 추출 (Lemmatization)** :\n",
    "\n",
    "    - 표제어 추출은 단어의 표준 형태인 표제어(lemma)를 찾는 과정입니다.\n",
    "\n",
    "    - 표제어는 사전에 등재된 실제 단어. 예를 들어, \"running\"의 표제어는 \"run\", \"better\"의 표제어는 \"good\"입니다.\n",
    "\n",
    "    - 표제어 추출은 단어의 문맥을 고려하고, 형태소 분석(morphological analysis)을 수행하여 단어의 형태와 문법적 의미를 이해한 후에 추출.\n",
    "\n",
    "    - 따라서 표제어 추출은 언어적, 문법적 규칙을 적용하여 단어를 정규화하는 과정."
   ]
  },
  {
   "cell_type": "markdown",
   "metadata": {},
   "source": [
    "### **고민해 봐야할 점**\n",
    "- **위 두 과정이 필요한가?**\n",
    "\n",
    "    - 일단 비교 대상이 COCA라면, COCA랑 뭘 비교할 수 있을지 생각해보자.\n",
    "\n",
    "    - 현재 전처리에서는 동사의 품사 변형 형들에 대한 고려가 되어 있지 않음.\n",
    "        - e.g. 'running' -> 'VBG' not a 'Verb'\n",
    "        - 이를 lemmatation 해야할까? 아니면, wordPiece 사용해서 'preprocessing' -> 'pre#' + 'process' + '#ing' 처럼 처리해서 동사별 비교 때 동사의 범위로 봐야할까?\n",
    "        \n",
    "    - 축약형들에 대한 조금 더 나은 처리 방법\n",
    "        - e.g. 'I'm' -> 'I am'으로 잘 되지만, 'Car's' -> 'car s'로 분리된다. 모호하거나 \"'s\" 에 대한 처리가 조금 더 필요할 듯,,\n",
    "    "
   ]
  },
  {
   "cell_type": "markdown",
   "metadata": {},
   "source": []
  }
 ],
 "metadata": {
  "kernelspec": {
   "display_name": ".venv",
   "language": "python",
   "name": "python3"
  },
  "language_info": {
   "codemirror_mode": {
    "name": "ipython",
    "version": 3
   },
   "file_extension": ".py",
   "mimetype": "text/x-python",
   "name": "python",
   "nbconvert_exporter": "python",
   "pygments_lexer": "ipython3",
   "version": "3.10.17"
  }
 },
 "nbformat": 4,
 "nbformat_minor": 2
}
