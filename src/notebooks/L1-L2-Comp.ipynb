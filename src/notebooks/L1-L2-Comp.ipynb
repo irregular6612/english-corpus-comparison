{
 "cells": [
  {
   "cell_type": "markdown",
   "id": "a40ee961",
   "metadata": {},
   "source": [
    "# 선행 연구들 기반으로 단어 리스트별 상관 분석해보기"
   ]
  },
  {
   "cell_type": "markdown",
   "id": "8e77f734",
   "metadata": {},
   "source": [
    "## Baek et al.(2023)\n",
    "Proficiency versus lexical processing efficiency as a measure of L2\n",
    "lexical quality: Individual differences in word‑frequency effects in L2\n",
    "visual word recognition"
   ]
  },
  {
   "cell_type": "code",
   "execution_count": 276,
   "id": "1c2d0dab",
   "metadata": {},
   "outputs": [],
   "source": [
    "import pandas as pd\n",
    "import numpy as np\n",
    "import os\n",
    "from pathlib import Path\n",
    "import seaborn as sns\n",
    "from scipy import stats\n",
    "import matplotlib.pyplot as plt"
   ]
  },
  {
   "cell_type": "code",
   "execution_count": 306,
   "id": "9ed4f46e",
   "metadata": {},
   "outputs": [
    {
     "data": {
      "text/html": [
       "<div>\n",
       "<style scoped>\n",
       "    .dataframe tbody tr th:only-of-type {\n",
       "        vertical-align: middle;\n",
       "    }\n",
       "\n",
       "    .dataframe tbody tr th {\n",
       "        vertical-align: top;\n",
       "    }\n",
       "\n",
       "    .dataframe thead th {\n",
       "        text-align: right;\n",
       "    }\n",
       "</style>\n",
       "<table border=\"1\" class=\"dataframe\">\n",
       "  <thead>\n",
       "    <tr style=\"text-align: right;\">\n",
       "      <th></th>\n",
       "      <th>L1_Freq</th>\n",
       "    </tr>\n",
       "  </thead>\n",
       "  <tbody>\n",
       "    <tr>\n",
       "      <th>count</th>\n",
       "      <td>30.000000</td>\n",
       "    </tr>\n",
       "    <tr>\n",
       "      <th>mean</th>\n",
       "      <td>4.613000</td>\n",
       "    </tr>\n",
       "    <tr>\n",
       "      <th>std</th>\n",
       "      <td>0.205177</td>\n",
       "    </tr>\n",
       "    <tr>\n",
       "      <th>min</th>\n",
       "      <td>4.420000</td>\n",
       "    </tr>\n",
       "    <tr>\n",
       "      <th>25%</th>\n",
       "      <td>4.465000</td>\n",
       "    </tr>\n",
       "    <tr>\n",
       "      <th>50%</th>\n",
       "      <td>4.575000</td>\n",
       "    </tr>\n",
       "    <tr>\n",
       "      <th>75%</th>\n",
       "      <td>4.667500</td>\n",
       "    </tr>\n",
       "    <tr>\n",
       "      <th>max</th>\n",
       "      <td>5.310000</td>\n",
       "    </tr>\n",
       "  </tbody>\n",
       "</table>\n",
       "</div>"
      ],
      "text/plain": [
       "         L1_Freq\n",
       "count  30.000000\n",
       "mean    4.613000\n",
       "std     0.205177\n",
       "min     4.420000\n",
       "25%     4.465000\n",
       "50%     4.575000\n",
       "75%     4.667500\n",
       "max     5.310000"
      ]
     },
     "execution_count": 306,
     "metadata": {},
     "output_type": "execute_result"
    }
   ],
   "source": [
    "HF_df = pd.DataFrame(\n",
    "    {\n",
    "        'Word': ['right', 'think', 'never', 'sorry', 'thank', 'love', 'maybe', 'help', 'these', 'night', 'first', 'great', 'life', 'still', 'those', 'other', 'stop', 'name', 'money', 'place', 'kind', 'hello', 'years', 'leave', 'girl', 'three', 'wrong', 'might', 'house', 'baby'],\n",
    "        'L1_Freq': [5.31, 5.14, 4.84, 4.78, 4.76, 4.76, 4.67, 4.67, 4.66, 4.65, 4.63, 4.62, 4.61, 4.60, 4.58, 4.57, 4.56, 4.52, 4.51, 4.49, 4.48, 4.48, 4.46, 4.46, 4.45, 4.44, 4.43, 4.42, 4.42, 4.42],\n",
    "    }\n",
    ")\n",
    "HF_df.describe()"
   ]
  },
  {
   "cell_type": "code",
   "execution_count": 307,
   "id": "89c1357d",
   "metadata": {},
   "outputs": [
    {
     "data": {
      "text/html": [
       "<div>\n",
       "<style scoped>\n",
       "    .dataframe tbody tr th:only-of-type {\n",
       "        vertical-align: middle;\n",
       "    }\n",
       "\n",
       "    .dataframe tbody tr th {\n",
       "        vertical-align: top;\n",
       "    }\n",
       "\n",
       "    .dataframe thead th {\n",
       "        text-align: right;\n",
       "    }\n",
       "</style>\n",
       "<table border=\"1\" class=\"dataframe\">\n",
       "  <thead>\n",
       "    <tr style=\"text-align: right;\">\n",
       "      <th></th>\n",
       "      <th>L1_Freq</th>\n",
       "    </tr>\n",
       "  </thead>\n",
       "  <tbody>\n",
       "    <tr>\n",
       "      <th>count</th>\n",
       "      <td>30.000000</td>\n",
       "    </tr>\n",
       "    <tr>\n",
       "      <th>mean</th>\n",
       "      <td>2.501333</td>\n",
       "    </tr>\n",
       "    <tr>\n",
       "      <th>std</th>\n",
       "      <td>0.082827</td>\n",
       "    </tr>\n",
       "    <tr>\n",
       "      <th>min</th>\n",
       "      <td>2.360000</td>\n",
       "    </tr>\n",
       "    <tr>\n",
       "      <th>25%</th>\n",
       "      <td>2.437500</td>\n",
       "    </tr>\n",
       "    <tr>\n",
       "      <th>50%</th>\n",
       "      <td>2.485000</td>\n",
       "    </tr>\n",
       "    <tr>\n",
       "      <th>75%</th>\n",
       "      <td>2.557500</td>\n",
       "    </tr>\n",
       "    <tr>\n",
       "      <th>max</th>\n",
       "      <td>2.710000</td>\n",
       "    </tr>\n",
       "  </tbody>\n",
       "</table>\n",
       "</div>"
      ],
      "text/plain": [
       "         L1_Freq\n",
       "count  30.000000\n",
       "mean    2.501333\n",
       "std     0.082827\n",
       "min     2.360000\n",
       "25%     2.437500\n",
       "50%     2.485000\n",
       "75%     2.557500\n",
       "max     2.710000"
      ]
     },
     "execution_count": 307,
     "metadata": {},
     "output_type": "execute_result"
    }
   ],
   "source": [
    "LF_df = pd.DataFrame(\n",
    "    {\n",
    "        'Word': ['skirt', 'creek', 'laser', 'stove', 'chili', \n",
    "                 'armor', 'draft', 'jelly', 'shelf', 'hobby', \n",
    "                 'tubes', 'peach', 'booty', 'cloth', 'debts', \n",
    "                 'glue', 'spine', 'clip', 'tomb', 'scope', \n",
    "                 'dove', 'vest', 'lone', 'buyer', 'mode', \n",
    "                 'waist', 'thorn', 'flick', 'hound', 'crow'],\n",
    "        'L1_Freq': [2.71, 2.66, 2.64, 2.59, 2.58, \n",
    "                    2.57, 2.57, 2.56, 2.55, 2.55, \n",
    "                    2.53, 2.51, 2.50, 2.49, 2.49, \n",
    "                    2.48, 2.47, 2.46, 2.46, 2.46, \n",
    "                    2.46, 2.46, 2.43, 2.42, 2.42, \n",
    "                    2.42, 2.42, 2.41, 2.41, 2.36],\n",
    "    }\n",
    ")\n",
    "LF_df.describe()"
   ]
  },
  {
   "cell_type": "code",
   "execution_count": 265,
   "id": "f55d4b0a",
   "metadata": {},
   "outputs": [],
   "source": [
    "CSAT_lexicon_proj_file_path = os.path.join(os.path.dirname(os.path.dirname(Path.cwd())), 'Corpora', 'merged_corpora', 'CSAT_E_lexicon.xlsx')"
   ]
  },
  {
   "cell_type": "code",
   "execution_count": 308,
   "id": "5d1243d1",
   "metadata": {},
   "outputs": [
    {
     "data": {
      "text/html": [
       "<div>\n",
       "<style scoped>\n",
       "    .dataframe tbody tr th:only-of-type {\n",
       "        vertical-align: middle;\n",
       "    }\n",
       "\n",
       "    .dataframe tbody tr th {\n",
       "        vertical-align: top;\n",
       "    }\n",
       "\n",
       "    .dataframe thead th {\n",
       "        text-align: right;\n",
       "    }\n",
       "</style>\n",
       "<table border=\"1\" class=\"dataframe\">\n",
       "  <thead>\n",
       "    <tr style=\"text-align: right;\">\n",
       "      <th></th>\n",
       "      <th>Word</th>\n",
       "      <th>Length</th>\n",
       "      <th>CSAT_Freq</th>\n",
       "      <th>CSAT_only_Freq</th>\n",
       "      <th>Textbook_only_Freq</th>\n",
       "      <th>Freq_HAL</th>\n",
       "      <th>SUBTLWF</th>\n",
       "      <th>CSAT_RFreq</th>\n",
       "      <th>CSAT_only_RFreq</th>\n",
       "      <th>Textbook_only_RFreq</th>\n",
       "      <th>Ortho_N_CSAT</th>\n",
       "      <th>Ortho_N_CSAT(only)</th>\n",
       "      <th>Ortho_N_Textbook(only)</th>\n",
       "      <th>Ortho_N</th>\n",
       "      <th>OLD20_CSAT</th>\n",
       "      <th>OLD20_CSAT(only)</th>\n",
       "      <th>OLD20_Textbook(only)</th>\n",
       "      <th>OLD</th>\n",
       "      <th>SUBTLCD</th>\n",
       "      <th>POS</th>\n",
       "    </tr>\n",
       "  </thead>\n",
       "  <tbody>\n",
       "    <tr>\n",
       "      <th>0</th>\n",
       "      <td>a</td>\n",
       "      <td>1</td>\n",
       "      <td>17505.0</td>\n",
       "      <td>9773.0</td>\n",
       "      <td>7732.0</td>\n",
       "      <td>10610626</td>\n",
       "      <td>20415.27</td>\n",
       "      <td>0.017505</td>\n",
       "      <td>0.009773</td>\n",
       "      <td>0.007732</td>\n",
       "      <td>1.0</td>\n",
       "      <td>1.0</td>\n",
       "      <td>1.0</td>\n",
       "      <td>1</td>\n",
       "      <td>1.45</td>\n",
       "      <td>1.45</td>\n",
       "      <td>1.45</td>\n",
       "      <td>1.45</td>\n",
       "      <td>99.93</td>\n",
       "      <td>minor|NN</td>\n",
       "    </tr>\n",
       "    <tr>\n",
       "      <th>1</th>\n",
       "      <td>aah</td>\n",
       "      <td>3</td>\n",
       "      <td>NaN</td>\n",
       "      <td>NaN</td>\n",
       "      <td>NaN</td>\n",
       "      <td>222</td>\n",
       "      <td>52.71</td>\n",
       "      <td>NaN</td>\n",
       "      <td>NaN</td>\n",
       "      <td>NaN</td>\n",
       "      <td>NaN</td>\n",
       "      <td>NaN</td>\n",
       "      <td>NaN</td>\n",
       "      <td>2</td>\n",
       "      <td>NaN</td>\n",
       "      <td>NaN</td>\n",
       "      <td>NaN</td>\n",
       "      <td>1.85</td>\n",
       "      <td>7.56</td>\n",
       "      <td>NaN</td>\n",
       "    </tr>\n",
       "    <tr>\n",
       "      <th>2</th>\n",
       "      <td>aaron</td>\n",
       "      <td>5</td>\n",
       "      <td>7.0</td>\n",
       "      <td>1.0</td>\n",
       "      <td>6.0</td>\n",
       "      <td>10806</td>\n",
       "      <td>14.65</td>\n",
       "      <td>0.000007</td>\n",
       "      <td>0.000001</td>\n",
       "      <td>0.000006</td>\n",
       "      <td>1.0</td>\n",
       "      <td>1.0</td>\n",
       "      <td>0.0</td>\n",
       "      <td>3</td>\n",
       "      <td>1.85</td>\n",
       "      <td>1.95</td>\n",
       "      <td>2.00</td>\n",
       "      <td>1.85</td>\n",
       "      <td>1.93</td>\n",
       "      <td>NN</td>\n",
       "    </tr>\n",
       "    <tr>\n",
       "      <th>3</th>\n",
       "      <td>aback</td>\n",
       "      <td>5</td>\n",
       "      <td>NaN</td>\n",
       "      <td>NaN</td>\n",
       "      <td>NaN</td>\n",
       "      <td>387</td>\n",
       "      <td>0.29</td>\n",
       "      <td>NaN</td>\n",
       "      <td>NaN</td>\n",
       "      <td>NaN</td>\n",
       "      <td>NaN</td>\n",
       "      <td>NaN</td>\n",
       "      <td>NaN</td>\n",
       "      <td>0</td>\n",
       "      <td>NaN</td>\n",
       "      <td>NaN</td>\n",
       "      <td>NaN</td>\n",
       "      <td>1.95</td>\n",
       "      <td>0.18</td>\n",
       "      <td>RB</td>\n",
       "    </tr>\n",
       "    <tr>\n",
       "      <th>4</th>\n",
       "      <td>abacus</td>\n",
       "      <td>6</td>\n",
       "      <td>NaN</td>\n",
       "      <td>NaN</td>\n",
       "      <td>NaN</td>\n",
       "      <td>513</td>\n",
       "      <td>0.24</td>\n",
       "      <td>NaN</td>\n",
       "      <td>NaN</td>\n",
       "      <td>NaN</td>\n",
       "      <td>NaN</td>\n",
       "      <td>NaN</td>\n",
       "      <td>NaN</td>\n",
       "      <td>0</td>\n",
       "      <td>NaN</td>\n",
       "      <td>NaN</td>\n",
       "      <td>NaN</td>\n",
       "      <td>2.90</td>\n",
       "      <td>0.12</td>\n",
       "      <td>NN</td>\n",
       "    </tr>\n",
       "    <tr>\n",
       "      <th>...</th>\n",
       "      <td>...</td>\n",
       "      <td>...</td>\n",
       "      <td>...</td>\n",
       "      <td>...</td>\n",
       "      <td>...</td>\n",
       "      <td>...</td>\n",
       "      <td>...</td>\n",
       "      <td>...</td>\n",
       "      <td>...</td>\n",
       "      <td>...</td>\n",
       "      <td>...</td>\n",
       "      <td>...</td>\n",
       "      <td>...</td>\n",
       "      <td>...</td>\n",
       "      <td>...</td>\n",
       "      <td>...</td>\n",
       "      <td>...</td>\n",
       "      <td>...</td>\n",
       "      <td>...</td>\n",
       "      <td>...</td>\n",
       "    </tr>\n",
       "    <tr>\n",
       "      <th>40476</th>\n",
       "      <td>zoom</td>\n",
       "      <td>4</td>\n",
       "      <td>NaN</td>\n",
       "      <td>NaN</td>\n",
       "      <td>NaN</td>\n",
       "      <td>4920</td>\n",
       "      <td>3.55</td>\n",
       "      <td>NaN</td>\n",
       "      <td>NaN</td>\n",
       "      <td>NaN</td>\n",
       "      <td>NaN</td>\n",
       "      <td>NaN</td>\n",
       "      <td>NaN</td>\n",
       "      <td>4</td>\n",
       "      <td>NaN</td>\n",
       "      <td>NaN</td>\n",
       "      <td>NaN</td>\n",
       "      <td>1.70</td>\n",
       "      <td>1.29</td>\n",
       "      <td>VB|NN</td>\n",
       "    </tr>\n",
       "    <tr>\n",
       "      <th>40477</th>\n",
       "      <td>zooming</td>\n",
       "      <td>7</td>\n",
       "      <td>NaN</td>\n",
       "      <td>NaN</td>\n",
       "      <td>NaN</td>\n",
       "      <td>523</td>\n",
       "      <td>0.63</td>\n",
       "      <td>NaN</td>\n",
       "      <td>NaN</td>\n",
       "      <td>NaN</td>\n",
       "      <td>NaN</td>\n",
       "      <td>NaN</td>\n",
       "      <td>NaN</td>\n",
       "      <td>3</td>\n",
       "      <td>NaN</td>\n",
       "      <td>NaN</td>\n",
       "      <td>NaN</td>\n",
       "      <td>1.85</td>\n",
       "      <td>0.31</td>\n",
       "      <td>VB</td>\n",
       "    </tr>\n",
       "    <tr>\n",
       "      <th>40478</th>\n",
       "      <td>zooms</td>\n",
       "      <td>5</td>\n",
       "      <td>NaN</td>\n",
       "      <td>NaN</td>\n",
       "      <td>NaN</td>\n",
       "      <td>385</td>\n",
       "      <td>0.06</td>\n",
       "      <td>NaN</td>\n",
       "      <td>NaN</td>\n",
       "      <td>NaN</td>\n",
       "      <td>NaN</td>\n",
       "      <td>NaN</td>\n",
       "      <td>NaN</td>\n",
       "      <td>3</td>\n",
       "      <td>NaN</td>\n",
       "      <td>NaN</td>\n",
       "      <td>NaN</td>\n",
       "      <td>1.80</td>\n",
       "      <td>0.04</td>\n",
       "      <td>VB</td>\n",
       "    </tr>\n",
       "    <tr>\n",
       "      <th>40479</th>\n",
       "      <td>zucchini</td>\n",
       "      <td>8</td>\n",
       "      <td>NaN</td>\n",
       "      <td>NaN</td>\n",
       "      <td>NaN</td>\n",
       "      <td>314</td>\n",
       "      <td>0.96</td>\n",
       "      <td>NaN</td>\n",
       "      <td>NaN</td>\n",
       "      <td>NaN</td>\n",
       "      <td>NaN</td>\n",
       "      <td>NaN</td>\n",
       "      <td>NaN</td>\n",
       "      <td>0</td>\n",
       "      <td>NaN</td>\n",
       "      <td>NaN</td>\n",
       "      <td>NaN</td>\n",
       "      <td>3.75</td>\n",
       "      <td>0.25</td>\n",
       "      <td>NN</td>\n",
       "    </tr>\n",
       "    <tr>\n",
       "      <th>40480</th>\n",
       "      <td>zurich</td>\n",
       "      <td>6</td>\n",
       "      <td>NaN</td>\n",
       "      <td>NaN</td>\n",
       "      <td>NaN</td>\n",
       "      <td>1770</td>\n",
       "      <td>2.43</td>\n",
       "      <td>NaN</td>\n",
       "      <td>NaN</td>\n",
       "      <td>NaN</td>\n",
       "      <td>NaN</td>\n",
       "      <td>NaN</td>\n",
       "      <td>NaN</td>\n",
       "      <td>0</td>\n",
       "      <td>NaN</td>\n",
       "      <td>NaN</td>\n",
       "      <td>NaN</td>\n",
       "      <td>2.80</td>\n",
       "      <td>0.74</td>\n",
       "      <td>NN</td>\n",
       "    </tr>\n",
       "  </tbody>\n",
       "</table>\n",
       "<p>40481 rows × 20 columns</p>\n",
       "</div>"
      ],
      "text/plain": [
       "           Word  Length  CSAT_Freq  CSAT_only_Freq  Textbook_only_Freq  \\\n",
       "0             a       1    17505.0          9773.0              7732.0   \n",
       "1           aah       3        NaN             NaN                 NaN   \n",
       "2         aaron       5        7.0             1.0                 6.0   \n",
       "3         aback       5        NaN             NaN                 NaN   \n",
       "4        abacus       6        NaN             NaN                 NaN   \n",
       "...         ...     ...        ...             ...                 ...   \n",
       "40476      zoom       4        NaN             NaN                 NaN   \n",
       "40477   zooming       7        NaN             NaN                 NaN   \n",
       "40478     zooms       5        NaN             NaN                 NaN   \n",
       "40479  zucchini       8        NaN             NaN                 NaN   \n",
       "40480    zurich       6        NaN             NaN                 NaN   \n",
       "\n",
       "       Freq_HAL   SUBTLWF  CSAT_RFreq  CSAT_only_RFreq  Textbook_only_RFreq  \\\n",
       "0      10610626  20415.27    0.017505         0.009773             0.007732   \n",
       "1           222     52.71         NaN              NaN                  NaN   \n",
       "2         10806     14.65    0.000007         0.000001             0.000006   \n",
       "3           387      0.29         NaN              NaN                  NaN   \n",
       "4           513      0.24         NaN              NaN                  NaN   \n",
       "...         ...       ...         ...              ...                  ...   \n",
       "40476      4920      3.55         NaN              NaN                  NaN   \n",
       "40477       523      0.63         NaN              NaN                  NaN   \n",
       "40478       385      0.06         NaN              NaN                  NaN   \n",
       "40479       314      0.96         NaN              NaN                  NaN   \n",
       "40480      1770      2.43         NaN              NaN                  NaN   \n",
       "\n",
       "       Ortho_N_CSAT  Ortho_N_CSAT(only)  Ortho_N_Textbook(only)  Ortho_N  \\\n",
       "0               1.0                 1.0                     1.0        1   \n",
       "1               NaN                 NaN                     NaN        2   \n",
       "2               1.0                 1.0                     0.0        3   \n",
       "3               NaN                 NaN                     NaN        0   \n",
       "4               NaN                 NaN                     NaN        0   \n",
       "...             ...                 ...                     ...      ...   \n",
       "40476           NaN                 NaN                     NaN        4   \n",
       "40477           NaN                 NaN                     NaN        3   \n",
       "40478           NaN                 NaN                     NaN        3   \n",
       "40479           NaN                 NaN                     NaN        0   \n",
       "40480           NaN                 NaN                     NaN        0   \n",
       "\n",
       "       OLD20_CSAT  OLD20_CSAT(only)  OLD20_Textbook(only)   OLD  SUBTLCD  \\\n",
       "0            1.45              1.45                  1.45  1.45    99.93   \n",
       "1             NaN               NaN                   NaN  1.85     7.56   \n",
       "2            1.85              1.95                  2.00  1.85     1.93   \n",
       "3             NaN               NaN                   NaN  1.95     0.18   \n",
       "4             NaN               NaN                   NaN  2.90     0.12   \n",
       "...           ...               ...                   ...   ...      ...   \n",
       "40476         NaN               NaN                   NaN  1.70     1.29   \n",
       "40477         NaN               NaN                   NaN  1.85     0.31   \n",
       "40478         NaN               NaN                   NaN  1.80     0.04   \n",
       "40479         NaN               NaN                   NaN  3.75     0.25   \n",
       "40480         NaN               NaN                   NaN  2.80     0.74   \n",
       "\n",
       "            POS  \n",
       "0      minor|NN  \n",
       "1           NaN  \n",
       "2            NN  \n",
       "3            RB  \n",
       "4            NN  \n",
       "...         ...  \n",
       "40476     VB|NN  \n",
       "40477        VB  \n",
       "40478        VB  \n",
       "40479        NN  \n",
       "40480        NN  \n",
       "\n",
       "[40481 rows x 20 columns]"
      ]
     },
     "execution_count": 308,
     "metadata": {},
     "output_type": "execute_result"
    }
   ],
   "source": [
    "df = pd.read_excel(CSAT_lexicon_proj_file_path)\n",
    "df"
   ]
  },
  {
   "cell_type": "code",
   "execution_count": 320,
   "id": "f72524a9",
   "metadata": {},
   "outputs": [],
   "source": [
    "def plot(df0: pd.DataFrame, df1: pd.DataFrame, df2: pd.DataFrame):\n",
    "    sample_df = pd.merge(df0, df1, how='inner', on='Word')[['Word', 'SUBTLWF', 'CSAT_Freq', 'Freq_HAL']]\n",
    "    sample_df['Freq_type'] = 'HF'\n",
    "    sample2_df = pd.merge(df0, df2, how='inner', on='Word')[['Word', 'SUBTLWF', 'CSAT_Freq', 'Freq_HAL']]\n",
    "    sample2_df['Freq_type'] = 'LF'\n",
    "    sample_df = pd.concat([sample_df, sample2_df], ignore_index=True)\n",
    "    target_col = ['SUBTLWF', 'CSAT_Freq', 'Freq_HAL']\n",
    "    sample_df[target_col] = sample_df[target_col].apply(lambda x: stats.zscore(x, nan_policy='omit'))\n",
    "    #sample_df['CSAT_Freq'] = sample_df['CSAT_Freq'] / (800000.0) # 상대빈도수 scaling 전체 코퍼스 대비 빈도수로 변환.\n",
    "    #sample_df['Freq_HAL'] = sample_df['Freq_HAL'] / (130000000.0) # 상대빈도수 scaling 전체 코퍼스 대비 빈도수로 변환.\n",
    "    #sample_df['SUBTLWF'] = sample_df['SUBTLWF'] / (51.0) # 상대빈도수 scaling 전체 코퍼스 대비 빈도수로 변환.\n",
    "    sample_df = sample_df.melt(id_vars=['Word', 'Freq_type'], var_name='Corpus', value_name='Freq')\n",
    "    print(sample_df.describe())\n",
    "    plt.figure(figsize=(5, 8))\n",
    "    plt.ylim(-1.5, 4)\n",
    "    sns.boxplot(sample_df, x='Freq_type', y='Freq', hue='Corpus')"
   ]
  },
  {
   "cell_type": "code",
   "execution_count": 321,
   "id": "624cec54",
   "metadata": {},
   "outputs": [
    {
     "name": "stdout",
     "output_type": "stream",
     "text": [
      "               Freq\n",
      "count  1.760000e+02\n",
      "mean   2.018587e-17\n",
      "std    1.002853e+00\n",
      "min   -7.550540e-01\n",
      "25%   -6.819339e-01\n",
      "50%   -5.000683e-01\n",
      "75%    3.980157e-01\n",
      "max    5.220737e+00\n"
     ]
    },
    {
     "data": {
      "image/png": "[encoded data removed]",
      "text/plain": [
       "<Figure size 500x800 with 1 Axes>"
      ]
     },
     "metadata": {},
     "output_type": "display_data"
    }
   ],
   "source": [
    "plot(df, HF_df, LF_df)"
   ]
  },
  {
   "cell_type": "code",
   "execution_count": null,
   "id": "6bc70eff",
   "metadata": {},
   "outputs": [
    {
     "data": {
      "text/html": [
       "<div>\n",
       "<style scoped>\n",
       "    .dataframe tbody tr th:only-of-type {\n",
       "        vertical-align: middle;\n",
       "    }\n",
       "\n",
       "    .dataframe tbody tr th {\n",
       "        vertical-align: top;\n",
       "    }\n",
       "\n",
       "    .dataframe thead th {\n",
       "        text-align: right;\n",
       "    }\n",
       "</style>\n",
       "<table border=\"1\" class=\"dataframe\">\n",
       "  <thead>\n",
       "    <tr style=\"text-align: right;\">\n",
       "      <th></th>\n",
       "      <th>Word</th>\n",
       "      <th>SUBTLWF</th>\n",
       "      <th>CSAT_Freq</th>\n",
       "      <th>Freq_HAL</th>\n",
       "      <th>Freq_type</th>\n",
       "    </tr>\n",
       "  </thead>\n",
       "  <tbody>\n",
       "    <tr>\n",
       "      <th>0</th>\n",
       "      <td>baby</td>\n",
       "      <td>509.37</td>\n",
       "      <td>57.0</td>\n",
       "      <td>35810</td>\n",
       "      <td>HF</td>\n",
       "    </tr>\n",
       "    <tr>\n",
       "      <th>1</th>\n",
       "      <td>first</td>\n",
       "      <td>840.57</td>\n",
       "      <td>1041.0</td>\n",
       "      <td>518924</td>\n",
       "      <td>HF</td>\n",
       "    </tr>\n",
       "    <tr>\n",
       "      <th>2</th>\n",
       "      <td>girl</td>\n",
       "      <td>557.12</td>\n",
       "      <td>91.0</td>\n",
       "      <td>40340</td>\n",
       "      <td>HF</td>\n",
       "    </tr>\n",
       "    <tr>\n",
       "      <th>3</th>\n",
       "      <td>great</td>\n",
       "      <td>820.86</td>\n",
       "      <td>881.0</td>\n",
       "      <td>260267</td>\n",
       "      <td>HF</td>\n",
       "    </tr>\n",
       "    <tr>\n",
       "      <th>4</th>\n",
       "      <td>hello</td>\n",
       "      <td>585.43</td>\n",
       "      <td>290.0</td>\n",
       "      <td>41649</td>\n",
       "      <td>HF</td>\n",
       "    </tr>\n",
       "    <tr>\n",
       "      <th>5</th>\n",
       "      <td>help</td>\n",
       "      <td>921.12</td>\n",
       "      <td>925.0</td>\n",
       "      <td>335483</td>\n",
       "      <td>HF</td>\n",
       "    </tr>\n",
       "    <tr>\n",
       "      <th>6</th>\n",
       "      <td>house</td>\n",
       "      <td>514.00</td>\n",
       "      <td>320.0</td>\n",
       "      <td>104153</td>\n",
       "      <td>HF</td>\n",
       "    </tr>\n",
       "    <tr>\n",
       "      <th>7</th>\n",
       "      <td>kind</td>\n",
       "      <td>590.69</td>\n",
       "      <td>209.0</td>\n",
       "      <td>131849</td>\n",
       "      <td>HF</td>\n",
       "    </tr>\n",
       "    <tr>\n",
       "      <th>8</th>\n",
       "      <td>leave</td>\n",
       "      <td>560.71</td>\n",
       "      <td>155.0</td>\n",
       "      <td>76506</td>\n",
       "      <td>HF</td>\n",
       "    </tr>\n",
       "    <tr>\n",
       "      <th>9</th>\n",
       "      <td>life</td>\n",
       "      <td>796.65</td>\n",
       "      <td>872.0</td>\n",
       "      <td>219561</td>\n",
       "      <td>HF</td>\n",
       "    </tr>\n",
       "    <tr>\n",
       "      <th>10</th>\n",
       "      <td>love</td>\n",
       "      <td>1114.98</td>\n",
       "      <td>362.0</td>\n",
       "      <td>165830</td>\n",
       "      <td>HF</td>\n",
       "    </tr>\n",
       "    <tr>\n",
       "      <th>11</th>\n",
       "      <td>maybe</td>\n",
       "      <td>926.45</td>\n",
       "      <td>136.0</td>\n",
       "      <td>166009</td>\n",
       "      <td>HF</td>\n",
       "    </tr>\n",
       "    <tr>\n",
       "      <th>12</th>\n",
       "      <td>might</td>\n",
       "      <td>516.35</td>\n",
       "      <td>460.0</td>\n",
       "      <td>277738</td>\n",
       "      <td>HF</td>\n",
       "    </tr>\n",
       "    <tr>\n",
       "      <th>13</th>\n",
       "      <td>money</td>\n",
       "      <td>640.76</td>\n",
       "      <td>333.0</td>\n",
       "      <td>209588</td>\n",
       "      <td>HF</td>\n",
       "    </tr>\n",
       "    <tr>\n",
       "      <th>14</th>\n",
       "      <td>name</td>\n",
       "      <td>641.86</td>\n",
       "      <td>256.0</td>\n",
       "      <td>297695</td>\n",
       "      <td>HF</td>\n",
       "    </tr>\n",
       "    <tr>\n",
       "      <th>15</th>\n",
       "      <td>never</td>\n",
       "      <td>1362.55</td>\n",
       "      <td>390.0</td>\n",
       "      <td>303028</td>\n",
       "      <td>HF</td>\n",
       "    </tr>\n",
       "    <tr>\n",
       "      <th>16</th>\n",
       "      <td>night</td>\n",
       "      <td>866.04</td>\n",
       "      <td>326.0</td>\n",
       "      <td>97524</td>\n",
       "      <td>HF</td>\n",
       "    </tr>\n",
       "    <tr>\n",
       "      <th>17</th>\n",
       "      <td>other</td>\n",
       "      <td>735.39</td>\n",
       "      <td>1437.0</td>\n",
       "      <td>897942</td>\n",
       "      <td>HF</td>\n",
       "    </tr>\n",
       "    <tr>\n",
       "      <th>18</th>\n",
       "      <td>place</td>\n",
       "      <td>602.67</td>\n",
       "      <td>511.0</td>\n",
       "      <td>195199</td>\n",
       "      <td>HF</td>\n",
       "    </tr>\n",
       "    <tr>\n",
       "      <th>19</th>\n",
       "      <td>right</td>\n",
       "      <td>4008.39</td>\n",
       "      <td>922.0</td>\n",
       "      <td>388384</td>\n",
       "      <td>HF</td>\n",
       "    </tr>\n",
       "    <tr>\n",
       "      <th>20</th>\n",
       "      <td>sorry</td>\n",
       "      <td>1167.96</td>\n",
       "      <td>234.0</td>\n",
       "      <td>93412</td>\n",
       "      <td>HF</td>\n",
       "    </tr>\n",
       "    <tr>\n",
       "      <th>21</th>\n",
       "      <td>still</td>\n",
       "      <td>788.73</td>\n",
       "      <td>451.0</td>\n",
       "      <td>363407</td>\n",
       "      <td>HF</td>\n",
       "    </tr>\n",
       "    <tr>\n",
       "      <th>22</th>\n",
       "      <td>stop</td>\n",
       "      <td>707.27</td>\n",
       "      <td>177.0</td>\n",
       "      <td>96586</td>\n",
       "      <td>HF</td>\n",
       "    </tr>\n",
       "    <tr>\n",
       "      <th>23</th>\n",
       "      <td>thank</td>\n",
       "      <td>1115.24</td>\n",
       "      <td>312.0</td>\n",
       "      <td>95706</td>\n",
       "      <td>HF</td>\n",
       "    </tr>\n",
       "    <tr>\n",
       "      <th>24</th>\n",
       "      <td>these</td>\n",
       "      <td>904.00</td>\n",
       "      <td>1284.0</td>\n",
       "      <td>591805</td>\n",
       "      <td>HF</td>\n",
       "    </tr>\n",
       "    <tr>\n",
       "      <th>25</th>\n",
       "      <td>think</td>\n",
       "      <td>2691.39</td>\n",
       "      <td>1014.0</td>\n",
       "      <td>652944</td>\n",
       "      <td>HF</td>\n",
       "    </tr>\n",
       "    <tr>\n",
       "      <th>26</th>\n",
       "      <td>those</td>\n",
       "      <td>753.02</td>\n",
       "      <td>557.0</td>\n",
       "      <td>415648</td>\n",
       "      <td>HF</td>\n",
       "    </tr>\n",
       "    <tr>\n",
       "      <th>27</th>\n",
       "      <td>three</td>\n",
       "      <td>542.24</td>\n",
       "      <td>439.0</td>\n",
       "      <td>165169</td>\n",
       "      <td>HF</td>\n",
       "    </tr>\n",
       "    <tr>\n",
       "      <th>28</th>\n",
       "      <td>wrong</td>\n",
       "      <td>523.10</td>\n",
       "      <td>170.0</td>\n",
       "      <td>138848</td>\n",
       "      <td>HF</td>\n",
       "    </tr>\n",
       "    <tr>\n",
       "      <th>29</th>\n",
       "      <td>years</td>\n",
       "      <td>568.69</td>\n",
       "      <td>629.0</td>\n",
       "      <td>348898</td>\n",
       "      <td>HF</td>\n",
       "    </tr>\n",
       "  </tbody>\n",
       "</table>\n",
       "</div>"
      ],
      "text/plain": [
       "     Word  SUBTLWF  CSAT_Freq  Freq_HAL Freq_type\n",
       "0    baby   509.37       57.0     35810        HF\n",
       "1   first   840.57     1041.0    518924        HF\n",
       "2    girl   557.12       91.0     40340        HF\n",
       "3   great   820.86      881.0    260267        HF\n",
       "4   hello   585.43      290.0     41649        HF\n",
       "5    help   921.12      925.0    335483        HF\n",
       "6   house   514.00      320.0    104153        HF\n",
       "7    kind   590.69      209.0    131849        HF\n",
       "8   leave   560.71      155.0     76506        HF\n",
       "9    life   796.65      872.0    219561        HF\n",
       "10   love  1114.98      362.0    165830        HF\n",
       "11  maybe   926.45      136.0    166009        HF\n",
       "12  might   516.35      460.0    277738        HF\n",
       "13  money   640.76      333.0    209588        HF\n",
       "14   name   641.86      256.0    297695        HF\n",
       "15  never  1362.55      390.0    303028        HF\n",
       "16  night   866.04      326.0     97524        HF\n",
       "17  other   735.39     1437.0    897942        HF\n",
       "18  place   602.67      511.0    195199        HF\n",
       "19  right  4008.39      922.0    388384        HF\n",
       "20  sorry  1167.96      234.0     93412        HF\n",
       "21  still   788.73      451.0    363407        HF\n",
       "22   stop   707.27      177.0     96586        HF\n",
       "23  thank  1115.24      312.0     95706        HF\n",
       "24  these   904.00     1284.0    591805        HF\n",
       "25  think  2691.39     1014.0    652944        HF\n",
       "26  those   753.02      557.0    415648        HF\n",
       "27  three   542.24      439.0    165169        HF\n",
       "28  wrong   523.10      170.0    138848        HF\n",
       "29  years   568.69      629.0    348898        HF"
      ]
     },
     "execution_count": 282,
     "metadata": {},
     "output_type": "execute_result"
    }
   ],
   "source": [
    "sample_df = pd.merge(df, HF_df, how='inner', on='Word')[['Word', 'SUBTLWF', 'CSAT_Freq', 'Freq_HAL']]\n",
    "sample_df['Freq_type'] = 'HF'\n",
    "sample_df"
   ]
  },
  {
   "cell_type": "code",
   "execution_count": 283,
   "id": "bf1cb9ea",
   "metadata": {},
   "outputs": [
    {
     "data": {
      "text/html": [
       "<div>\n",
       "<style scoped>\n",
       "    .dataframe tbody tr th:only-of-type {\n",
       "        vertical-align: middle;\n",
       "    }\n",
       "\n",
       "    .dataframe tbody tr th {\n",
       "        vertical-align: top;\n",
       "    }\n",
       "\n",
       "    .dataframe thead th {\n",
       "        text-align: right;\n",
       "    }\n",
       "</style>\n",
       "<table border=\"1\" class=\"dataframe\">\n",
       "  <thead>\n",
       "    <tr style=\"text-align: right;\">\n",
       "      <th></th>\n",
       "      <th>Word</th>\n",
       "      <th>SUBTLWF</th>\n",
       "      <th>CSAT_Freq</th>\n",
       "      <th>Freq_HAL</th>\n",
       "      <th>Freq_type</th>\n",
       "    </tr>\n",
       "  </thead>\n",
       "  <tbody>\n",
       "    <tr>\n",
       "      <th>0</th>\n",
       "      <td>armor</td>\n",
       "      <td>7.29</td>\n",
       "      <td>4.0</td>\n",
       "      <td>13211</td>\n",
       "      <td>LF</td>\n",
       "    </tr>\n",
       "    <tr>\n",
       "      <th>1</th>\n",
       "      <td>booty</td>\n",
       "      <td>6.14</td>\n",
       "      <td>NaN</td>\n",
       "      <td>372</td>\n",
       "      <td>LF</td>\n",
       "    </tr>\n",
       "    <tr>\n",
       "      <th>2</th>\n",
       "      <td>buyer</td>\n",
       "      <td>5.18</td>\n",
       "      <td>6.0</td>\n",
       "      <td>17902</td>\n",
       "      <td>LF</td>\n",
       "    </tr>\n",
       "    <tr>\n",
       "      <th>3</th>\n",
       "      <td>chili</td>\n",
       "      <td>7.49</td>\n",
       "      <td>7.0</td>\n",
       "      <td>1783</td>\n",
       "      <td>LF</td>\n",
       "    </tr>\n",
       "    <tr>\n",
       "      <th>4</th>\n",
       "      <td>clip</td>\n",
       "      <td>5.69</td>\n",
       "      <td>17.0</td>\n",
       "      <td>7281</td>\n",
       "      <td>LF</td>\n",
       "    </tr>\n",
       "    <tr>\n",
       "      <th>5</th>\n",
       "      <td>cloth</td>\n",
       "      <td>6.10</td>\n",
       "      <td>19.0</td>\n",
       "      <td>11191</td>\n",
       "      <td>LF</td>\n",
       "    </tr>\n",
       "    <tr>\n",
       "      <th>6</th>\n",
       "      <td>creek</td>\n",
       "      <td>8.90</td>\n",
       "      <td>4.0</td>\n",
       "      <td>8465</td>\n",
       "      <td>LF</td>\n",
       "    </tr>\n",
       "    <tr>\n",
       "      <th>7</th>\n",
       "      <td>crow</td>\n",
       "      <td>4.45</td>\n",
       "      <td>27.0</td>\n",
       "      <td>4667</td>\n",
       "      <td>LF</td>\n",
       "    </tr>\n",
       "    <tr>\n",
       "      <th>8</th>\n",
       "      <td>debts</td>\n",
       "      <td>6.10</td>\n",
       "      <td>1.0</td>\n",
       "      <td>2235</td>\n",
       "      <td>LF</td>\n",
       "    </tr>\n",
       "    <tr>\n",
       "      <th>9</th>\n",
       "      <td>dove</td>\n",
       "      <td>5.57</td>\n",
       "      <td>2.0</td>\n",
       "      <td>2713</td>\n",
       "      <td>LF</td>\n",
       "    </tr>\n",
       "    <tr>\n",
       "      <th>10</th>\n",
       "      <td>draft</td>\n",
       "      <td>7.27</td>\n",
       "      <td>11.0</td>\n",
       "      <td>14141</td>\n",
       "      <td>LF</td>\n",
       "    </tr>\n",
       "    <tr>\n",
       "      <th>11</th>\n",
       "      <td>flick</td>\n",
       "      <td>5.04</td>\n",
       "      <td>NaN</td>\n",
       "      <td>2252</td>\n",
       "      <td>LF</td>\n",
       "    </tr>\n",
       "    <tr>\n",
       "      <th>12</th>\n",
       "      <td>glue</td>\n",
       "      <td>5.88</td>\n",
       "      <td>8.0</td>\n",
       "      <td>5283</td>\n",
       "      <td>LF</td>\n",
       "    </tr>\n",
       "    <tr>\n",
       "      <th>13</th>\n",
       "      <td>hobby</td>\n",
       "      <td>6.94</td>\n",
       "      <td>20.0</td>\n",
       "      <td>7899</td>\n",
       "      <td>LF</td>\n",
       "    </tr>\n",
       "    <tr>\n",
       "      <th>14</th>\n",
       "      <td>hound</td>\n",
       "      <td>5.04</td>\n",
       "      <td>NaN</td>\n",
       "      <td>2575</td>\n",
       "      <td>LF</td>\n",
       "    </tr>\n",
       "    <tr>\n",
       "      <th>15</th>\n",
       "      <td>jelly</td>\n",
       "      <td>7.12</td>\n",
       "      <td>2.0</td>\n",
       "      <td>2029</td>\n",
       "      <td>LF</td>\n",
       "    </tr>\n",
       "    <tr>\n",
       "      <th>16</th>\n",
       "      <td>laser</td>\n",
       "      <td>8.49</td>\n",
       "      <td>4.0</td>\n",
       "      <td>16120</td>\n",
       "      <td>LF</td>\n",
       "    </tr>\n",
       "    <tr>\n",
       "      <th>17</th>\n",
       "      <td>lone</td>\n",
       "      <td>5.25</td>\n",
       "      <td>5.0</td>\n",
       "      <td>6448</td>\n",
       "      <td>LF</td>\n",
       "    </tr>\n",
       "    <tr>\n",
       "      <th>18</th>\n",
       "      <td>mode</td>\n",
       "      <td>5.16</td>\n",
       "      <td>13.0</td>\n",
       "      <td>65878</td>\n",
       "      <td>LF</td>\n",
       "    </tr>\n",
       "    <tr>\n",
       "      <th>19</th>\n",
       "      <td>peach</td>\n",
       "      <td>6.35</td>\n",
       "      <td>3.0</td>\n",
       "      <td>1812</td>\n",
       "      <td>LF</td>\n",
       "    </tr>\n",
       "    <tr>\n",
       "      <th>20</th>\n",
       "      <td>scope</td>\n",
       "      <td>5.61</td>\n",
       "      <td>6.0</td>\n",
       "      <td>10774</td>\n",
       "      <td>LF</td>\n",
       "    </tr>\n",
       "    <tr>\n",
       "      <th>21</th>\n",
       "      <td>shelf</td>\n",
       "      <td>6.96</td>\n",
       "      <td>16.0</td>\n",
       "      <td>5669</td>\n",
       "      <td>LF</td>\n",
       "    </tr>\n",
       "    <tr>\n",
       "      <th>22</th>\n",
       "      <td>skirt</td>\n",
       "      <td>9.96</td>\n",
       "      <td>14.0</td>\n",
       "      <td>4928</td>\n",
       "      <td>LF</td>\n",
       "    </tr>\n",
       "    <tr>\n",
       "      <th>23</th>\n",
       "      <td>spine</td>\n",
       "      <td>5.75</td>\n",
       "      <td>4.0</td>\n",
       "      <td>5167</td>\n",
       "      <td>LF</td>\n",
       "    </tr>\n",
       "    <tr>\n",
       "      <th>24</th>\n",
       "      <td>stove</td>\n",
       "      <td>7.59</td>\n",
       "      <td>8.0</td>\n",
       "      <td>1846</td>\n",
       "      <td>LF</td>\n",
       "    </tr>\n",
       "    <tr>\n",
       "      <th>25</th>\n",
       "      <td>thorn</td>\n",
       "      <td>5.10</td>\n",
       "      <td>1.0</td>\n",
       "      <td>3726</td>\n",
       "      <td>LF</td>\n",
       "    </tr>\n",
       "    <tr>\n",
       "      <th>26</th>\n",
       "      <td>tomb</td>\n",
       "      <td>5.63</td>\n",
       "      <td>10.0</td>\n",
       "      <td>6175</td>\n",
       "      <td>LF</td>\n",
       "    </tr>\n",
       "    <tr>\n",
       "      <th>27</th>\n",
       "      <td>tubes</td>\n",
       "      <td>6.61</td>\n",
       "      <td>7.0</td>\n",
       "      <td>6989</td>\n",
       "      <td>LF</td>\n",
       "    </tr>\n",
       "    <tr>\n",
       "      <th>28</th>\n",
       "      <td>vest</td>\n",
       "      <td>5.57</td>\n",
       "      <td>NaN</td>\n",
       "      <td>1238</td>\n",
       "      <td>LF</td>\n",
       "    </tr>\n",
       "    <tr>\n",
       "      <th>29</th>\n",
       "      <td>waist</td>\n",
       "      <td>5.14</td>\n",
       "      <td>5.0</td>\n",
       "      <td>5276</td>\n",
       "      <td>LF</td>\n",
       "    </tr>\n",
       "  </tbody>\n",
       "</table>\n",
       "</div>"
      ],
      "text/plain": [
       "     Word  SUBTLWF  CSAT_Freq  Freq_HAL Freq_type\n",
       "0   armor     7.29        4.0     13211        LF\n",
       "1   booty     6.14        NaN       372        LF\n",
       "2   buyer     5.18        6.0     17902        LF\n",
       "3   chili     7.49        7.0      1783        LF\n",
       "4    clip     5.69       17.0      7281        LF\n",
       "5   cloth     6.10       19.0     11191        LF\n",
       "6   creek     8.90        4.0      8465        LF\n",
       "7    crow     4.45       27.0      4667        LF\n",
       "8   debts     6.10        1.0      2235        LF\n",
       "9    dove     5.57        2.0      2713        LF\n",
       "10  draft     7.27       11.0     14141        LF\n",
       "11  flick     5.04        NaN      2252        LF\n",
       "12   glue     5.88        8.0      5283        LF\n",
       "13  hobby     6.94       20.0      7899        LF\n",
       "14  hound     5.04        NaN      2575        LF\n",
       "15  jelly     7.12        2.0      2029        LF\n",
       "16  laser     8.49        4.0     16120        LF\n",
       "17   lone     5.25        5.0      6448        LF\n",
       "18   mode     5.16       13.0     65878        LF\n",
       "19  peach     6.35        3.0      1812        LF\n",
       "20  scope     5.61        6.0     10774        LF\n",
       "21  shelf     6.96       16.0      5669        LF\n",
       "22  skirt     9.96       14.0      4928        LF\n",
       "23  spine     5.75        4.0      5167        LF\n",
       "24  stove     7.59        8.0      1846        LF\n",
       "25  thorn     5.10        1.0      3726        LF\n",
       "26   tomb     5.63       10.0      6175        LF\n",
       "27  tubes     6.61        7.0      6989        LF\n",
       "28   vest     5.57        NaN      1238        LF\n",
       "29  waist     5.14        5.0      5276        LF"
      ]
     },
     "execution_count": 283,
     "metadata": {},
     "output_type": "execute_result"
    }
   ],
   "source": [
    "sample2_df = pd.merge(df, LF_df, how='inner', on='Word')[['Word', 'SUBTLWF', 'CSAT_Freq', 'Freq_HAL']]\n",
    "sample2_df['Freq_type'] = 'LF'\n",
    "sample2_df"
   ]
  },
  {
   "cell_type": "code",
   "execution_count": 284,
   "id": "8375acbf",
   "metadata": {},
   "outputs": [
    {
     "data": {
      "text/html": [
       "<div>\n",
       "<style scoped>\n",
       "    .dataframe tbody tr th:only-of-type {\n",
       "        vertical-align: middle;\n",
       "    }\n",
       "\n",
       "    .dataframe tbody tr th {\n",
       "        vertical-align: top;\n",
       "    }\n",
       "\n",
       "    .dataframe thead th {\n",
       "        text-align: right;\n",
       "    }\n",
       "</style>\n",
       "<table border=\"1\" class=\"dataframe\">\n",
       "  <thead>\n",
       "    <tr style=\"text-align: right;\">\n",
       "      <th></th>\n",
       "      <th>Word</th>\n",
       "      <th>Freq_type</th>\n",
       "      <th>Corpus</th>\n",
       "      <th>Freq</th>\n",
       "    </tr>\n",
       "  </thead>\n",
       "  <tbody>\n",
       "    <tr>\n",
       "      <th>0</th>\n",
       "      <td>baby</td>\n",
       "      <td>HF</td>\n",
       "      <td>SUBTLWF</td>\n",
       "      <td>0.061419</td>\n",
       "    </tr>\n",
       "    <tr>\n",
       "      <th>1</th>\n",
       "      <td>first</td>\n",
       "      <td>HF</td>\n",
       "      <td>SUBTLWF</td>\n",
       "      <td>0.549774</td>\n",
       "    </tr>\n",
       "    <tr>\n",
       "      <th>2</th>\n",
       "      <td>girl</td>\n",
       "      <td>HF</td>\n",
       "      <td>SUBTLWF</td>\n",
       "      <td>0.131826</td>\n",
       "    </tr>\n",
       "    <tr>\n",
       "      <th>3</th>\n",
       "      <td>great</td>\n",
       "      <td>HF</td>\n",
       "      <td>SUBTLWF</td>\n",
       "      <td>0.520712</td>\n",
       "    </tr>\n",
       "    <tr>\n",
       "      <th>4</th>\n",
       "      <td>hello</td>\n",
       "      <td>HF</td>\n",
       "      <td>SUBTLWF</td>\n",
       "      <td>0.173569</td>\n",
       "    </tr>\n",
       "    <tr>\n",
       "      <th>...</th>\n",
       "      <td>...</td>\n",
       "      <td>...</td>\n",
       "      <td>...</td>\n",
       "      <td>...</td>\n",
       "    </tr>\n",
       "    <tr>\n",
       "      <th>175</th>\n",
       "      <td>thorn</td>\n",
       "      <td>LF</td>\n",
       "      <td>Freq_HAL</td>\n",
       "      <td>-0.686758</td>\n",
       "    </tr>\n",
       "    <tr>\n",
       "      <th>176</th>\n",
       "      <td>tomb</td>\n",
       "      <td>LF</td>\n",
       "      <td>Freq_HAL</td>\n",
       "      <td>-0.673734</td>\n",
       "    </tr>\n",
       "    <tr>\n",
       "      <th>177</th>\n",
       "      <td>tubes</td>\n",
       "      <td>LF</td>\n",
       "      <td>Freq_HAL</td>\n",
       "      <td>-0.669406</td>\n",
       "    </tr>\n",
       "    <tr>\n",
       "      <th>178</th>\n",
       "      <td>vest</td>\n",
       "      <td>LF</td>\n",
       "      <td>Freq_HAL</td>\n",
       "      <td>-0.699989</td>\n",
       "    </tr>\n",
       "    <tr>\n",
       "      <th>179</th>\n",
       "      <td>waist</td>\n",
       "      <td>LF</td>\n",
       "      <td>Freq_HAL</td>\n",
       "      <td>-0.678515</td>\n",
       "    </tr>\n",
       "  </tbody>\n",
       "</table>\n",
       "<p>180 rows × 4 columns</p>\n",
       "</div>"
      ],
      "text/plain": [
       "      Word Freq_type    Corpus      Freq\n",
       "0     baby        HF   SUBTLWF  0.061419\n",
       "1    first        HF   SUBTLWF  0.549774\n",
       "2     girl        HF   SUBTLWF  0.131826\n",
       "3    great        HF   SUBTLWF  0.520712\n",
       "4    hello        HF   SUBTLWF  0.173569\n",
       "..     ...       ...       ...       ...\n",
       "175  thorn        LF  Freq_HAL -0.686758\n",
       "176   tomb        LF  Freq_HAL -0.673734\n",
       "177  tubes        LF  Freq_HAL -0.669406\n",
       "178   vest        LF  Freq_HAL -0.699989\n",
       "179  waist        LF  Freq_HAL -0.678515\n",
       "\n",
       "[180 rows x 4 columns]"
      ]
     },
     "execution_count": 284,
     "metadata": {},
     "output_type": "execute_result"
    }
   ],
   "source": [
    "sample_df = pd.concat([sample_df, sample2_df], ignore_index=True)\n",
    "target_col = ['SUBTLWF', 'CSAT_Freq', 'Freq_HAL']\n",
    "sample_df[target_col] = sample_df[target_col].apply(lambda x: stats.zscore(x, nan_policy='omit'))\n",
    "sample_df = sample_df.melt(id_vars=['Word', 'Freq_type'], var_name='Corpus', value_name='Freq')\n",
    "sample_df"
   ]
  },
  {
   "cell_type": "code",
   "execution_count": 286,
   "id": "f2d31b88",
   "metadata": {},
   "outputs": [
    {
     "data": {
      "text/plain": [
       "<Axes: xlabel='Freq_type', ylabel='Freq'>"
      ]
     },
     "execution_count": 286,
     "metadata": {},
     "output_type": "execute_result"
    },
    {
     "data": {
      "image/png": "[encoded data removed]",
      "text/plain": [
       "<Figure size 640x480 with 1 Axes>"
      ]
     },
     "metadata": {},
     "output_type": "display_data"
    }
   ],
   "source": [
    "plt.ylim(-2.5, 5)\n",
    "sns.boxplot(sample_df, x='Freq_type', y='Freq', hue='Corpus')"
   ]
  },
  {
   "cell_type": "markdown",
   "id": "f438565b",
   "metadata": {},
   "source": [
    "야 조졌다. 왜 이건 또 상관이 많이 다를까..?"
   ]
  },
  {
   "cell_type": "code",
   "execution_count": 91,
   "id": "2d1d1ccd",
   "metadata": {},
   "outputs": [
    {
     "data": {
      "text/html": [
       "<div>\n",
       "<style scoped>\n",
       "    .dataframe tbody tr th:only-of-type {\n",
       "        vertical-align: middle;\n",
       "    }\n",
       "\n",
       "    .dataframe tbody tr th {\n",
       "        vertical-align: top;\n",
       "    }\n",
       "\n",
       "    .dataframe thead th {\n",
       "        text-align: right;\n",
       "    }\n",
       "</style>\n",
       "<table border=\"1\" class=\"dataframe\">\n",
       "  <thead>\n",
       "    <tr style=\"text-align: right;\">\n",
       "      <th></th>\n",
       "      <th>SUBTLWF</th>\n",
       "      <th>CSAT_Freq</th>\n",
       "    </tr>\n",
       "  </thead>\n",
       "  <tbody>\n",
       "    <tr>\n",
       "      <th>SUBTLWF</th>\n",
       "      <td>1.000000</td>\n",
       "      <td>0.008626</td>\n",
       "    </tr>\n",
       "    <tr>\n",
       "      <th>CSAT_Freq</th>\n",
       "      <td>0.008626</td>\n",
       "      <td>1.000000</td>\n",
       "    </tr>\n",
       "  </tbody>\n",
       "</table>\n",
       "</div>"
      ],
      "text/plain": [
       "            SUBTLWF  CSAT_Freq\n",
       "SUBTLWF    1.000000   0.008626\n",
       "CSAT_Freq  0.008626   1.000000"
      ]
     },
     "execution_count": 91,
     "metadata": {},
     "output_type": "execute_result"
    }
   ],
   "source": [
    "pd.merge(df, HF_df, how='inner', on='Word')[['SUBTLWF', 'CSAT_Freq']].corr()"
   ]
  },
  {
   "cell_type": "code",
   "execution_count": 92,
   "id": "16ecb44c",
   "metadata": {},
   "outputs": [
    {
     "data": {
      "text/html": [
       "<div>\n",
       "<style scoped>\n",
       "    .dataframe tbody tr th:only-of-type {\n",
       "        vertical-align: middle;\n",
       "    }\n",
       "\n",
       "    .dataframe tbody tr th {\n",
       "        vertical-align: top;\n",
       "    }\n",
       "\n",
       "    .dataframe thead th {\n",
       "        text-align: right;\n",
       "    }\n",
       "</style>\n",
       "<table border=\"1\" class=\"dataframe\">\n",
       "  <thead>\n",
       "    <tr style=\"text-align: right;\">\n",
       "      <th></th>\n",
       "      <th>Freq_HAL</th>\n",
       "      <th>CSAT_Freq</th>\n",
       "    </tr>\n",
       "  </thead>\n",
       "  <tbody>\n",
       "    <tr>\n",
       "      <th>Freq_HAL</th>\n",
       "      <td>1.000000</td>\n",
       "      <td>-0.055745</td>\n",
       "    </tr>\n",
       "    <tr>\n",
       "      <th>CSAT_Freq</th>\n",
       "      <td>-0.055745</td>\n",
       "      <td>1.000000</td>\n",
       "    </tr>\n",
       "  </tbody>\n",
       "</table>\n",
       "</div>"
      ],
      "text/plain": [
       "           Freq_HAL  CSAT_Freq\n",
       "Freq_HAL   1.000000  -0.055745\n",
       "CSAT_Freq -0.055745   1.000000"
      ]
     },
     "execution_count": 92,
     "metadata": {},
     "output_type": "execute_result"
    }
   ],
   "source": [
    "pd.merge(df, HF_df, how='inner', on='Word')[['Freq_HAL', 'CSAT_Freq']].corr()"
   ]
  },
  {
   "cell_type": "code",
   "execution_count": 93,
   "id": "b2a73f3b",
   "metadata": {},
   "outputs": [
    {
     "data": {
      "text/html": [
       "<div>\n",
       "<style scoped>\n",
       "    .dataframe tbody tr th:only-of-type {\n",
       "        vertical-align: middle;\n",
       "    }\n",
       "\n",
       "    .dataframe tbody tr th {\n",
       "        vertical-align: top;\n",
       "    }\n",
       "\n",
       "    .dataframe thead th {\n",
       "        text-align: right;\n",
       "    }\n",
       "</style>\n",
       "<table border=\"1\" class=\"dataframe\">\n",
       "  <thead>\n",
       "    <tr style=\"text-align: right;\">\n",
       "      <th></th>\n",
       "      <th>Freq_HAL</th>\n",
       "      <th>SUBTLWF</th>\n",
       "    </tr>\n",
       "  </thead>\n",
       "  <tbody>\n",
       "    <tr>\n",
       "      <th>Freq_HAL</th>\n",
       "      <td>1.000000</td>\n",
       "      <td>0.395927</td>\n",
       "    </tr>\n",
       "    <tr>\n",
       "      <th>SUBTLWF</th>\n",
       "      <td>0.395927</td>\n",
       "      <td>1.000000</td>\n",
       "    </tr>\n",
       "  </tbody>\n",
       "</table>\n",
       "</div>"
      ],
      "text/plain": [
       "          Freq_HAL   SUBTLWF\n",
       "Freq_HAL  1.000000  0.395927\n",
       "SUBTLWF   0.395927  1.000000"
      ]
     },
     "execution_count": 93,
     "metadata": {},
     "output_type": "execute_result"
    }
   ],
   "source": [
    "pd.merge(df, HF_df, how='inner', on='Word')[['Freq_HAL', 'SUBTLWF']].corr()"
   ]
  },
  {
   "cell_type": "code",
   "execution_count": 94,
   "id": "ab2722d4",
   "metadata": {},
   "outputs": [
    {
     "data": {
      "text/html": [
       "<div>\n",
       "<style scoped>\n",
       "    .dataframe tbody tr th:only-of-type {\n",
       "        vertical-align: middle;\n",
       "    }\n",
       "\n",
       "    .dataframe tbody tr th {\n",
       "        vertical-align: top;\n",
       "    }\n",
       "\n",
       "    .dataframe thead th {\n",
       "        text-align: right;\n",
       "    }\n",
       "</style>\n",
       "<table border=\"1\" class=\"dataframe\">\n",
       "  <thead>\n",
       "    <tr style=\"text-align: right;\">\n",
       "      <th></th>\n",
       "      <th>SUBTLWF</th>\n",
       "      <th>CSAT_Freq</th>\n",
       "    </tr>\n",
       "  </thead>\n",
       "  <tbody>\n",
       "    <tr>\n",
       "      <th>SUBTLWF</th>\n",
       "      <td>1.000000</td>\n",
       "      <td>-0.079579</td>\n",
       "    </tr>\n",
       "    <tr>\n",
       "      <th>CSAT_Freq</th>\n",
       "      <td>-0.079579</td>\n",
       "      <td>1.000000</td>\n",
       "    </tr>\n",
       "  </tbody>\n",
       "</table>\n",
       "</div>"
      ],
      "text/plain": [
       "            SUBTLWF  CSAT_Freq\n",
       "SUBTLWF    1.000000  -0.079579\n",
       "CSAT_Freq -0.079579   1.000000"
      ]
     },
     "execution_count": 94,
     "metadata": {},
     "output_type": "execute_result"
    }
   ],
   "source": [
    "pd.merge(df, LF_df, how='inner', on='Word')[['SUBTLWF', 'CSAT_Freq']].corr()"
   ]
  },
  {
   "cell_type": "code",
   "execution_count": 275,
   "id": "52410e6f",
   "metadata": {},
   "outputs": [
    {
     "data": {
      "text/html": [
       "<div>\n",
       "<style scoped>\n",
       "    .dataframe tbody tr th:only-of-type {\n",
       "        vertical-align: middle;\n",
       "    }\n",
       "\n",
       "    .dataframe tbody tr th {\n",
       "        vertical-align: top;\n",
       "    }\n",
       "\n",
       "    .dataframe thead th {\n",
       "        text-align: right;\n",
       "    }\n",
       "</style>\n",
       "<table border=\"1\" class=\"dataframe\">\n",
       "  <thead>\n",
       "    <tr style=\"text-align: right;\">\n",
       "      <th></th>\n",
       "      <th>Freq_HAL</th>\n",
       "      <th>CSAT_Freq</th>\n",
       "    </tr>\n",
       "  </thead>\n",
       "  <tbody>\n",
       "    <tr>\n",
       "      <th>Freq_HAL</th>\n",
       "      <td>1.000000</td>\n",
       "      <td>0.159525</td>\n",
       "    </tr>\n",
       "    <tr>\n",
       "      <th>CSAT_Freq</th>\n",
       "      <td>0.159525</td>\n",
       "      <td>1.000000</td>\n",
       "    </tr>\n",
       "  </tbody>\n",
       "</table>\n",
       "</div>"
      ],
      "text/plain": [
       "           Freq_HAL  CSAT_Freq\n",
       "Freq_HAL   1.000000   0.159525\n",
       "CSAT_Freq  0.159525   1.000000"
      ]
     },
     "execution_count": 275,
     "metadata": {},
     "output_type": "execute_result"
    }
   ],
   "source": [
    "pd.merge(df, LF_df, how='inner', on='Word')[['Freq_HAL', 'CSAT_Freq']].corr()"
   ]
  },
  {
   "cell_type": "markdown",
   "id": "a53a1ac7",
   "metadata": {},
   "source": [
    "그렇다면 상관이 높은 것 찾아보자. HAL이나 SUBTLEX랑은 비슷하겠지?"
   ]
  },
  {
   "cell_type": "code",
   "execution_count": 273,
   "id": "40a5edba",
   "metadata": {},
   "outputs": [
    {
     "data": {
      "text/html": [
       "<div>\n",
       "<style scoped>\n",
       "    .dataframe tbody tr th:only-of-type {\n",
       "        vertical-align: middle;\n",
       "    }\n",
       "\n",
       "    .dataframe tbody tr th {\n",
       "        vertical-align: top;\n",
       "    }\n",
       "\n",
       "    .dataframe thead th {\n",
       "        text-align: right;\n",
       "    }\n",
       "</style>\n",
       "<table border=\"1\" class=\"dataframe\">\n",
       "  <thead>\n",
       "    <tr style=\"text-align: right;\">\n",
       "      <th></th>\n",
       "      <th>Freq_HAL</th>\n",
       "      <th>SUBTLWF</th>\n",
       "    </tr>\n",
       "  </thead>\n",
       "  <tbody>\n",
       "    <tr>\n",
       "      <th>Freq_HAL</th>\n",
       "      <td>1.000000</td>\n",
       "      <td>-0.085703</td>\n",
       "    </tr>\n",
       "    <tr>\n",
       "      <th>SUBTLWF</th>\n",
       "      <td>-0.085703</td>\n",
       "      <td>1.000000</td>\n",
       "    </tr>\n",
       "  </tbody>\n",
       "</table>\n",
       "</div>"
      ],
      "text/plain": [
       "          Freq_HAL   SUBTLWF\n",
       "Freq_HAL  1.000000 -0.085703\n",
       "SUBTLWF  -0.085703  1.000000"
      ]
     },
     "execution_count": 273,
     "metadata": {},
     "output_type": "execute_result"
    }
   ],
   "source": [
    "pd.merge(df, LF_df, how='inner', on='Word')[['Freq_HAL', 'SUBTLWF']].corr()"
   ]
  },
  {
   "cell_type": "code",
   "execution_count": 12,
   "id": "3adc339a",
   "metadata": {},
   "outputs": [
    {
     "data": {
      "text/plain": [
       "30"
      ]
     },
     "execution_count": 12,
     "metadata": {},
     "output_type": "execute_result"
    }
   ],
   "source": [
    "len(HF_df)"
   ]
  },
  {
   "cell_type": "markdown",
   "id": "0d8ce034",
   "metadata": {},
   "source": [
    "SUBTLEX에서 뽑아온게 맞네. 근데 HAL이랑은  왜 이렇게 달라..? 아예 거의 상관이 없다는 수준의 값인데 흠,,\n",
    "\n",
    "그렇다면 corpus 전체으 상관값이 높더라도 corpus가 비슷하다고 할 수 없다는 걸 시사한다고 볼 수 있겠지.\n",
    "\n",
    "그렇다면 단순 빈도만으로는 설명할 수 잇는데 한계가 있다고 하고, corpus간의 유사성을 분석하는 기존 선행 연구들을 찾아볼 필요가 있겠네"
   ]
  },
  {
   "cell_type": "markdown",
   "id": "167e093f",
   "metadata": {},
   "source": [
    "## Wouter et al. (2008)"
   ]
  },
  {
   "cell_type": "markdown",
   "id": "575271b9",
   "metadata": {},
   "source": [
    "The frequency effect in second-language\n",
    "visual word recognition"
   ]
  },
  {
   "cell_type": "code",
   "execution_count": 289,
   "id": "91ada2fa",
   "metadata": {},
   "outputs": [
    {
     "data": {
      "text/html": [
       "<div>\n",
       "<style scoped>\n",
       "    .dataframe tbody tr th:only-of-type {\n",
       "        vertical-align: middle;\n",
       "    }\n",
       "\n",
       "    .dataframe tbody tr th {\n",
       "        vertical-align: top;\n",
       "    }\n",
       "\n",
       "    .dataframe thead th {\n",
       "        text-align: right;\n",
       "    }\n",
       "</style>\n",
       "<table border=\"1\" class=\"dataframe\">\n",
       "  <thead>\n",
       "    <tr style=\"text-align: right;\">\n",
       "      <th></th>\n",
       "      <th>Word</th>\n",
       "    </tr>\n",
       "  </thead>\n",
       "  <tbody>\n",
       "    <tr>\n",
       "      <th>0</th>\n",
       "      <td>balcony</td>\n",
       "    </tr>\n",
       "    <tr>\n",
       "      <th>1</th>\n",
       "      <td>birthrate</td>\n",
       "    </tr>\n",
       "    <tr>\n",
       "      <th>2</th>\n",
       "      <td>catacomb</td>\n",
       "    </tr>\n",
       "    <tr>\n",
       "      <th>3</th>\n",
       "      <td>ceiling</td>\n",
       "    </tr>\n",
       "    <tr>\n",
       "      <th>4</th>\n",
       "      <td>ceremony</td>\n",
       "    </tr>\n",
       "  </tbody>\n",
       "</table>\n",
       "</div>"
      ],
      "text/plain": [
       "        Word\n",
       "0    balcony\n",
       "1  birthrate\n",
       "2   catacomb\n",
       "3    ceiling\n",
       "4   ceremony"
      ]
     },
     "execution_count": 289,
     "metadata": {},
     "output_type": "execute_result"
    }
   ],
   "source": [
    "HF_df = pd.DataFrame(\n",
    "    {\n",
    "        'Word': ['balcony', 'birthrate', 'catacomb', 'ceiling', 'ceremony', \n",
    "                 'crystal', 'detour', 'deviation', 'diver', 'enquirer', \n",
    "                 'fairness', 'flame', 'font', 'graph', 'lawn', \n",
    "                 'liberty', 'melon', 'peanut', 'pirate', 'portion', \n",
    "                 'puma', 'salary', 'seaman', 'stair', 'waist'\n",
    "                 ]\n",
    "    }\n",
    ")\n",
    "HF_df.head()"
   ]
  },
  {
   "cell_type": "code",
   "execution_count": 290,
   "id": "f1066860",
   "metadata": {},
   "outputs": [
    {
     "data": {
      "text/html": [
       "<div>\n",
       "<style scoped>\n",
       "    .dataframe tbody tr th:only-of-type {\n",
       "        vertical-align: middle;\n",
       "    }\n",
       "\n",
       "    .dataframe tbody tr th {\n",
       "        vertical-align: top;\n",
       "    }\n",
       "\n",
       "    .dataframe thead th {\n",
       "        text-align: right;\n",
       "    }\n",
       "</style>\n",
       "<table border=\"1\" class=\"dataframe\">\n",
       "  <thead>\n",
       "    <tr style=\"text-align: right;\">\n",
       "      <th></th>\n",
       "      <th>Word</th>\n",
       "    </tr>\n",
       "  </thead>\n",
       "  <tbody>\n",
       "    <tr>\n",
       "      <th>0</th>\n",
       "      <td>afternoon</td>\n",
       "    </tr>\n",
       "    <tr>\n",
       "      <th>1</th>\n",
       "      <td>council</td>\n",
       "    </tr>\n",
       "    <tr>\n",
       "      <th>2</th>\n",
       "      <td>couple</td>\n",
       "    </tr>\n",
       "    <tr>\n",
       "      <th>3</th>\n",
       "      <td>court</td>\n",
       "    </tr>\n",
       "    <tr>\n",
       "      <th>4</th>\n",
       "      <td>daughter</td>\n",
       "    </tr>\n",
       "  </tbody>\n",
       "</table>\n",
       "</div>"
      ],
      "text/plain": [
       "        Word\n",
       "0  afternoon\n",
       "1    council\n",
       "2     couple\n",
       "3      court\n",
       "4   daughter"
      ]
     },
     "execution_count": 290,
     "metadata": {},
     "output_type": "execute_result"
    }
   ],
   "source": [
    "LF_df = pd.DataFrame(\n",
    "    {\n",
    "        'Word': ['afternoon', 'council', 'couple', 'court', 'daughter', \n",
    "                 'dress', 'floor', 'freedom', 'garden', 'health', \n",
    "                 'income', 'industry', 'member', 'morning', 'process', \n",
    "                 'promise', 'result', 'river', 'secrertary', 'sign', \n",
    "                 'teacher', 'town', 'truth', 'union', 'worker'\n",
    "                 ]\n",
    "    }\n",
    ")\n",
    "LF_df.head()"
   ]
  },
  {
   "cell_type": "code",
   "execution_count": 291,
   "id": "46e2a429",
   "metadata": {},
   "outputs": [
    {
     "data": {
      "image/png": "[encoded data removed]",
      "text/plain": [
       "<Figure size 640x480 with 1 Axes>"
      ]
     },
     "metadata": {},
     "output_type": "display_data"
    }
   ],
   "source": [
    "plot(df, HF_df, LF_df)"
   ]
  },
  {
   "cell_type": "code",
   "execution_count": 100,
   "id": "de4e316e",
   "metadata": {},
   "outputs": [
    {
     "data": {
      "text/html": [
       "<div>\n",
       "<style scoped>\n",
       "    .dataframe tbody tr th:only-of-type {\n",
       "        vertical-align: middle;\n",
       "    }\n",
       "\n",
       "    .dataframe tbody tr th {\n",
       "        vertical-align: top;\n",
       "    }\n",
       "\n",
       "    .dataframe thead th {\n",
       "        text-align: right;\n",
       "    }\n",
       "</style>\n",
       "<table border=\"1\" class=\"dataframe\">\n",
       "  <thead>\n",
       "    <tr style=\"text-align: right;\">\n",
       "      <th></th>\n",
       "      <th>SUBTLWF</th>\n",
       "      <th>CSAT_Freq</th>\n",
       "    </tr>\n",
       "  </thead>\n",
       "  <tbody>\n",
       "    <tr>\n",
       "      <th>SUBTLWF</th>\n",
       "      <td>1.000000</td>\n",
       "      <td>0.008626</td>\n",
       "    </tr>\n",
       "    <tr>\n",
       "      <th>CSAT_Freq</th>\n",
       "      <td>0.008626</td>\n",
       "      <td>1.000000</td>\n",
       "    </tr>\n",
       "  </tbody>\n",
       "</table>\n",
       "</div>"
      ],
      "text/plain": [
       "            SUBTLWF  CSAT_Freq\n",
       "SUBTLWF    1.000000   0.008626\n",
       "CSAT_Freq  0.008626   1.000000"
      ]
     },
     "execution_count": 100,
     "metadata": {},
     "output_type": "execute_result"
    }
   ],
   "source": [
    "pd.merge(df, HF_df, how='inner', on='Word')[['SUBTLWF', 'CSAT_Freq']].corr()"
   ]
  },
  {
   "cell_type": "code",
   "execution_count": 101,
   "id": "d31b4a62",
   "metadata": {},
   "outputs": [
    {
     "data": {
      "text/html": [
       "<div>\n",
       "<style scoped>\n",
       "    .dataframe tbody tr th:only-of-type {\n",
       "        vertical-align: middle;\n",
       "    }\n",
       "\n",
       "    .dataframe tbody tr th {\n",
       "        vertical-align: top;\n",
       "    }\n",
       "\n",
       "    .dataframe thead th {\n",
       "        text-align: right;\n",
       "    }\n",
       "</style>\n",
       "<table border=\"1\" class=\"dataframe\">\n",
       "  <thead>\n",
       "    <tr style=\"text-align: right;\">\n",
       "      <th></th>\n",
       "      <th>Freq_HAL</th>\n",
       "      <th>CSAT_Freq</th>\n",
       "    </tr>\n",
       "  </thead>\n",
       "  <tbody>\n",
       "    <tr>\n",
       "      <th>Freq_HAL</th>\n",
       "      <td>1.000000</td>\n",
       "      <td>-0.055745</td>\n",
       "    </tr>\n",
       "    <tr>\n",
       "      <th>CSAT_Freq</th>\n",
       "      <td>-0.055745</td>\n",
       "      <td>1.000000</td>\n",
       "    </tr>\n",
       "  </tbody>\n",
       "</table>\n",
       "</div>"
      ],
      "text/plain": [
       "           Freq_HAL  CSAT_Freq\n",
       "Freq_HAL   1.000000  -0.055745\n",
       "CSAT_Freq -0.055745   1.000000"
      ]
     },
     "execution_count": 101,
     "metadata": {},
     "output_type": "execute_result"
    }
   ],
   "source": [
    "pd.merge(df, HF_df, how='inner', on='Word')[['Freq_HAL', 'CSAT_Freq']].corr()"
   ]
  },
  {
   "cell_type": "code",
   "execution_count": 102,
   "id": "90a87393",
   "metadata": {},
   "outputs": [
    {
     "data": {
      "text/html": [
       "<div>\n",
       "<style scoped>\n",
       "    .dataframe tbody tr th:only-of-type {\n",
       "        vertical-align: middle;\n",
       "    }\n",
       "\n",
       "    .dataframe tbody tr th {\n",
       "        vertical-align: top;\n",
       "    }\n",
       "\n",
       "    .dataframe thead th {\n",
       "        text-align: right;\n",
       "    }\n",
       "</style>\n",
       "<table border=\"1\" class=\"dataframe\">\n",
       "  <thead>\n",
       "    <tr style=\"text-align: right;\">\n",
       "      <th></th>\n",
       "      <th>SUBTLWF</th>\n",
       "      <th>Freq_HAL</th>\n",
       "    </tr>\n",
       "  </thead>\n",
       "  <tbody>\n",
       "    <tr>\n",
       "      <th>SUBTLWF</th>\n",
       "      <td>1.000000</td>\n",
       "      <td>0.395927</td>\n",
       "    </tr>\n",
       "    <tr>\n",
       "      <th>Freq_HAL</th>\n",
       "      <td>0.395927</td>\n",
       "      <td>1.000000</td>\n",
       "    </tr>\n",
       "  </tbody>\n",
       "</table>\n",
       "</div>"
      ],
      "text/plain": [
       "           SUBTLWF  Freq_HAL\n",
       "SUBTLWF   1.000000  0.395927\n",
       "Freq_HAL  0.395927  1.000000"
      ]
     },
     "execution_count": 102,
     "metadata": {},
     "output_type": "execute_result"
    }
   ],
   "source": [
    "pd.merge(df, HF_df, how='inner', on='Word')[['SUBTLWF', 'Freq_HAL']].corr()"
   ]
  },
  {
   "cell_type": "code",
   "execution_count": 103,
   "id": "cab92654",
   "metadata": {},
   "outputs": [
    {
     "data": {
      "text/html": [
       "<div>\n",
       "<style scoped>\n",
       "    .dataframe tbody tr th:only-of-type {\n",
       "        vertical-align: middle;\n",
       "    }\n",
       "\n",
       "    .dataframe tbody tr th {\n",
       "        vertical-align: top;\n",
       "    }\n",
       "\n",
       "    .dataframe thead th {\n",
       "        text-align: right;\n",
       "    }\n",
       "</style>\n",
       "<table border=\"1\" class=\"dataframe\">\n",
       "  <thead>\n",
       "    <tr style=\"text-align: right;\">\n",
       "      <th></th>\n",
       "      <th>SUBTLWF</th>\n",
       "      <th>CSAT_Freq</th>\n",
       "    </tr>\n",
       "  </thead>\n",
       "  <tbody>\n",
       "    <tr>\n",
       "      <th>SUBTLWF</th>\n",
       "      <td>1.00000</td>\n",
       "      <td>0.34681</td>\n",
       "    </tr>\n",
       "    <tr>\n",
       "      <th>CSAT_Freq</th>\n",
       "      <td>0.34681</td>\n",
       "      <td>1.00000</td>\n",
       "    </tr>\n",
       "  </tbody>\n",
       "</table>\n",
       "</div>"
      ],
      "text/plain": [
       "           SUBTLWF  CSAT_Freq\n",
       "SUBTLWF    1.00000    0.34681\n",
       "CSAT_Freq  0.34681    1.00000"
      ]
     },
     "execution_count": 103,
     "metadata": {},
     "output_type": "execute_result"
    }
   ],
   "source": [
    "pd.merge(df, LF_df, how='inner', on='Word')[['SUBTLWF', 'CSAT_Freq']].corr()"
   ]
  },
  {
   "cell_type": "code",
   "execution_count": 104,
   "id": "5db792ce",
   "metadata": {},
   "outputs": [
    {
     "data": {
      "text/html": [
       "<div>\n",
       "<style scoped>\n",
       "    .dataframe tbody tr th:only-of-type {\n",
       "        vertical-align: middle;\n",
       "    }\n",
       "\n",
       "    .dataframe tbody tr th {\n",
       "        vertical-align: top;\n",
       "    }\n",
       "\n",
       "    .dataframe thead th {\n",
       "        text-align: right;\n",
       "    }\n",
       "</style>\n",
       "<table border=\"1\" class=\"dataframe\">\n",
       "  <thead>\n",
       "    <tr style=\"text-align: right;\">\n",
       "      <th></th>\n",
       "      <th>Freq_HAL</th>\n",
       "      <th>CSAT_Freq</th>\n",
       "    </tr>\n",
       "  </thead>\n",
       "  <tbody>\n",
       "    <tr>\n",
       "      <th>Freq_HAL</th>\n",
       "      <td>1.000000</td>\n",
       "      <td>0.256487</td>\n",
       "    </tr>\n",
       "    <tr>\n",
       "      <th>CSAT_Freq</th>\n",
       "      <td>0.256487</td>\n",
       "      <td>1.000000</td>\n",
       "    </tr>\n",
       "  </tbody>\n",
       "</table>\n",
       "</div>"
      ],
      "text/plain": [
       "           Freq_HAL  CSAT_Freq\n",
       "Freq_HAL   1.000000   0.256487\n",
       "CSAT_Freq  0.256487   1.000000"
      ]
     },
     "execution_count": 104,
     "metadata": {},
     "output_type": "execute_result"
    }
   ],
   "source": [
    "pd.merge(df, LF_df, how='inner', on='Word')[['Freq_HAL', 'CSAT_Freq']].corr()"
   ]
  },
  {
   "cell_type": "code",
   "execution_count": 105,
   "id": "a9881cb4",
   "metadata": {},
   "outputs": [
    {
     "data": {
      "text/html": [
       "<div>\n",
       "<style scoped>\n",
       "    .dataframe tbody tr th:only-of-type {\n",
       "        vertical-align: middle;\n",
       "    }\n",
       "\n",
       "    .dataframe tbody tr th {\n",
       "        vertical-align: top;\n",
       "    }\n",
       "\n",
       "    .dataframe thead th {\n",
       "        text-align: right;\n",
       "    }\n",
       "</style>\n",
       "<table border=\"1\" class=\"dataframe\">\n",
       "  <thead>\n",
       "    <tr style=\"text-align: right;\">\n",
       "      <th></th>\n",
       "      <th>SUBTLWF</th>\n",
       "      <th>Freq_HAL</th>\n",
       "    </tr>\n",
       "  </thead>\n",
       "  <tbody>\n",
       "    <tr>\n",
       "      <th>SUBTLWF</th>\n",
       "      <td>1.000000</td>\n",
       "      <td>0.032407</td>\n",
       "    </tr>\n",
       "    <tr>\n",
       "      <th>Freq_HAL</th>\n",
       "      <td>0.032407</td>\n",
       "      <td>1.000000</td>\n",
       "    </tr>\n",
       "  </tbody>\n",
       "</table>\n",
       "</div>"
      ],
      "text/plain": [
       "           SUBTLWF  Freq_HAL\n",
       "SUBTLWF   1.000000  0.032407\n",
       "Freq_HAL  0.032407  1.000000"
      ]
     },
     "execution_count": 105,
     "metadata": {},
     "output_type": "execute_result"
    }
   ],
   "source": [
    "pd.merge(df, LF_df, how='inner', on='Word')[['SUBTLWF', 'Freq_HAL']].corr()"
   ]
  },
  {
   "cell_type": "markdown",
   "id": "505bd270",
   "metadata": {},
   "source": [
    "앤 또 HAL이랑 비슷하네."
   ]
  },
  {
   "cell_type": "markdown",
   "id": "06b5e421",
   "metadata": {},
   "source": [
    "# Xiaocong Chen et al.(2018)"
   ]
  },
  {
   "cell_type": "markdown",
   "id": "f1ae5bb4",
   "metadata": {},
   "source": [
    "On the predictive validity of various corpus-based frequency norms in L2 English lexical processing"
   ]
  },
  {
   "cell_type": "code",
   "execution_count": 106,
   "id": "4a7ce955",
   "metadata": {},
   "outputs": [
    {
     "data": {
      "text/plain": [
       "367"
      ]
     },
     "execution_count": 106,
     "metadata": {},
     "output_type": "execute_result"
    }
   ],
   "source": [
    "F_df = pd.DataFrame(\n",
    "    {\n",
    "        'Word': ['absolute', 'accrue', 'acid', 'admiral', 'affair', \n",
    "                 'again', 'agreed', 'allowed', 'amazement', 'american', \n",
    "                 'analysis', 'anchor', 'angriest', 'announces', 'another', \n",
    "                 'arisen', 'ashes', 'assign', 'atmosphere', 'attempt', \n",
    "                 'autonomous', 'available', 'avoid', 'away', 'awkward',\n",
    "                 'babies', 'balconies', 'bank', 'being', 'best',\n",
    "                 'bill', 'bleak', 'boast', 'body', 'bombers',\n",
    "                 'box', 'bravest', 'breed', 'broader', 'bump',\n",
    "                 'burial', 'bus', 'business', 'buy', 'calmer',\n",
    "                 'capable', 'capture', 'cart', 'caught', 'characterize',\n",
    "                 'checks', 'children', 'chosen', 'cigar', 'class',\n",
    "                 'classified', 'coalition', 'coincide', 'coke', 'combat', \n",
    "                 'comes', 'comfy', 'comparison', 'computer', 'conceal', \n",
    "                 'conference', 'confession', 'confide', 'confirm', 'conquer', \n",
    "                 'consulting', 'contact', 'core', 'corridor', 'corroborate', \n",
    "                 'country', 'course', 'covering', 'creation', 'credit', 'crouch', \n",
    "                 'cultural', 'curl', 'currently', 'danger', 'day', 'dazzle', 'dealt', \n",
    "                 'dearer', 'debut', 'decent', 'declares', 'densest',\n",
    "                 'development', 'different', 'diminishes', 'diplomat', 'discovery', \n",
    "                 'dishes', 'disliked', 'distance', 'distributed', 'division', 'dominant', 'done', 'down',\n",
    "                 'drawn', 'drives', 'driveway', 'dug', 'during', 'easiest', 'east', 'eaten', 'ecstatic',\n",
    "                 'edge', 'edifice', 'employer', 'emulation', 'enough', 'entertainment', 'environment', 'episodes', 'excellent', 'excuse', 'experience', 'extracted',\n",
    "                 'factories', 'fade', 'fancier', 'fans', 'fantastic', 'far', 'fatter', 'fear', 'feet', 'few',\n",
    "                 'fiercest', 'file', 'fire', 'flagrant', 'flirt', 'fold', 'forced', 'frees', 'fuel', 'fullest',\n",
    "                 'funniest', 'gathered', 'geese', 'generations', 'gets', 'glasses', 'god', 'gold',\n",
    "                 'good', 'gospel', 'government', 'gross', 'guys', 'habit', 'happen', 'having',\n",
    "                 'healthier', 'heard', 'heavy', 'hid', 'highest', 'himself', 'honey', 'hose', 'human', 'hybrid', 'implies', 'incredibly', 'induction', 'information',\n",
    "                 'installed', 'international', 'island', 'issue', 'its', 'jaunt', 'jewel', 'jingle', 'job',\n",
    "                 'keep', 'kind', 'knives', 'knowledge', 'known', 'last', 'later', 'latex', 'launch',\n",
    "                 'leagues', 'lifeboat', 'linking', 'listed', 'loathed', 'looking', 'luckier', 'lumber', 'maintains', 'major', 'manhood', 'manor', 'mean', 'meetings', 'mice',\n",
    "                 'minister', 'mirror', 'morning', 'mouths', 'move', 'must', 'nastier', 'necessary', 'nerve', 'never', 'nights', 'noisier', 'normal', 'numbers', 'office', 'older',\n",
    "                 'opportunity', 'orientation', 'outbreak', 'pamper', 'particle', 'patron',\n",
    "                 'peaches', 'pebble', 'perhaps', 'perimeter', 'periodic', 'picking', 'place',\n",
    "                 'played', 'pleasure', 'plunging', 'plus', 'possession', 'pound', 'presidential',\n",
    "                 'prevent', 'probably', 'problems', 'products', 'prototypes',\n",
    "                 'provides', 'punched', 'purchases', 'purest', 'quarter', 'quieter', 'reasonably', 'received', 'reef', 'relating', 'relationship', 'requires', 'response',\n",
    "                 'responsible', 'reveal', 'revival', 'ribbon', 'richest', 'right', 'rises', 'roast',\n",
    "                 'room', 'rough', 'ruler', 'running', 'sadism', 'sat', 'saying', 'second', 'security',\n",
    "                 'seems', 'selection', 'sentencing', 'separating', 'services', 'session',\n",
    "                 'shorter', 'shout', 'silence', 'slam', 'slaughter', 'slow', 'sometimes', 'south',\n",
    "                 'square', 'stakes', 'stamp', 'starting', 'state', 'statistics', 'steady', 'stories',\n",
    "                 'strain', 'strongest', 'student', 'successor', 'sung', 'surprise', 'surveillance',\n",
    "                 'tagging', 'taxes', 'tear', 'telescope', 'territories', 'terror', 'textual', 'theme',\n",
    "                 'thieves', 'those', 'thought', 'tile', 'till', 'today', 'together', 'tolerance', 'torches',\n",
    "                 'total', 'touchy', 'toxicology', 'tragedies', 'trail', 'transport', 'trouble',\n",
    "                 'turned', 'twist', 'type', 'uglier', 'uncover', 'under', 'understand', 'universities', 'unless', 'upbringing', 'visitor', 'vocal', 'vulnerable', 'walk', 'wavy',\n",
    "                 'way', 'weapon', 'weekend', 'weird', 'welcome', 'went', 'wide', 'withhold',\n",
    "                 'wonder', 'work', 'worn', 'worthiest', 'wound', 'yarn', 'year', 'yes', 'yonder', 'zone',\n",
    "                 ]\n",
    "    }\n",
    ")\n",
    "len(F_df)"
   ]
  },
  {
   "cell_type": "code",
   "execution_count": 108,
   "id": "4eff1c71",
   "metadata": {},
   "outputs": [
    {
     "data": {
      "text/html": [
       "<div>\n",
       "<style scoped>\n",
       "    .dataframe tbody tr th:only-of-type {\n",
       "        vertical-align: middle;\n",
       "    }\n",
       "\n",
       "    .dataframe tbody tr th {\n",
       "        vertical-align: top;\n",
       "    }\n",
       "\n",
       "    .dataframe thead th {\n",
       "        text-align: right;\n",
       "    }\n",
       "</style>\n",
       "<table border=\"1\" class=\"dataframe\">\n",
       "  <thead>\n",
       "    <tr style=\"text-align: right;\">\n",
       "      <th></th>\n",
       "      <th>SUBTLWF</th>\n",
       "      <th>CSAT_Freq</th>\n",
       "    </tr>\n",
       "  </thead>\n",
       "  <tbody>\n",
       "    <tr>\n",
       "      <th>SUBTLWF</th>\n",
       "      <td>1.000000</td>\n",
       "      <td>0.740225</td>\n",
       "    </tr>\n",
       "    <tr>\n",
       "      <th>CSAT_Freq</th>\n",
       "      <td>0.740225</td>\n",
       "      <td>1.000000</td>\n",
       "    </tr>\n",
       "  </tbody>\n",
       "</table>\n",
       "</div>"
      ],
      "text/plain": [
       "            SUBTLWF  CSAT_Freq\n",
       "SUBTLWF    1.000000   0.740225\n",
       "CSAT_Freq  0.740225   1.000000"
      ]
     },
     "execution_count": 108,
     "metadata": {},
     "output_type": "execute_result"
    }
   ],
   "source": [
    "pd.merge(df, F_df, how='inner', on='Word')[['SUBTLWF', 'CSAT_Freq']].corr()"
   ]
  },
  {
   "cell_type": "code",
   "execution_count": 107,
   "id": "8ca0cf88",
   "metadata": {},
   "outputs": [
    {
     "data": {
      "text/html": [
       "<div>\n",
       "<style scoped>\n",
       "    .dataframe tbody tr th:only-of-type {\n",
       "        vertical-align: middle;\n",
       "    }\n",
       "\n",
       "    .dataframe tbody tr th {\n",
       "        vertical-align: top;\n",
       "    }\n",
       "\n",
       "    .dataframe thead th {\n",
       "        text-align: right;\n",
       "    }\n",
       "</style>\n",
       "<table border=\"1\" class=\"dataframe\">\n",
       "  <thead>\n",
       "    <tr style=\"text-align: right;\">\n",
       "      <th></th>\n",
       "      <th>Freq_HAL</th>\n",
       "      <th>CSAT_Freq</th>\n",
       "    </tr>\n",
       "  </thead>\n",
       "  <tbody>\n",
       "    <tr>\n",
       "      <th>Freq_HAL</th>\n",
       "      <td>1.000000</td>\n",
       "      <td>0.860003</td>\n",
       "    </tr>\n",
       "    <tr>\n",
       "      <th>CSAT_Freq</th>\n",
       "      <td>0.860003</td>\n",
       "      <td>1.000000</td>\n",
       "    </tr>\n",
       "  </tbody>\n",
       "</table>\n",
       "</div>"
      ],
      "text/plain": [
       "           Freq_HAL  CSAT_Freq\n",
       "Freq_HAL   1.000000   0.860003\n",
       "CSAT_Freq  0.860003   1.000000"
      ]
     },
     "execution_count": 107,
     "metadata": {},
     "output_type": "execute_result"
    }
   ],
   "source": [
    "pd.merge(df, F_df, how='inner', on='Word')[['Freq_HAL', 'CSAT_Freq']].corr()"
   ]
  },
  {
   "cell_type": "code",
   "execution_count": 109,
   "id": "7af9e061",
   "metadata": {},
   "outputs": [
    {
     "data": {
      "text/html": [
       "<div>\n",
       "<style scoped>\n",
       "    .dataframe tbody tr th:only-of-type {\n",
       "        vertical-align: middle;\n",
       "    }\n",
       "\n",
       "    .dataframe tbody tr th {\n",
       "        vertical-align: top;\n",
       "    }\n",
       "\n",
       "    .dataframe thead th {\n",
       "        text-align: right;\n",
       "    }\n",
       "</style>\n",
       "<table border=\"1\" class=\"dataframe\">\n",
       "  <thead>\n",
       "    <tr style=\"text-align: right;\">\n",
       "      <th></th>\n",
       "      <th>SUBTLWF</th>\n",
       "      <th>Freq_HAL</th>\n",
       "    </tr>\n",
       "  </thead>\n",
       "  <tbody>\n",
       "    <tr>\n",
       "      <th>SUBTLWF</th>\n",
       "      <td>1.000000</td>\n",
       "      <td>0.674131</td>\n",
       "    </tr>\n",
       "    <tr>\n",
       "      <th>Freq_HAL</th>\n",
       "      <td>0.674131</td>\n",
       "      <td>1.000000</td>\n",
       "    </tr>\n",
       "  </tbody>\n",
       "</table>\n",
       "</div>"
      ],
      "text/plain": [
       "           SUBTLWF  Freq_HAL\n",
       "SUBTLWF   1.000000  0.674131\n",
       "Freq_HAL  0.674131  1.000000"
      ]
     },
     "execution_count": 109,
     "metadata": {},
     "output_type": "execute_result"
    }
   ],
   "source": [
    "pd.merge(df, F_df, how='inner', on='Word')[['SUBTLWF', 'Freq_HAL']].corr()"
   ]
  },
  {
   "cell_type": "markdown",
   "id": "6fc33408",
   "metadata": {},
   "source": [
    "잘 생각해볼 포인트. HAL이랑 SUBTLEX의 크기를 생각해보면 상관이 저렇게 나올 이유가 있을까?"
   ]
  },
  {
   "cell_type": "markdown",
   "id": "b4a18c44",
   "metadata": {},
   "source": [
    "# Shusaku et el.(2022)"
   ]
  },
  {
   "cell_type": "markdown",
   "id": "289f98fc",
   "metadata": {},
   "source": [
    "Word learning and lexicalization in a second language: Evidence\n",
    "from the Prime lexicality effect in masked form priming"
   ]
  },
  {
   "cell_type": "code",
   "execution_count": 110,
   "id": "70748338",
   "metadata": {},
   "outputs": [
    {
     "data": {
      "text/plain": [
       "20"
      ]
     },
     "execution_count": 110,
     "metadata": {},
     "output_type": "execute_result"
    }
   ],
   "source": [
    "related_prime_F_df = pd.DataFrame(\n",
    "    {\n",
    "        'Word': ['abode', 'aglow', 'bunk', 'colt', 'knack', \n",
    "                 'lank', 'mucky', 'omen', 'slant', 'skid', \n",
    "                 'stow', 'latch', 'awry', 'bash', 'blob', \n",
    "                 'chasm', 'coda', 'fount', 'nigih', 'douse'\n",
    "                 ]\n",
    "    }\n",
    ")\n",
    "len(related_prime_F_df)"
   ]
  },
  {
   "cell_type": "code",
   "execution_count": 111,
   "id": "863ebed4",
   "metadata": {},
   "outputs": [
    {
     "data": {
      "text/html": [
       "<div>\n",
       "<style scoped>\n",
       "    .dataframe tbody tr th:only-of-type {\n",
       "        vertical-align: middle;\n",
       "    }\n",
       "\n",
       "    .dataframe tbody tr th {\n",
       "        vertical-align: top;\n",
       "    }\n",
       "\n",
       "    .dataframe thead th {\n",
       "        text-align: right;\n",
       "    }\n",
       "</style>\n",
       "<table border=\"1\" class=\"dataframe\">\n",
       "  <thead>\n",
       "    <tr style=\"text-align: right;\">\n",
       "      <th></th>\n",
       "      <th>SUBTLWF</th>\n",
       "      <th>CSAT_Freq</th>\n",
       "    </tr>\n",
       "  </thead>\n",
       "  <tbody>\n",
       "    <tr>\n",
       "      <th>0</th>\n",
       "      <td>0.65</td>\n",
       "      <td>NaN</td>\n",
       "    </tr>\n",
       "    <tr>\n",
       "      <th>1</th>\n",
       "      <td>0.47</td>\n",
       "      <td>NaN</td>\n",
       "    </tr>\n",
       "    <tr>\n",
       "      <th>2</th>\n",
       "      <td>0.55</td>\n",
       "      <td>1.0</td>\n",
       "    </tr>\n",
       "    <tr>\n",
       "      <th>3</th>\n",
       "      <td>3.27</td>\n",
       "      <td>NaN</td>\n",
       "    </tr>\n",
       "    <tr>\n",
       "      <th>4</th>\n",
       "      <td>1.18</td>\n",
       "      <td>NaN</td>\n",
       "    </tr>\n",
       "    <tr>\n",
       "      <th>5</th>\n",
       "      <td>6.27</td>\n",
       "      <td>NaN</td>\n",
       "    </tr>\n",
       "    <tr>\n",
       "      <th>6</th>\n",
       "      <td>0.35</td>\n",
       "      <td>1.0</td>\n",
       "    </tr>\n",
       "    <tr>\n",
       "      <th>7</th>\n",
       "      <td>0.14</td>\n",
       "      <td>NaN</td>\n",
       "    </tr>\n",
       "    <tr>\n",
       "      <th>8</th>\n",
       "      <td>5.24</td>\n",
       "      <td>NaN</td>\n",
       "    </tr>\n",
       "    <tr>\n",
       "      <th>9</th>\n",
       "      <td>0.80</td>\n",
       "      <td>NaN</td>\n",
       "    </tr>\n",
       "    <tr>\n",
       "      <th>10</th>\n",
       "      <td>2.49</td>\n",
       "      <td>NaN</td>\n",
       "    </tr>\n",
       "    <tr>\n",
       "      <th>11</th>\n",
       "      <td>0.02</td>\n",
       "      <td>NaN</td>\n",
       "    </tr>\n",
       "    <tr>\n",
       "      <th>12</th>\n",
       "      <td>1.92</td>\n",
       "      <td>NaN</td>\n",
       "    </tr>\n",
       "    <tr>\n",
       "      <th>13</th>\n",
       "      <td>0.18</td>\n",
       "      <td>NaN</td>\n",
       "    </tr>\n",
       "    <tr>\n",
       "      <th>14</th>\n",
       "      <td>1.71</td>\n",
       "      <td>NaN</td>\n",
       "    </tr>\n",
       "    <tr>\n",
       "      <th>15</th>\n",
       "      <td>2.18</td>\n",
       "      <td>1.0</td>\n",
       "    </tr>\n",
       "    <tr>\n",
       "      <th>16</th>\n",
       "      <td>1.14</td>\n",
       "      <td>NaN</td>\n",
       "    </tr>\n",
       "    <tr>\n",
       "      <th>17</th>\n",
       "      <td>1.25</td>\n",
       "      <td>NaN</td>\n",
       "    </tr>\n",
       "  </tbody>\n",
       "</table>\n",
       "</div>"
      ],
      "text/plain": [
       "    SUBTLWF  CSAT_Freq\n",
       "0      0.65        NaN\n",
       "1      0.47        NaN\n",
       "2      0.55        1.0\n",
       "3      3.27        NaN\n",
       "4      1.18        NaN\n",
       "5      6.27        NaN\n",
       "6      0.35        1.0\n",
       "7      0.14        NaN\n",
       "8      5.24        NaN\n",
       "9      0.80        NaN\n",
       "10     2.49        NaN\n",
       "11     0.02        NaN\n",
       "12     1.92        NaN\n",
       "13     0.18        NaN\n",
       "14     1.71        NaN\n",
       "15     2.18        1.0\n",
       "16     1.14        NaN\n",
       "17     1.25        NaN"
      ]
     },
     "execution_count": 111,
     "metadata": {},
     "output_type": "execute_result"
    }
   ],
   "source": [
    "pd.merge(df, related_prime_F_df, how='inner', on='Word')[['SUBTLWF', 'CSAT_Freq']]"
   ]
  },
  {
   "cell_type": "code",
   "execution_count": 112,
   "id": "df3f285a",
   "metadata": {},
   "outputs": [
    {
     "data": {
      "text/plain": [
       "20"
      ]
     },
     "execution_count": 112,
     "metadata": {},
     "output_type": "execute_result"
    }
   ],
   "source": [
    "control_prime_F_df = pd.DataFrame(\n",
    "    {\n",
    "        'Word': ['flirt', 'furry', 'yarn', 'kick', 'flute', \n",
    "                 'tend', 'sheet', 'flux', 'curly', 'puff', \n",
    "                 'lava', 'bells', 'edit', 'twin', 'jive', \n",
    "                 'wired', 'sink', 'media', 'romp', 'inch'\n",
    "                 ]\n",
    "    }\n",
    ")\n",
    "len(control_prime_F_df)"
   ]
  },
  {
   "cell_type": "code",
   "execution_count": 113,
   "id": "9ec42546",
   "metadata": {},
   "outputs": [
    {
     "data": {
      "text/html": [
       "<div>\n",
       "<style scoped>\n",
       "    .dataframe tbody tr th:only-of-type {\n",
       "        vertical-align: middle;\n",
       "    }\n",
       "\n",
       "    .dataframe tbody tr th {\n",
       "        vertical-align: top;\n",
       "    }\n",
       "\n",
       "    .dataframe thead th {\n",
       "        text-align: right;\n",
       "    }\n",
       "</style>\n",
       "<table border=\"1\" class=\"dataframe\">\n",
       "  <thead>\n",
       "    <tr style=\"text-align: right;\">\n",
       "      <th></th>\n",
       "      <th>SUBTLWF</th>\n",
       "      <th>CSAT_Freq</th>\n",
       "    </tr>\n",
       "  </thead>\n",
       "  <tbody>\n",
       "    <tr>\n",
       "      <th>SUBTLWF</th>\n",
       "      <td>1.000000</td>\n",
       "      <td>0.122187</td>\n",
       "    </tr>\n",
       "    <tr>\n",
       "      <th>CSAT_Freq</th>\n",
       "      <td>0.122187</td>\n",
       "      <td>1.000000</td>\n",
       "    </tr>\n",
       "  </tbody>\n",
       "</table>\n",
       "</div>"
      ],
      "text/plain": [
       "            SUBTLWF  CSAT_Freq\n",
       "SUBTLWF    1.000000   0.122187\n",
       "CSAT_Freq  0.122187   1.000000"
      ]
     },
     "execution_count": 113,
     "metadata": {},
     "output_type": "execute_result"
    }
   ],
   "source": [
    "pd.merge(df, control_prime_F_df, how='inner', on='Word')[['SUBTLWF', 'CSAT_Freq']].corr()"
   ]
  },
  {
   "cell_type": "markdown",
   "id": "c30d76a1",
   "metadata": {},
   "source": [
    "# Adel et al.(2022)"
   ]
  },
  {
   "cell_type": "markdown",
   "id": "d0c5f803",
   "metadata": {},
   "source": [
    "The elusive impact of L2 immersion on translation priming"
   ]
  },
  {
   "cell_type": "markdown",
   "id": "290fb6bd",
   "metadata": {},
   "source": [
    "stimuli word from SUBTLEX-UK"
   ]
  },
  {
   "cell_type": "code",
   "execution_count": 114,
   "id": "32b56d08",
   "metadata": {},
   "outputs": [
    {
     "data": {
      "text/plain": [
       "314"
      ]
     },
     "execution_count": 114,
     "metadata": {},
     "output_type": "execute_result"
    }
   ],
   "source": [
    "control_prime_F_df = pd.DataFrame(\n",
    "    {\n",
    "        'Word': ['law', 'year', 'love', 'mess', 'hate', \n",
    "                 'harm', 'aunt', 'boss', 'side', 'chill', \n",
    "                 'night', 'twin', 'party', 'pity', 'mix', \n",
    "                 'size', 'trip', 'anger', 'dream', 'bunch',\n",
    "                 'dirt', 'haste', 'half', 'life', 'place', \n",
    "                 'glow', 'roar', 'smell', 'work', 'army', \n",
    "                 'chess', 'crowd', 'end', 'fact', 'hustle', \n",
    "                 'morning', 'smile', 'clash', 'strain', 'strike',\n",
    "                 'truce', 'level', 'bounce', 'bribe', 'feat', \n",
    "                 'plunge', 'prayer', 'drought', 'raise', 'scope', \n",
    "\n",
    "                 'chapter', 'truth', 'flu', 'task', 'owner', \n",
    "                 'winter', 'youth', 'craving', 'buzz', 'charm',\n",
    "                 'design', 'surge', 'hangover', 'hunger', 'prank', \n",
    "                 'setback', 'flurry', 'praise', 'profile', 'relief', \n",
    "                 'script', 'meeting', 'sadness', 'weather', 'belief', \n",
    "                 'change', 'deceit', 'delight', 'help', 'glimpse',\n",
    "                 'guest', 'madness', 'friend', 'pursuit', 'height', \n",
    "                 'scolding', 'sense', 'shortage', 'trait', 'injury', \n",
    "                 'void', 'width', 'alibi', 'pleasure', 'coldness', \n",
    "                 'demise', 'outcry', 'essay', 'flight', 'goodness',\n",
    "                 'ghost', 'handful', 'hoax', 'intake', \n",
    "\n",
    "                 'mayhem', 'misstep', 'mortgage', 'medley', 'noise', \n",
    "                 'payroll', 'retreat', 'miracle', 'threat', 'gang', \n",
    "                 'success', 'whisper', 'famine', 'beauty', 'award',\n",
    "                 'asset', 'cousin', 'defeat', 'plot', 'effort', \n",
    "                 'goddess', 'clue', 'harvest', 'proof', 'breed', \n",
    "                 'burial', 'laziness', 'gamble', 'gossip', 'guilt',\n",
    "                 'health', 'insanity', 'jeopardy', 'jump', 'measure', \n",
    "                 'portrait', 'realm', 'affair', 'soul', 'stealth', \n",
    "                 'warmth', 'query', 'advice', 'business', 'heaven',\n",
    "                 'outbreak', 'nuisance', 'shortcut', 'likeness', 'arrival', \n",
    "                 'closure', 'people', 'death', 'delivery', \n",
    "\n",
    "                 'hunt', 'today', 'duty', 'source', 'leisure', \n",
    "                 'support', 'century', 'courage', 'brand', 'income', \n",
    "                 'oblivion', 'motto', 'account', 'dinner', 'thirst',\n",
    "                 'view', 'wedding', 'evil', 'leftover', 'month', \n",
    "                 'struggle', 'sorrow', 'failure', 'weight', 'burden', \n",
    "                 'wrath', 'lullaby', 'laughter', 'step', 'fashion',\n",
    "                 'faith', 'casualty', 'layer', 'nose', 'bear', \n",
    "                 'sun', 'coat', 'swan', 'heel', 'comb', \n",
    "                 'fist', 'hanger', 'king', 'moon', 'witch',\n",
    "                 'soap', 'river', 'nail', 'watch', 'milk', \n",
    "                 'owl', 'snow', 'chain', 'grape', 'puddle',\n",
    "\n",
    "                 'nest', 'seal', 'pocket', 'wall', 'bird', \n",
    "                 'goat', 'horn', 'honey', 'neck', 'oven', \n",
    "                 'spoon', 'money', 'waiter', 'wallet', 'glove',\n",
    "                 'skunk', 'suit', 'lighter', 'scarf', 'sheep', \n",
    "                 'snail', 'whale', 'arrow', 'beard', 'corner', \n",
    "                 'clown', 'ankle', 'apple', 'drawer', 'eye',\n",
    "                 'spider', 'woman', 'magnet', 'nipple', 'painting', \n",
    "                 'key', 'onion', 'bull', 'chair', 'dress', \n",
    "                 'coffin', 'bridge', 'door', 'lobster', 'bed',\n",
    "                 'trigger', 'pumpkin', 'pencil', 'wheat', 'umbrella', \n",
    "                 'wing', 'avocado', 'cucumber', 'hedgehog', 'ostrich',\n",
    "\n",
    "                 'rabbit', 'shield', 'window', 'chruch', 'finger', \n",
    "                 'forest', 'fairly', 'scissors', 'shower', 'skirt', \n",
    "                 'squirrel', 'mirror', 'shadow', 'needle', 'shoulder',\n",
    "                 'thumb', 'wardrobe', 'waitress', 'box', 'hand', \n",
    "                 'hair', 'table', 'octopus', 'cherry', 'walrus', \n",
    "                 'duck', 'egg', 'donkey', 'cheese', 'rubber',\n",
    "                 'queen', 'suitcase', 'fence', 'turkey', 'wolf', \n",
    "                 'mouth', 'chicken', 'frog', 'thread', 'candle', \n",
    "                 'kithen', 'bullet', 'face', 'parrot', 'elbow',\n",
    "                 'house',\n",
    "                 ]\n",
    "    }\n",
    ")\n",
    "len(control_prime_F_df)"
   ]
  },
  {
   "cell_type": "code",
   "execution_count": 115,
   "id": "8f688fbb",
   "metadata": {},
   "outputs": [
    {
     "data": {
      "text/html": [
       "<div>\n",
       "<style scoped>\n",
       "    .dataframe tbody tr th:only-of-type {\n",
       "        vertical-align: middle;\n",
       "    }\n",
       "\n",
       "    .dataframe tbody tr th {\n",
       "        vertical-align: top;\n",
       "    }\n",
       "\n",
       "    .dataframe thead th {\n",
       "        text-align: right;\n",
       "    }\n",
       "</style>\n",
       "<table border=\"1\" class=\"dataframe\">\n",
       "  <thead>\n",
       "    <tr style=\"text-align: right;\">\n",
       "      <th></th>\n",
       "      <th>Word</th>\n",
       "    </tr>\n",
       "  </thead>\n",
       "  <tbody>\n",
       "    <tr>\n",
       "      <th>0</th>\n",
       "      <td>law</td>\n",
       "    </tr>\n",
       "    <tr>\n",
       "      <th>1</th>\n",
       "      <td>year</td>\n",
       "    </tr>\n",
       "    <tr>\n",
       "      <th>2</th>\n",
       "      <td>love</td>\n",
       "    </tr>\n",
       "    <tr>\n",
       "      <th>3</th>\n",
       "      <td>mess</td>\n",
       "    </tr>\n",
       "    <tr>\n",
       "      <th>4</th>\n",
       "      <td>hate</td>\n",
       "    </tr>\n",
       "    <tr>\n",
       "      <th>...</th>\n",
       "      <td>...</td>\n",
       "    </tr>\n",
       "    <tr>\n",
       "      <th>309</th>\n",
       "      <td>bullet</td>\n",
       "    </tr>\n",
       "    <tr>\n",
       "      <th>310</th>\n",
       "      <td>face</td>\n",
       "    </tr>\n",
       "    <tr>\n",
       "      <th>311</th>\n",
       "      <td>parrot</td>\n",
       "    </tr>\n",
       "    <tr>\n",
       "      <th>312</th>\n",
       "      <td>elbow</td>\n",
       "    </tr>\n",
       "    <tr>\n",
       "      <th>313</th>\n",
       "      <td>house</td>\n",
       "    </tr>\n",
       "  </tbody>\n",
       "</table>\n",
       "<p>314 rows × 1 columns</p>\n",
       "</div>"
      ],
      "text/plain": [
       "       Word\n",
       "0       law\n",
       "1      year\n",
       "2      love\n",
       "3      mess\n",
       "4      hate\n",
       "..      ...\n",
       "309  bullet\n",
       "310    face\n",
       "311  parrot\n",
       "312   elbow\n",
       "313   house\n",
       "\n",
       "[314 rows x 1 columns]"
      ]
     },
     "execution_count": 115,
     "metadata": {},
     "output_type": "execute_result"
    }
   ],
   "source": [
    "control_prime_F_df"
   ]
  },
  {
   "cell_type": "code",
   "execution_count": 116,
   "id": "76a0c3c5",
   "metadata": {},
   "outputs": [
    {
     "data": {
      "text/html": [
       "<div>\n",
       "<style scoped>\n",
       "    .dataframe tbody tr th:only-of-type {\n",
       "        vertical-align: middle;\n",
       "    }\n",
       "\n",
       "    .dataframe tbody tr th {\n",
       "        vertical-align: top;\n",
       "    }\n",
       "\n",
       "    .dataframe thead th {\n",
       "        text-align: right;\n",
       "    }\n",
       "</style>\n",
       "<table border=\"1\" class=\"dataframe\">\n",
       "  <thead>\n",
       "    <tr style=\"text-align: right;\">\n",
       "      <th></th>\n",
       "      <th>SUBTLWF</th>\n",
       "      <th>CSAT_Freq</th>\n",
       "    </tr>\n",
       "  </thead>\n",
       "  <tbody>\n",
       "    <tr>\n",
       "      <th>SUBTLWF</th>\n",
       "      <td>1.000000</td>\n",
       "      <td>0.796441</td>\n",
       "    </tr>\n",
       "    <tr>\n",
       "      <th>CSAT_Freq</th>\n",
       "      <td>0.796441</td>\n",
       "      <td>1.000000</td>\n",
       "    </tr>\n",
       "  </tbody>\n",
       "</table>\n",
       "</div>"
      ],
      "text/plain": [
       "            SUBTLWF  CSAT_Freq\n",
       "SUBTLWF    1.000000   0.796441\n",
       "CSAT_Freq  0.796441   1.000000"
      ]
     },
     "execution_count": 116,
     "metadata": {},
     "output_type": "execute_result"
    }
   ],
   "source": [
    "pd.merge(df, control_prime_F_df, how='inner', on='Word')[['SUBTLWF', 'CSAT_Freq']].corr()"
   ]
  },
  {
   "cell_type": "code",
   "execution_count": 117,
   "id": "abf94cac",
   "metadata": {},
   "outputs": [
    {
     "data": {
      "text/html": [
       "<div>\n",
       "<style scoped>\n",
       "    .dataframe tbody tr th:only-of-type {\n",
       "        vertical-align: middle;\n",
       "    }\n",
       "\n",
       "    .dataframe tbody tr th {\n",
       "        vertical-align: top;\n",
       "    }\n",
       "\n",
       "    .dataframe thead th {\n",
       "        text-align: right;\n",
       "    }\n",
       "</style>\n",
       "<table border=\"1\" class=\"dataframe\">\n",
       "  <thead>\n",
       "    <tr style=\"text-align: right;\">\n",
       "      <th></th>\n",
       "      <th>Freq_HAL</th>\n",
       "      <th>CSAT_Freq</th>\n",
       "    </tr>\n",
       "  </thead>\n",
       "  <tbody>\n",
       "    <tr>\n",
       "      <th>Freq_HAL</th>\n",
       "      <td>1.000000</td>\n",
       "      <td>0.902766</td>\n",
       "    </tr>\n",
       "    <tr>\n",
       "      <th>CSAT_Freq</th>\n",
       "      <td>0.902766</td>\n",
       "      <td>1.000000</td>\n",
       "    </tr>\n",
       "  </tbody>\n",
       "</table>\n",
       "</div>"
      ],
      "text/plain": [
       "           Freq_HAL  CSAT_Freq\n",
       "Freq_HAL   1.000000   0.902766\n",
       "CSAT_Freq  0.902766   1.000000"
      ]
     },
     "execution_count": 117,
     "metadata": {},
     "output_type": "execute_result"
    }
   ],
   "source": [
    "pd.merge(df, control_prime_F_df, how='inner', on='Word')[['Freq_HAL', 'CSAT_Freq']].corr()"
   ]
  },
  {
   "cell_type": "code",
   "execution_count": 118,
   "id": "f237592d",
   "metadata": {},
   "outputs": [
    {
     "data": {
      "text/html": [
       "<div>\n",
       "<style scoped>\n",
       "    .dataframe tbody tr th:only-of-type {\n",
       "        vertical-align: middle;\n",
       "    }\n",
       "\n",
       "    .dataframe tbody tr th {\n",
       "        vertical-align: top;\n",
       "    }\n",
       "\n",
       "    .dataframe thead th {\n",
       "        text-align: right;\n",
       "    }\n",
       "</style>\n",
       "<table border=\"1\" class=\"dataframe\">\n",
       "  <thead>\n",
       "    <tr style=\"text-align: right;\">\n",
       "      <th></th>\n",
       "      <th>SUBTLWF</th>\n",
       "      <th>Freq_HAL</th>\n",
       "    </tr>\n",
       "  </thead>\n",
       "  <tbody>\n",
       "    <tr>\n",
       "      <th>SUBTLWF</th>\n",
       "      <td>1.000000</td>\n",
       "      <td>0.769079</td>\n",
       "    </tr>\n",
       "    <tr>\n",
       "      <th>Freq_HAL</th>\n",
       "      <td>0.769079</td>\n",
       "      <td>1.000000</td>\n",
       "    </tr>\n",
       "  </tbody>\n",
       "</table>\n",
       "</div>"
      ],
      "text/plain": [
       "           SUBTLWF  Freq_HAL\n",
       "SUBTLWF   1.000000  0.769079\n",
       "Freq_HAL  0.769079  1.000000"
      ]
     },
     "execution_count": 118,
     "metadata": {},
     "output_type": "execute_result"
    }
   ],
   "source": [
    "pd.merge(df, control_prime_F_df, how='inner', on='Word')[['SUBTLWF', 'Freq_HAL']].corr()"
   ]
  },
  {
   "cell_type": "markdown",
   "id": "6ec963cf",
   "metadata": {},
   "source": [
    "얘는 상관을 보니, 우리가 비슷하다고 생각했던 전형적인 모습."
   ]
  },
  {
   "cell_type": "code",
   "execution_count": 119,
   "id": "546814d3",
   "metadata": {},
   "outputs": [
    {
     "data": {
      "text/html": [
       "<div>\n",
       "<style scoped>\n",
       "    .dataframe tbody tr th:only-of-type {\n",
       "        vertical-align: middle;\n",
       "    }\n",
       "\n",
       "    .dataframe tbody tr th {\n",
       "        vertical-align: top;\n",
       "    }\n",
       "\n",
       "    .dataframe thead th {\n",
       "        text-align: right;\n",
       "    }\n",
       "</style>\n",
       "<table border=\"1\" class=\"dataframe\">\n",
       "  <thead>\n",
       "    <tr style=\"text-align: right;\">\n",
       "      <th></th>\n",
       "      <th>SUBTLWF</th>\n",
       "      <th>Freq_HAL</th>\n",
       "    </tr>\n",
       "  </thead>\n",
       "  <tbody>\n",
       "    <tr>\n",
       "      <th>0</th>\n",
       "      <td>1114.98</td>\n",
       "      <td>165830</td>\n",
       "    </tr>\n",
       "    <tr>\n",
       "      <th>1</th>\n",
       "      <td>1102.98</td>\n",
       "      <td>768168</td>\n",
       "    </tr>\n",
       "    <tr>\n",
       "      <th>2</th>\n",
       "      <td>921.12</td>\n",
       "      <td>335483</td>\n",
       "    </tr>\n",
       "    <tr>\n",
       "      <th>3</th>\n",
       "      <td>866.04</td>\n",
       "      <td>97524</td>\n",
       "    </tr>\n",
       "    <tr>\n",
       "      <th>4</th>\n",
       "      <td>798.02</td>\n",
       "      <td>451298</td>\n",
       "    </tr>\n",
       "    <tr>\n",
       "      <th>...</th>\n",
       "      <td>...</td>\n",
       "      <td>...</td>\n",
       "    </tr>\n",
       "    <tr>\n",
       "      <th>305</th>\n",
       "      <td>0.47</td>\n",
       "      <td>200</td>\n",
       "    </tr>\n",
       "    <tr>\n",
       "      <th>306</th>\n",
       "      <td>0.33</td>\n",
       "      <td>184</td>\n",
       "    </tr>\n",
       "    <tr>\n",
       "      <th>307</th>\n",
       "      <td>0.29</td>\n",
       "      <td>983</td>\n",
       "    </tr>\n",
       "    <tr>\n",
       "      <th>308</th>\n",
       "      <td>0.24</td>\n",
       "      <td>667</td>\n",
       "    </tr>\n",
       "    <tr>\n",
       "      <th>309</th>\n",
       "      <td>0.20</td>\n",
       "      <td>47</td>\n",
       "    </tr>\n",
       "  </tbody>\n",
       "</table>\n",
       "<p>310 rows × 2 columns</p>\n",
       "</div>"
      ],
      "text/plain": [
       "     SUBTLWF  Freq_HAL\n",
       "0    1114.98    165830\n",
       "1    1102.98    768168\n",
       "2     921.12    335483\n",
       "3     866.04     97524\n",
       "4     798.02    451298\n",
       "..       ...       ...\n",
       "305     0.47       200\n",
       "306     0.33       184\n",
       "307     0.29       983\n",
       "308     0.24       667\n",
       "309     0.20        47\n",
       "\n",
       "[310 rows x 2 columns]"
      ]
     },
     "execution_count": 119,
     "metadata": {},
     "output_type": "execute_result"
    }
   ],
   "source": [
    "pd.merge(df, control_prime_F_df, how='inner', on='Word')[['SUBTLWF', 'Freq_HAL']].sort_values(by='SUBTLWF', ascending=False).reset_index(drop=True)"
   ]
  },
  {
   "cell_type": "code",
   "execution_count": 120,
   "id": "a659f42e",
   "metadata": {},
   "outputs": [
    {
     "data": {
      "text/html": [
       "<div>\n",
       "<style scoped>\n",
       "    .dataframe tbody tr th:only-of-type {\n",
       "        vertical-align: middle;\n",
       "    }\n",
       "\n",
       "    .dataframe tbody tr th {\n",
       "        vertical-align: top;\n",
       "    }\n",
       "\n",
       "    .dataframe thead th {\n",
       "        text-align: right;\n",
       "    }\n",
       "</style>\n",
       "<table border=\"1\" class=\"dataframe\">\n",
       "  <thead>\n",
       "    <tr style=\"text-align: right;\">\n",
       "      <th></th>\n",
       "      <th>SUBTLWF</th>\n",
       "      <th>Freq_HAL</th>\n",
       "    </tr>\n",
       "  </thead>\n",
       "  <tbody>\n",
       "    <tr>\n",
       "      <th>count</th>\n",
       "      <td>310.000000</td>\n",
       "      <td>310.000000</td>\n",
       "    </tr>\n",
       "    <tr>\n",
       "      <th>mean</th>\n",
       "      <td>65.864129</td>\n",
       "      <td>29637.625806</td>\n",
       "    </tr>\n",
       "    <tr>\n",
       "      <th>std</th>\n",
       "      <td>153.847221</td>\n",
       "      <td>67199.253893</td>\n",
       "    </tr>\n",
       "    <tr>\n",
       "      <th>min</th>\n",
       "      <td>0.200000</td>\n",
       "      <td>47.000000</td>\n",
       "    </tr>\n",
       "    <tr>\n",
       "      <th>25%</th>\n",
       "      <td>5.782500</td>\n",
       "      <td>2584.750000</td>\n",
       "    </tr>\n",
       "    <tr>\n",
       "      <th>50%</th>\n",
       "      <td>14.825000</td>\n",
       "      <td>8222.000000</td>\n",
       "    </tr>\n",
       "    <tr>\n",
       "      <th>75%</th>\n",
       "      <td>48.690000</td>\n",
       "      <td>24973.500000</td>\n",
       "    </tr>\n",
       "    <tr>\n",
       "      <th>max</th>\n",
       "      <td>1114.980000</td>\n",
       "      <td>768168.000000</td>\n",
       "    </tr>\n",
       "  </tbody>\n",
       "</table>\n",
       "</div>"
      ],
      "text/plain": [
       "           SUBTLWF       Freq_HAL\n",
       "count   310.000000     310.000000\n",
       "mean     65.864129   29637.625806\n",
       "std     153.847221   67199.253893\n",
       "min       0.200000      47.000000\n",
       "25%       5.782500    2584.750000\n",
       "50%      14.825000    8222.000000\n",
       "75%      48.690000   24973.500000\n",
       "max    1114.980000  768168.000000"
      ]
     },
     "execution_count": 120,
     "metadata": {},
     "output_type": "execute_result"
    }
   ],
   "source": [
    "pd.merge(df, control_prime_F_df, how='inner', on='Word')[['SUBTLWF', 'Freq_HAL']].describe()"
   ]
  },
  {
   "cell_type": "markdown",
   "id": "3f6e23fc",
   "metadata": {},
   "source": [
    "# Wolter et al.(2011)"
   ]
  },
  {
   "cell_type": "markdown",
   "id": "7d603d39",
   "metadata": {},
   "source": [
    "Collocational Links in the L2 Mental Lexicon and the Influence of L1 Intralexical Knowledge"
   ]
  },
  {
   "cell_type": "code",
   "execution_count": 131,
   "id": "3625af8d",
   "metadata": {},
   "outputs": [
    {
     "data": {
      "text/plain": [
       "96"
      ]
     },
     "execution_count": 131,
     "metadata": {},
     "output_type": "execute_result"
    }
   ],
   "source": [
    "control_prime_F_df = pd.DataFrame(\n",
    "    {\n",
    "        'Word': ['spend', 'express', 'treat', 'take', 'miss', 'cause', 'heal', 'make', 'find', 'open', 'sign',\n",
    "                 'fight', 'join', 'seek', 'send', 'watch', 'visit', 'break', 'pay', 'raise', 'book', 'feed',\n",
    "                 'rob', 'avoid', 'boil', 'abandon', 'show', 'press', 'lift', 'bear', 'call', 'plant',\n",
    "                 'lay', 'lend', 'entertain', 'draw', 'grow', 'suffer', 'steal', 'speak', 'throw', \n",
    "                 'pass', 'work', 'jump', 'catch', 'exercise', 'bend', 'keep', 'have', 'say', 'bite', 'adopt',\n",
    "                 'lose', 'fly', 'foot', 'assume', 'do', 'cast', 'spread', 'run', 'see', 'give', 'stand', \n",
    "                 'learn', 'win', 'create', 'read', 'follow', 'defend', 'pose', 'fudge', 'invite', 'clear', 'tell', \n",
    "                 'leave', 'ensure', 'elect', 'like', 'play', 'set', 'bare', 'view', 'claim', 'collect', 'stay', 'hear', 'ease',\n",
    "                 'score', 'limit', 'submit', 'use', 'produce', 'inflict', 'share', 'trace', 'feel'\n",
    "                ]\n",
    "    }\n",
    ")\n",
    "len(control_prime_F_df)"
   ]
  },
  {
   "cell_type": "code",
   "execution_count": 132,
   "id": "3e6773a0",
   "metadata": {},
   "outputs": [
    {
     "data": {
      "text/plain": [
       "96"
      ]
     },
     "execution_count": 132,
     "metadata": {},
     "output_type": "execute_result"
    }
   ],
   "source": [
    "control_prime_F_df['Word'].nunique()"
   ]
  },
  {
   "cell_type": "code",
   "execution_count": 133,
   "id": "b7323902",
   "metadata": {},
   "outputs": [
    {
     "data": {
      "text/html": [
       "<div>\n",
       "<style scoped>\n",
       "    .dataframe tbody tr th:only-of-type {\n",
       "        vertical-align: middle;\n",
       "    }\n",
       "\n",
       "    .dataframe tbody tr th {\n",
       "        vertical-align: top;\n",
       "    }\n",
       "\n",
       "    .dataframe thead th {\n",
       "        text-align: right;\n",
       "    }\n",
       "</style>\n",
       "<table border=\"1\" class=\"dataframe\">\n",
       "  <thead>\n",
       "    <tr style=\"text-align: right;\">\n",
       "      <th></th>\n",
       "      <th>SUBTLWF</th>\n",
       "      <th>CSAT_Freq</th>\n",
       "    </tr>\n",
       "  </thead>\n",
       "  <tbody>\n",
       "    <tr>\n",
       "      <th>SUBTLWF</th>\n",
       "      <td>1.000000</td>\n",
       "      <td>0.947917</td>\n",
       "    </tr>\n",
       "    <tr>\n",
       "      <th>CSAT_Freq</th>\n",
       "      <td>0.947917</td>\n",
       "      <td>1.000000</td>\n",
       "    </tr>\n",
       "  </tbody>\n",
       "</table>\n",
       "</div>"
      ],
      "text/plain": [
       "            SUBTLWF  CSAT_Freq\n",
       "SUBTLWF    1.000000   0.947917\n",
       "CSAT_Freq  0.947917   1.000000"
      ]
     },
     "execution_count": 133,
     "metadata": {},
     "output_type": "execute_result"
    }
   ],
   "source": [
    "pd.merge(df, control_prime_F_df, how='inner', on='Word')[['SUBTLWF', 'CSAT_Freq']].corr()"
   ]
  },
  {
   "cell_type": "code",
   "execution_count": 134,
   "id": "7d206c38",
   "metadata": {},
   "outputs": [
    {
     "data": {
      "text/html": [
       "<div>\n",
       "<style scoped>\n",
       "    .dataframe tbody tr th:only-of-type {\n",
       "        vertical-align: middle;\n",
       "    }\n",
       "\n",
       "    .dataframe tbody tr th {\n",
       "        vertical-align: top;\n",
       "    }\n",
       "\n",
       "    .dataframe thead th {\n",
       "        text-align: right;\n",
       "    }\n",
       "</style>\n",
       "<table border=\"1\" class=\"dataframe\">\n",
       "  <thead>\n",
       "    <tr style=\"text-align: right;\">\n",
       "      <th></th>\n",
       "      <th>Freq_HAL</th>\n",
       "      <th>CSAT_Freq</th>\n",
       "    </tr>\n",
       "  </thead>\n",
       "  <tbody>\n",
       "    <tr>\n",
       "      <th>Freq_HAL</th>\n",
       "      <td>1.000000</td>\n",
       "      <td>0.969531</td>\n",
       "    </tr>\n",
       "    <tr>\n",
       "      <th>CSAT_Freq</th>\n",
       "      <td>0.969531</td>\n",
       "      <td>1.000000</td>\n",
       "    </tr>\n",
       "  </tbody>\n",
       "</table>\n",
       "</div>"
      ],
      "text/plain": [
       "           Freq_HAL  CSAT_Freq\n",
       "Freq_HAL   1.000000   0.969531\n",
       "CSAT_Freq  0.969531   1.000000"
      ]
     },
     "execution_count": 134,
     "metadata": {},
     "output_type": "execute_result"
    }
   ],
   "source": [
    "pd.merge(df, control_prime_F_df, how='inner', on='Word')[['Freq_HAL', 'CSAT_Freq']].corr()"
   ]
  },
  {
   "cell_type": "code",
   "execution_count": 135,
   "id": "090a73f2",
   "metadata": {},
   "outputs": [
    {
     "data": {
      "text/html": [
       "<div>\n",
       "<style scoped>\n",
       "    .dataframe tbody tr th:only-of-type {\n",
       "        vertical-align: middle;\n",
       "    }\n",
       "\n",
       "    .dataframe tbody tr th {\n",
       "        vertical-align: top;\n",
       "    }\n",
       "\n",
       "    .dataframe thead th {\n",
       "        text-align: right;\n",
       "    }\n",
       "</style>\n",
       "<table border=\"1\" class=\"dataframe\">\n",
       "  <thead>\n",
       "    <tr style=\"text-align: right;\">\n",
       "      <th></th>\n",
       "      <th>SUBTLWF</th>\n",
       "      <th>Freq_HAL</th>\n",
       "    </tr>\n",
       "  </thead>\n",
       "  <tbody>\n",
       "    <tr>\n",
       "      <th>SUBTLWF</th>\n",
       "      <td>1.000000</td>\n",
       "      <td>0.897063</td>\n",
       "    </tr>\n",
       "    <tr>\n",
       "      <th>Freq_HAL</th>\n",
       "      <td>0.897063</td>\n",
       "      <td>1.000000</td>\n",
       "    </tr>\n",
       "  </tbody>\n",
       "</table>\n",
       "</div>"
      ],
      "text/plain": [
       "           SUBTLWF  Freq_HAL\n",
       "SUBTLWF   1.000000  0.897063\n",
       "Freq_HAL  0.897063  1.000000"
      ]
     },
     "execution_count": 135,
     "metadata": {},
     "output_type": "execute_result"
    }
   ],
   "source": [
    "pd.merge(df, control_prime_F_df, how='inner', on='Word')[['SUBTLWF', 'Freq_HAL']].corr()"
   ]
  },
  {
   "cell_type": "code",
   "execution_count": 136,
   "id": "26ab800f",
   "metadata": {},
   "outputs": [
    {
     "data": {
      "text/plain": [
       "95"
      ]
     },
     "execution_count": 136,
     "metadata": {},
     "output_type": "execute_result"
    }
   ],
   "source": [
    "target_F_df = pd.DataFrame(\n",
    "    {\n",
    "        'Word': ['fortune', 'opinion', 'patient', 'bus', 'oppertunity', 'problem', 'film', 'job', 'account', 'contract', 'war',\n",
    "                 'club', 'help', 'message', 'television', 'friend', 'law', 'debt', 'hand', 'table', 'cat', 'bank', 'collision', 'egg', 'ship', 'interest', 'button', 'finger', 'cost', 'meeting', 'tree',\n",
    "                 'visit', 'record', 'idea', 'blood', 'beard', 'injury', 'thunder', 'volume', 'party', 'judgement', 'miracle', 'queue', 'cold', 'right', 'rule', 'diary', 'abortion', 'prayer', 'bullet', 'policy', 'sleep', 'flag', 'bill', 'responsibility', 'justice', 'vote', 'word', 'business', 'doctor', 'birth', 'chance', \n",
    "                 'settlement', 'metal', 'issues', 'user', 'approval', 'sales', 'shares', 'production', 'success', 'survival', 'rug',\n",
    "                 'world', 'pattern', 'rest', 'case', 'individuals', 'couple', 'fuel', 'outcome',\n",
    "                 'questions', 'models', 'fees', 'part', 'bottle', 'power', 'things', 'legislation', 'song', 'course', 'future', 'police', 'place', 'emphasis'\n",
    "                ]\n",
    "    }\n",
    ")\n",
    "len(target_F_df)"
   ]
  },
  {
   "cell_type": "code",
   "execution_count": 137,
   "id": "82431517",
   "metadata": {},
   "outputs": [
    {
     "data": {
      "text/plain": [
       "95"
      ]
     },
     "execution_count": 137,
     "metadata": {},
     "output_type": "execute_result"
    }
   ],
   "source": [
    "target_F_df.Word.nunique()"
   ]
  },
  {
   "cell_type": "code",
   "execution_count": 138,
   "id": "730e0c8a",
   "metadata": {},
   "outputs": [
    {
     "data": {
      "text/html": [
       "<div>\n",
       "<style scoped>\n",
       "    .dataframe tbody tr th:only-of-type {\n",
       "        vertical-align: middle;\n",
       "    }\n",
       "\n",
       "    .dataframe tbody tr th {\n",
       "        vertical-align: top;\n",
       "    }\n",
       "\n",
       "    .dataframe thead th {\n",
       "        text-align: right;\n",
       "    }\n",
       "</style>\n",
       "<table border=\"1\" class=\"dataframe\">\n",
       "  <thead>\n",
       "    <tr style=\"text-align: right;\">\n",
       "      <th></th>\n",
       "      <th>SUBTLWF</th>\n",
       "      <th>CSAT_Freq</th>\n",
       "    </tr>\n",
       "  </thead>\n",
       "  <tbody>\n",
       "    <tr>\n",
       "      <th>SUBTLWF</th>\n",
       "      <td>1.000000</td>\n",
       "      <td>0.692464</td>\n",
       "    </tr>\n",
       "    <tr>\n",
       "      <th>CSAT_Freq</th>\n",
       "      <td>0.692464</td>\n",
       "      <td>1.000000</td>\n",
       "    </tr>\n",
       "  </tbody>\n",
       "</table>\n",
       "</div>"
      ],
      "text/plain": [
       "            SUBTLWF  CSAT_Freq\n",
       "SUBTLWF    1.000000   0.692464\n",
       "CSAT_Freq  0.692464   1.000000"
      ]
     },
     "execution_count": 138,
     "metadata": {},
     "output_type": "execute_result"
    }
   ],
   "source": [
    "pd.merge(df, target_F_df, how='inner', on='Word')[['SUBTLWF', 'CSAT_Freq']].corr()"
   ]
  },
  {
   "cell_type": "code",
   "execution_count": 139,
   "id": "70e42d96",
   "metadata": {},
   "outputs": [
    {
     "data": {
      "text/html": [
       "<div>\n",
       "<style scoped>\n",
       "    .dataframe tbody tr th:only-of-type {\n",
       "        vertical-align: middle;\n",
       "    }\n",
       "\n",
       "    .dataframe tbody tr th {\n",
       "        vertical-align: top;\n",
       "    }\n",
       "\n",
       "    .dataframe thead th {\n",
       "        text-align: right;\n",
       "    }\n",
       "</style>\n",
       "<table border=\"1\" class=\"dataframe\">\n",
       "  <thead>\n",
       "    <tr style=\"text-align: right;\">\n",
       "      <th></th>\n",
       "      <th>Freq_HAL</th>\n",
       "      <th>CSAT_Freq</th>\n",
       "    </tr>\n",
       "  </thead>\n",
       "  <tbody>\n",
       "    <tr>\n",
       "      <th>Freq_HAL</th>\n",
       "      <td>1.000000</td>\n",
       "      <td>0.839884</td>\n",
       "    </tr>\n",
       "    <tr>\n",
       "      <th>CSAT_Freq</th>\n",
       "      <td>0.839884</td>\n",
       "      <td>1.000000</td>\n",
       "    </tr>\n",
       "  </tbody>\n",
       "</table>\n",
       "</div>"
      ],
      "text/plain": [
       "           Freq_HAL  CSAT_Freq\n",
       "Freq_HAL   1.000000   0.839884\n",
       "CSAT_Freq  0.839884   1.000000"
      ]
     },
     "execution_count": 139,
     "metadata": {},
     "output_type": "execute_result"
    }
   ],
   "source": [
    "pd.merge(df, target_F_df, how='inner', on='Word')[['Freq_HAL', 'CSAT_Freq']].corr()"
   ]
  },
  {
   "cell_type": "code",
   "execution_count": 140,
   "id": "a22d4546",
   "metadata": {},
   "outputs": [
    {
     "data": {
      "text/html": [
       "<div>\n",
       "<style scoped>\n",
       "    .dataframe tbody tr th:only-of-type {\n",
       "        vertical-align: middle;\n",
       "    }\n",
       "\n",
       "    .dataframe tbody tr th {\n",
       "        vertical-align: top;\n",
       "    }\n",
       "\n",
       "    .dataframe thead th {\n",
       "        text-align: right;\n",
       "    }\n",
       "</style>\n",
       "<table border=\"1\" class=\"dataframe\">\n",
       "  <thead>\n",
       "    <tr style=\"text-align: right;\">\n",
       "      <th></th>\n",
       "      <th>Freq_HAL</th>\n",
       "      <th>SUBTLWF</th>\n",
       "    </tr>\n",
       "  </thead>\n",
       "  <tbody>\n",
       "    <tr>\n",
       "      <th>Freq_HAL</th>\n",
       "      <td>1.000000</td>\n",
       "      <td>0.645376</td>\n",
       "    </tr>\n",
       "    <tr>\n",
       "      <th>SUBTLWF</th>\n",
       "      <td>0.645376</td>\n",
       "      <td>1.000000</td>\n",
       "    </tr>\n",
       "  </tbody>\n",
       "</table>\n",
       "</div>"
      ],
      "text/plain": [
       "          Freq_HAL   SUBTLWF\n",
       "Freq_HAL  1.000000  0.645376\n",
       "SUBTLWF   0.645376  1.000000"
      ]
     },
     "execution_count": 140,
     "metadata": {},
     "output_type": "execute_result"
    }
   ],
   "source": [
    "pd.merge(df, target_F_df, how='inner', on='Word')[['Freq_HAL', 'SUBTLWF']].corr()"
   ]
  },
  {
   "cell_type": "markdown",
   "id": "f9e019d1",
   "metadata": {},
   "source": [
    "# Chen et al.(2013)"
   ]
  },
  {
   "cell_type": "markdown",
   "id": "a9a00d76",
   "metadata": {},
   "source": [
    "Cross-Language Translation Priming Asymmetry with Chinese-English Bilinguals: A Test of the Sense Model"
   ]
  },
  {
   "cell_type": "code",
   "execution_count": 141,
   "id": "766c66c4",
   "metadata": {},
   "outputs": [
    {
     "data": {
      "text/plain": [
       "28"
      ]
     },
     "execution_count": 141,
     "metadata": {},
     "output_type": "execute_result"
    }
   ],
   "source": [
    "list1_F_df = pd.DataFrame(\n",
    "    {\n",
    "        'Word': ['earth', 'exercise', 'fall', 'key', 'make', 'park',\n",
    "                 'play', 'book', 'couple', 'doctor', 'free', 'field', 'gift', 'glass', \n",
    "                 'happen', 'knock', 'cold', 'letter', 'foot', 'country', 'lion', 'candle', \n",
    "                 'button', 'secret', 'grammar', 'height', 'finger', 'emotion'\n",
    "                 ]\n",
    "    }\n",
    ")\n",
    "len(list1_F_df)"
   ]
  },
  {
   "cell_type": "code",
   "execution_count": 142,
   "id": "3d390971",
   "metadata": {},
   "outputs": [
    {
     "data": {
      "text/html": [
       "<div>\n",
       "<style scoped>\n",
       "    .dataframe tbody tr th:only-of-type {\n",
       "        vertical-align: middle;\n",
       "    }\n",
       "\n",
       "    .dataframe tbody tr th {\n",
       "        vertical-align: top;\n",
       "    }\n",
       "\n",
       "    .dataframe thead th {\n",
       "        text-align: right;\n",
       "    }\n",
       "</style>\n",
       "<table border=\"1\" class=\"dataframe\">\n",
       "  <thead>\n",
       "    <tr style=\"text-align: right;\">\n",
       "      <th></th>\n",
       "      <th>SUBTLWF</th>\n",
       "      <th>CSAT_Freq</th>\n",
       "    </tr>\n",
       "  </thead>\n",
       "  <tbody>\n",
       "    <tr>\n",
       "      <th>SUBTLWF</th>\n",
       "      <td>1.000000</td>\n",
       "      <td>0.950654</td>\n",
       "    </tr>\n",
       "    <tr>\n",
       "      <th>CSAT_Freq</th>\n",
       "      <td>0.950654</td>\n",
       "      <td>1.000000</td>\n",
       "    </tr>\n",
       "  </tbody>\n",
       "</table>\n",
       "</div>"
      ],
      "text/plain": [
       "            SUBTLWF  CSAT_Freq\n",
       "SUBTLWF    1.000000   0.950654\n",
       "CSAT_Freq  0.950654   1.000000"
      ]
     },
     "execution_count": 142,
     "metadata": {},
     "output_type": "execute_result"
    }
   ],
   "source": [
    "pd.merge(df, list1_F_df, how='inner', on='Word')[['SUBTLWF', 'CSAT_Freq']].corr()"
   ]
  },
  {
   "cell_type": "code",
   "execution_count": 143,
   "id": "f1a4bd19",
   "metadata": {},
   "outputs": [
    {
     "data": {
      "text/html": [
       "<div>\n",
       "<style scoped>\n",
       "    .dataframe tbody tr th:only-of-type {\n",
       "        vertical-align: middle;\n",
       "    }\n",
       "\n",
       "    .dataframe tbody tr th {\n",
       "        vertical-align: top;\n",
       "    }\n",
       "\n",
       "    .dataframe thead th {\n",
       "        text-align: right;\n",
       "    }\n",
       "</style>\n",
       "<table border=\"1\" class=\"dataframe\">\n",
       "  <thead>\n",
       "    <tr style=\"text-align: right;\">\n",
       "      <th></th>\n",
       "      <th>Freq_HAL</th>\n",
       "      <th>CSAT_Freq</th>\n",
       "    </tr>\n",
       "  </thead>\n",
       "  <tbody>\n",
       "    <tr>\n",
       "      <th>Freq_HAL</th>\n",
       "      <td>1.000000</td>\n",
       "      <td>0.939982</td>\n",
       "    </tr>\n",
       "    <tr>\n",
       "      <th>CSAT_Freq</th>\n",
       "      <td>0.939982</td>\n",
       "      <td>1.000000</td>\n",
       "    </tr>\n",
       "  </tbody>\n",
       "</table>\n",
       "</div>"
      ],
      "text/plain": [
       "           Freq_HAL  CSAT_Freq\n",
       "Freq_HAL   1.000000   0.939982\n",
       "CSAT_Freq  0.939982   1.000000"
      ]
     },
     "execution_count": 143,
     "metadata": {},
     "output_type": "execute_result"
    }
   ],
   "source": [
    "pd.merge(df, list1_F_df, how='inner', on='Word')[['Freq_HAL', 'CSAT_Freq']].corr()"
   ]
  },
  {
   "cell_type": "code",
   "execution_count": 144,
   "id": "a4ea7ac9",
   "metadata": {},
   "outputs": [
    {
     "data": {
      "text/html": [
       "<div>\n",
       "<style scoped>\n",
       "    .dataframe tbody tr th:only-of-type {\n",
       "        vertical-align: middle;\n",
       "    }\n",
       "\n",
       "    .dataframe tbody tr th {\n",
       "        vertical-align: top;\n",
       "    }\n",
       "\n",
       "    .dataframe thead th {\n",
       "        text-align: right;\n",
       "    }\n",
       "</style>\n",
       "<table border=\"1\" class=\"dataframe\">\n",
       "  <thead>\n",
       "    <tr style=\"text-align: right;\">\n",
       "      <th></th>\n",
       "      <th>SUBTLWF</th>\n",
       "      <th>Freq_HAL</th>\n",
       "    </tr>\n",
       "  </thead>\n",
       "  <tbody>\n",
       "    <tr>\n",
       "      <th>SUBTLWF</th>\n",
       "      <td>1.000000</td>\n",
       "      <td>0.900372</td>\n",
       "    </tr>\n",
       "    <tr>\n",
       "      <th>Freq_HAL</th>\n",
       "      <td>0.900372</td>\n",
       "      <td>1.000000</td>\n",
       "    </tr>\n",
       "  </tbody>\n",
       "</table>\n",
       "</div>"
      ],
      "text/plain": [
       "           SUBTLWF  Freq_HAL\n",
       "SUBTLWF   1.000000  0.900372\n",
       "Freq_HAL  0.900372  1.000000"
      ]
     },
     "execution_count": 144,
     "metadata": {},
     "output_type": "execute_result"
    }
   ],
   "source": [
    "pd.merge(df, list1_F_df, how='inner', on='Word')[['SUBTLWF', 'Freq_HAL']].corr()"
   ]
  },
  {
   "cell_type": "code",
   "execution_count": 149,
   "id": "85d3ad7b",
   "metadata": {},
   "outputs": [
    {
     "data": {
      "text/plain": [
       "28"
      ]
     },
     "execution_count": 149,
     "metadata": {},
     "output_type": "execute_result"
    }
   ],
   "source": [
    "list2_F_df = pd.DataFrame(\n",
    "    {\n",
    "        'Word': ['head', 'bank', 'hold', 'father', 'habit', 'exam', 'factory', \n",
    "                 'heaven', 'autumn', 'prince', 'rocket', 'kitchen', 'panda', 'back',\n",
    "                 'goal', 'great', 'hard', 'hurt', 'light', 'like', 'major', 'present', \n",
    "                 'power', 'right', 'room', 'star', 'tie', 'drive'\n",
    "                 ]\n",
    "    }\n",
    ")\n",
    "len(list2_F_df)"
   ]
  },
  {
   "cell_type": "code",
   "execution_count": 151,
   "id": "09ea85d5",
   "metadata": {},
   "outputs": [
    {
     "data": {
      "text/html": [
       "<div>\n",
       "<style scoped>\n",
       "    .dataframe tbody tr th:only-of-type {\n",
       "        vertical-align: middle;\n",
       "    }\n",
       "\n",
       "    .dataframe tbody tr th {\n",
       "        vertical-align: top;\n",
       "    }\n",
       "\n",
       "    .dataframe thead th {\n",
       "        text-align: right;\n",
       "    }\n",
       "</style>\n",
       "<table border=\"1\" class=\"dataframe\">\n",
       "  <thead>\n",
       "    <tr style=\"text-align: right;\">\n",
       "      <th></th>\n",
       "      <th>SUBTLWF</th>\n",
       "      <th>CSAT_Freq</th>\n",
       "    </tr>\n",
       "  </thead>\n",
       "  <tbody>\n",
       "    <tr>\n",
       "      <th>SUBTLWF</th>\n",
       "      <td>1.000000</td>\n",
       "      <td>0.895173</td>\n",
       "    </tr>\n",
       "    <tr>\n",
       "      <th>CSAT_Freq</th>\n",
       "      <td>0.895173</td>\n",
       "      <td>1.000000</td>\n",
       "    </tr>\n",
       "  </tbody>\n",
       "</table>\n",
       "</div>"
      ],
      "text/plain": [
       "            SUBTLWF  CSAT_Freq\n",
       "SUBTLWF    1.000000   0.895173\n",
       "CSAT_Freq  0.895173   1.000000"
      ]
     },
     "execution_count": 151,
     "metadata": {},
     "output_type": "execute_result"
    }
   ],
   "source": [
    "pd.merge(df, list2_F_df, how='inner', on='Word')[['SUBTLWF', 'CSAT_Freq']].corr()"
   ]
  },
  {
   "cell_type": "code",
   "execution_count": 152,
   "id": "3e771df4",
   "metadata": {},
   "outputs": [
    {
     "data": {
      "text/html": [
       "<div>\n",
       "<style scoped>\n",
       "    .dataframe tbody tr th:only-of-type {\n",
       "        vertical-align: middle;\n",
       "    }\n",
       "\n",
       "    .dataframe tbody tr th {\n",
       "        vertical-align: top;\n",
       "    }\n",
       "\n",
       "    .dataframe thead th {\n",
       "        text-align: right;\n",
       "    }\n",
       "</style>\n",
       "<table border=\"1\" class=\"dataframe\">\n",
       "  <thead>\n",
       "    <tr style=\"text-align: right;\">\n",
       "      <th></th>\n",
       "      <th>Freq_HAL</th>\n",
       "      <th>CSAT_Freq</th>\n",
       "    </tr>\n",
       "  </thead>\n",
       "  <tbody>\n",
       "    <tr>\n",
       "      <th>Freq_HAL</th>\n",
       "      <td>1.000000</td>\n",
       "      <td>0.947294</td>\n",
       "    </tr>\n",
       "    <tr>\n",
       "      <th>CSAT_Freq</th>\n",
       "      <td>0.947294</td>\n",
       "      <td>1.000000</td>\n",
       "    </tr>\n",
       "  </tbody>\n",
       "</table>\n",
       "</div>"
      ],
      "text/plain": [
       "           Freq_HAL  CSAT_Freq\n",
       "Freq_HAL   1.000000   0.947294\n",
       "CSAT_Freq  0.947294   1.000000"
      ]
     },
     "execution_count": 152,
     "metadata": {},
     "output_type": "execute_result"
    }
   ],
   "source": [
    "pd.merge(df, list2_F_df, how='inner', on='Word')[['Freq_HAL', 'CSAT_Freq']].corr()"
   ]
  },
  {
   "cell_type": "code",
   "execution_count": 150,
   "id": "1c524cd3",
   "metadata": {},
   "outputs": [
    {
     "data": {
      "text/html": [
       "<div>\n",
       "<style scoped>\n",
       "    .dataframe tbody tr th:only-of-type {\n",
       "        vertical-align: middle;\n",
       "    }\n",
       "\n",
       "    .dataframe tbody tr th {\n",
       "        vertical-align: top;\n",
       "    }\n",
       "\n",
       "    .dataframe thead th {\n",
       "        text-align: right;\n",
       "    }\n",
       "</style>\n",
       "<table border=\"1\" class=\"dataframe\">\n",
       "  <thead>\n",
       "    <tr style=\"text-align: right;\">\n",
       "      <th></th>\n",
       "      <th>SUBTLWF</th>\n",
       "      <th>Freq_HAL</th>\n",
       "    </tr>\n",
       "  </thead>\n",
       "  <tbody>\n",
       "    <tr>\n",
       "      <th>SUBTLWF</th>\n",
       "      <td>1.000000</td>\n",
       "      <td>0.869837</td>\n",
       "    </tr>\n",
       "    <tr>\n",
       "      <th>Freq_HAL</th>\n",
       "      <td>0.869837</td>\n",
       "      <td>1.000000</td>\n",
       "    </tr>\n",
       "  </tbody>\n",
       "</table>\n",
       "</div>"
      ],
      "text/plain": [
       "           SUBTLWF  Freq_HAL\n",
       "SUBTLWF   1.000000  0.869837\n",
       "Freq_HAL  0.869837  1.000000"
      ]
     },
     "execution_count": 150,
     "metadata": {},
     "output_type": "execute_result"
    }
   ],
   "source": [
    "pd.merge(df, list2_F_df, how='inner', on='Word')[['SUBTLWF', 'Freq_HAL']].corr()"
   ]
  },
  {
   "cell_type": "markdown",
   "id": "eec138ce",
   "metadata": {},
   "source": [
    "# Yoonhyoung Lee et al.(2018)"
   ]
  },
  {
   "cell_type": "markdown",
   "id": "f25ff24f",
   "metadata": {},
   "source": [
    "L2-L1 Translation Priming Effects in a Lexical Decision Task: Evidence From Low Proficient Korean-English Bilinguals"
   ]
  },
  {
   "cell_type": "code",
   "execution_count": 153,
   "id": "6d3fcc91",
   "metadata": {},
   "outputs": [
    {
     "data": {
      "text/plain": [
       "60"
      ]
     },
     "execution_count": 153,
     "metadata": {},
     "output_type": "execute_result"
    }
   ],
   "source": [
    "list1_F_df = pd.DataFrame(\n",
    "    {\n",
    "        'Word': ['foot', 'face', 'door', 'hand', 'meat', 'food',\n",
    "                 'bird', 'fact', 'road', 'math', 'child', 'woman', 'watch', 'water', \n",
    "                 'story', 'place', 'night', 'honey', 'fight', 'death', 'school', 'police', \n",
    "                 'person', 'number', 'mother', 'friend', 'family', 'father',\n",
    "                 'finger', 'doctor', 'vice', 'envy', 'soul', 'fame', 'pity', 'hell', 'rage', 'plow',\n",
    "                 'vote', 'germ', 'titan', 'width', 'latter', 'vapor', 'snail', 'hippo', 'vowel', 'stair', \n",
    "                 'panic', 'mercy', 'parrot', 'insect', 'theory', 'crisis', 'legend', 'plague', 'credit',\n",
    "                 'profit', 'genius', 'treaty'\n",
    "                 ]\n",
    "    }\n",
    ")\n",
    "len(list1_F_df)"
   ]
  },
  {
   "cell_type": "code",
   "execution_count": 154,
   "id": "e2626168",
   "metadata": {},
   "outputs": [
    {
     "data": {
      "text/html": [
       "<div>\n",
       "<style scoped>\n",
       "    .dataframe tbody tr th:only-of-type {\n",
       "        vertical-align: middle;\n",
       "    }\n",
       "\n",
       "    .dataframe tbody tr th {\n",
       "        vertical-align: top;\n",
       "    }\n",
       "\n",
       "    .dataframe thead th {\n",
       "        text-align: right;\n",
       "    }\n",
       "</style>\n",
       "<table border=\"1\" class=\"dataframe\">\n",
       "  <thead>\n",
       "    <tr style=\"text-align: right;\">\n",
       "      <th></th>\n",
       "      <th>SUBTLWF</th>\n",
       "      <th>CSAT_Freq</th>\n",
       "    </tr>\n",
       "  </thead>\n",
       "  <tbody>\n",
       "    <tr>\n",
       "      <th>SUBTLWF</th>\n",
       "      <td>1.000000</td>\n",
       "      <td>0.558109</td>\n",
       "    </tr>\n",
       "    <tr>\n",
       "      <th>CSAT_Freq</th>\n",
       "      <td>0.558109</td>\n",
       "      <td>1.000000</td>\n",
       "    </tr>\n",
       "  </tbody>\n",
       "</table>\n",
       "</div>"
      ],
      "text/plain": [
       "            SUBTLWF  CSAT_Freq\n",
       "SUBTLWF    1.000000   0.558109\n",
       "CSAT_Freq  0.558109   1.000000"
      ]
     },
     "execution_count": 154,
     "metadata": {},
     "output_type": "execute_result"
    }
   ],
   "source": [
    "pd.merge(df, list1_F_df, how='inner', on='Word')[['SUBTLWF', 'CSAT_Freq']].corr()"
   ]
  },
  {
   "cell_type": "code",
   "execution_count": 155,
   "id": "483663cc",
   "metadata": {},
   "outputs": [
    {
     "data": {
      "text/html": [
       "<div>\n",
       "<style scoped>\n",
       "    .dataframe tbody tr th:only-of-type {\n",
       "        vertical-align: middle;\n",
       "    }\n",
       "\n",
       "    .dataframe tbody tr th {\n",
       "        vertical-align: top;\n",
       "    }\n",
       "\n",
       "    .dataframe thead th {\n",
       "        text-align: right;\n",
       "    }\n",
       "</style>\n",
       "<table border=\"1\" class=\"dataframe\">\n",
       "  <thead>\n",
       "    <tr style=\"text-align: right;\">\n",
       "      <th></th>\n",
       "      <th>Freq_HAL</th>\n",
       "      <th>CSAT_Freq</th>\n",
       "    </tr>\n",
       "  </thead>\n",
       "  <tbody>\n",
       "    <tr>\n",
       "      <th>Freq_HAL</th>\n",
       "      <td>1.000000</td>\n",
       "      <td>0.700595</td>\n",
       "    </tr>\n",
       "    <tr>\n",
       "      <th>CSAT_Freq</th>\n",
       "      <td>0.700595</td>\n",
       "      <td>1.000000</td>\n",
       "    </tr>\n",
       "  </tbody>\n",
       "</table>\n",
       "</div>"
      ],
      "text/plain": [
       "           Freq_HAL  CSAT_Freq\n",
       "Freq_HAL   1.000000   0.700595\n",
       "CSAT_Freq  0.700595   1.000000"
      ]
     },
     "execution_count": 155,
     "metadata": {},
     "output_type": "execute_result"
    }
   ],
   "source": [
    "pd.merge(df, list1_F_df, how='inner', on='Word')[['Freq_HAL', 'CSAT_Freq']].corr()"
   ]
  },
  {
   "cell_type": "code",
   "execution_count": 156,
   "id": "4908efa6",
   "metadata": {},
   "outputs": [
    {
     "data": {
      "text/html": [
       "<div>\n",
       "<style scoped>\n",
       "    .dataframe tbody tr th:only-of-type {\n",
       "        vertical-align: middle;\n",
       "    }\n",
       "\n",
       "    .dataframe tbody tr th {\n",
       "        vertical-align: top;\n",
       "    }\n",
       "\n",
       "    .dataframe thead th {\n",
       "        text-align: right;\n",
       "    }\n",
       "</style>\n",
       "<table border=\"1\" class=\"dataframe\">\n",
       "  <thead>\n",
       "    <tr style=\"text-align: right;\">\n",
       "      <th></th>\n",
       "      <th>SUBTLWF</th>\n",
       "      <th>Freq_HAL</th>\n",
       "    </tr>\n",
       "  </thead>\n",
       "  <tbody>\n",
       "    <tr>\n",
       "      <th>SUBTLWF</th>\n",
       "      <td>1.00000</td>\n",
       "      <td>0.55729</td>\n",
       "    </tr>\n",
       "    <tr>\n",
       "      <th>Freq_HAL</th>\n",
       "      <td>0.55729</td>\n",
       "      <td>1.00000</td>\n",
       "    </tr>\n",
       "  </tbody>\n",
       "</table>\n",
       "</div>"
      ],
      "text/plain": [
       "          SUBTLWF  Freq_HAL\n",
       "SUBTLWF   1.00000   0.55729\n",
       "Freq_HAL  0.55729   1.00000"
      ]
     },
     "execution_count": 156,
     "metadata": {},
     "output_type": "execute_result"
    }
   ],
   "source": [
    "pd.merge(df, list1_F_df, how='inner', on='Word')[['SUBTLWF', 'Freq_HAL']].corr()"
   ]
  },
  {
   "cell_type": "code",
   "execution_count": 157,
   "id": "54c428e7",
   "metadata": {},
   "outputs": [
    {
     "data": {
      "text/plain": [
       "60"
      ]
     },
     "execution_count": 157,
     "metadata": {},
     "output_type": "execute_result"
    }
   ],
   "source": [
    "list2_F_df = pd.DataFrame(\n",
    "    {\n",
    "        'Word': ['wine', 'year', 'wife', 'week', 'skin', 'team', 'rule', \n",
    "                 'hair', 'step', 'clue', 'fault', 'whole', 'uncle', 'money',\n",
    "                 'other', 'worry', 'world', 'seven', 'heart', 'house', 'excuse', 'dinner', \n",
    "                 'office', 'nobody', 'course', 'matter', 'minute', 'enough',\n",
    "                 'throat', 'second', 'wing', 'bait', 'wall', 'beam', 'wood', 'room', 'boot', 'wasp', 'view',\n",
    "                 'sage', 'toner', 'koala', 'trait', 'usage', 'sedan', 'otter', 'prism', 'slang', \n",
    "                 'value', 'thief', 'summit', 'gospel', 'toilet', 'patrol', 'tunnel', 'coffin', 'speech', 'wisdom',\n",
    "                 'yellow', 'pastor'\n",
    "                 ]\n",
    "    }\n",
    ")\n",
    "len(list2_F_df)"
   ]
  },
  {
   "cell_type": "code",
   "execution_count": 158,
   "id": "eef90b10",
   "metadata": {},
   "outputs": [
    {
     "data": {
      "text/html": [
       "<div>\n",
       "<style scoped>\n",
       "    .dataframe tbody tr th:only-of-type {\n",
       "        vertical-align: middle;\n",
       "    }\n",
       "\n",
       "    .dataframe tbody tr th {\n",
       "        vertical-align: top;\n",
       "    }\n",
       "\n",
       "    .dataframe thead th {\n",
       "        text-align: right;\n",
       "    }\n",
       "</style>\n",
       "<table border=\"1\" class=\"dataframe\">\n",
       "  <thead>\n",
       "    <tr style=\"text-align: right;\">\n",
       "      <th></th>\n",
       "      <th>SUBTLWF</th>\n",
       "      <th>CSAT_Freq</th>\n",
       "    </tr>\n",
       "  </thead>\n",
       "  <tbody>\n",
       "    <tr>\n",
       "      <th>SUBTLWF</th>\n",
       "      <td>1.00000</td>\n",
       "      <td>0.70195</td>\n",
       "    </tr>\n",
       "    <tr>\n",
       "      <th>CSAT_Freq</th>\n",
       "      <td>0.70195</td>\n",
       "      <td>1.00000</td>\n",
       "    </tr>\n",
       "  </tbody>\n",
       "</table>\n",
       "</div>"
      ],
      "text/plain": [
       "           SUBTLWF  CSAT_Freq\n",
       "SUBTLWF    1.00000    0.70195\n",
       "CSAT_Freq  0.70195    1.00000"
      ]
     },
     "execution_count": 158,
     "metadata": {},
     "output_type": "execute_result"
    }
   ],
   "source": [
    "pd.merge(df, list2_F_df, how='inner', on='Word')[['SUBTLWF', 'CSAT_Freq']].corr()"
   ]
  },
  {
   "cell_type": "code",
   "execution_count": 159,
   "id": "56758ac4",
   "metadata": {},
   "outputs": [
    {
     "data": {
      "text/html": [
       "<div>\n",
       "<style scoped>\n",
       "    .dataframe tbody tr th:only-of-type {\n",
       "        vertical-align: middle;\n",
       "    }\n",
       "\n",
       "    .dataframe tbody tr th {\n",
       "        vertical-align: top;\n",
       "    }\n",
       "\n",
       "    .dataframe thead th {\n",
       "        text-align: right;\n",
       "    }\n",
       "</style>\n",
       "<table border=\"1\" class=\"dataframe\">\n",
       "  <thead>\n",
       "    <tr style=\"text-align: right;\">\n",
       "      <th></th>\n",
       "      <th>Freq_HAL</th>\n",
       "      <th>CSAT_Freq</th>\n",
       "    </tr>\n",
       "  </thead>\n",
       "  <tbody>\n",
       "    <tr>\n",
       "      <th>Freq_HAL</th>\n",
       "      <td>1.000000</td>\n",
       "      <td>0.940073</td>\n",
       "    </tr>\n",
       "    <tr>\n",
       "      <th>CSAT_Freq</th>\n",
       "      <td>0.940073</td>\n",
       "      <td>1.000000</td>\n",
       "    </tr>\n",
       "  </tbody>\n",
       "</table>\n",
       "</div>"
      ],
      "text/plain": [
       "           Freq_HAL  CSAT_Freq\n",
       "Freq_HAL   1.000000   0.940073\n",
       "CSAT_Freq  0.940073   1.000000"
      ]
     },
     "execution_count": 159,
     "metadata": {},
     "output_type": "execute_result"
    }
   ],
   "source": [
    "pd.merge(df, list2_F_df, how='inner', on='Word')[['Freq_HAL', 'CSAT_Freq']].corr()"
   ]
  },
  {
   "cell_type": "code",
   "execution_count": 160,
   "id": "0ec3c9ef",
   "metadata": {},
   "outputs": [
    {
     "data": {
      "text/html": [
       "<div>\n",
       "<style scoped>\n",
       "    .dataframe tbody tr th:only-of-type {\n",
       "        vertical-align: middle;\n",
       "    }\n",
       "\n",
       "    .dataframe tbody tr th {\n",
       "        vertical-align: top;\n",
       "    }\n",
       "\n",
       "    .dataframe thead th {\n",
       "        text-align: right;\n",
       "    }\n",
       "</style>\n",
       "<table border=\"1\" class=\"dataframe\">\n",
       "  <thead>\n",
       "    <tr style=\"text-align: right;\">\n",
       "      <th></th>\n",
       "      <th>SUBTLWF</th>\n",
       "      <th>Freq_HAL</th>\n",
       "    </tr>\n",
       "  </thead>\n",
       "  <tbody>\n",
       "    <tr>\n",
       "      <th>SUBTLWF</th>\n",
       "      <td>1.000000</td>\n",
       "      <td>0.701329</td>\n",
       "    </tr>\n",
       "    <tr>\n",
       "      <th>Freq_HAL</th>\n",
       "      <td>0.701329</td>\n",
       "      <td>1.000000</td>\n",
       "    </tr>\n",
       "  </tbody>\n",
       "</table>\n",
       "</div>"
      ],
      "text/plain": [
       "           SUBTLWF  Freq_HAL\n",
       "SUBTLWF   1.000000  0.701329\n",
       "Freq_HAL  0.701329  1.000000"
      ]
     },
     "execution_count": 160,
     "metadata": {},
     "output_type": "execute_result"
    }
   ],
   "source": [
    "pd.merge(df, list2_F_df, how='inner', on='Word')[['SUBTLWF', 'Freq_HAL']].corr()"
   ]
  },
  {
   "cell_type": "markdown",
   "id": "948a7a3f",
   "metadata": {},
   "source": [
    "# Adel et al.(2022)"
   ]
  },
  {
   "cell_type": "markdown",
   "id": "6763e3d0",
   "metadata": {},
   "source": [
    "Individual differences in bilingual word\n",
    "recognition: The role of experiential factors and\n",
    "word frequency in cross-language lexical\n",
    "priming"
   ]
  },
  {
   "cell_type": "code",
   "execution_count": 62,
   "id": "4377e803",
   "metadata": {},
   "outputs": [
    {
     "data": {
      "text/plain": [
       "50"
      ]
     },
     "execution_count": 62,
     "metadata": {},
     "output_type": "execute_result"
    }
   ],
   "source": [
    "target_F_df = pd.DataFrame(\n",
    "    {\n",
    "        'Word': ['grandpa', 'steel', 'cotton', 'ring', 'lift', 'hazelnut', 'tray', 'flag', 'forest', 'lorry', 'crab', 'candy', 'folder', 'wallet', 'onion', 'brush', 'cherry', 'basket', 'scar', 'spoon', 'knife', 'homework',\n",
    "                 'duvet', 'dwarf', 'sheild', 'sword', 'arrow', 'brake', 'cookie', 'worm', 'axe',\n",
    "                 'wound', 'pencil', 'corn', 'blanket', 'dough', 'coin', 'walnut', 'umbrella', 'clown', 'ruler', 'silk',\n",
    "                 'nephew', 'keyboard', 'fabric', 'scissors', 'ink', 'wheat', 'grape', 'candle'\n",
    "                 ]\n",
    "    }\n",
    ")\n",
    "len(target_F_df)"
   ]
  },
  {
   "cell_type": "code",
   "execution_count": 63,
   "id": "05e45608",
   "metadata": {},
   "outputs": [
    {
     "data": {
      "text/html": [
       "<div>\n",
       "<style scoped>\n",
       "    .dataframe tbody tr th:only-of-type {\n",
       "        vertical-align: middle;\n",
       "    }\n",
       "\n",
       "    .dataframe tbody tr th {\n",
       "        vertical-align: top;\n",
       "    }\n",
       "\n",
       "    .dataframe thead th {\n",
       "        text-align: right;\n",
       "    }\n",
       "</style>\n",
       "<table border=\"1\" class=\"dataframe\">\n",
       "  <thead>\n",
       "    <tr style=\"text-align: right;\">\n",
       "      <th></th>\n",
       "      <th>SUBTLWF</th>\n",
       "      <th>CSAT_Freq</th>\n",
       "    </tr>\n",
       "  </thead>\n",
       "  <tbody>\n",
       "    <tr>\n",
       "      <th>SUBTLWF</th>\n",
       "      <td>1.000000</td>\n",
       "      <td>0.234839</td>\n",
       "    </tr>\n",
       "    <tr>\n",
       "      <th>CSAT_Freq</th>\n",
       "      <td>0.234839</td>\n",
       "      <td>1.000000</td>\n",
       "    </tr>\n",
       "  </tbody>\n",
       "</table>\n",
       "</div>"
      ],
      "text/plain": [
       "            SUBTLWF  CSAT_Freq\n",
       "SUBTLWF    1.000000   0.234839\n",
       "CSAT_Freq  0.234839   1.000000"
      ]
     },
     "execution_count": 63,
     "metadata": {},
     "output_type": "execute_result"
    }
   ],
   "source": [
    "pd.merge(df, target_F_df, how='inner', on='Word')[['SUBTLWF', 'CSAT_Freq']].corr()"
   ]
  },
  {
   "cell_type": "code",
   "execution_count": 64,
   "id": "adf9885a",
   "metadata": {},
   "outputs": [
    {
     "data": {
      "text/html": [
       "<div>\n",
       "<style scoped>\n",
       "    .dataframe tbody tr th:only-of-type {\n",
       "        vertical-align: middle;\n",
       "    }\n",
       "\n",
       "    .dataframe tbody tr th {\n",
       "        vertical-align: top;\n",
       "    }\n",
       "\n",
       "    .dataframe thead th {\n",
       "        text-align: right;\n",
       "    }\n",
       "</style>\n",
       "<table border=\"1\" class=\"dataframe\">\n",
       "  <thead>\n",
       "    <tr style=\"text-align: right;\">\n",
       "      <th></th>\n",
       "      <th>Freq_HAL</th>\n",
       "      <th>CSAT_Freq</th>\n",
       "    </tr>\n",
       "  </thead>\n",
       "  <tbody>\n",
       "    <tr>\n",
       "      <th>Freq_HAL</th>\n",
       "      <td>1.000000</td>\n",
       "      <td>0.264116</td>\n",
       "    </tr>\n",
       "    <tr>\n",
       "      <th>CSAT_Freq</th>\n",
       "      <td>0.264116</td>\n",
       "      <td>1.000000</td>\n",
       "    </tr>\n",
       "  </tbody>\n",
       "</table>\n",
       "</div>"
      ],
      "text/plain": [
       "           Freq_HAL  CSAT_Freq\n",
       "Freq_HAL   1.000000   0.264116\n",
       "CSAT_Freq  0.264116   1.000000"
      ]
     },
     "execution_count": 64,
     "metadata": {},
     "output_type": "execute_result"
    }
   ],
   "source": [
    "pd.merge(df, target_F_df, how='inner', on='Word')[['Freq_HAL', 'CSAT_Freq']].corr()"
   ]
  },
  {
   "cell_type": "code",
   "execution_count": 65,
   "id": "e53affb9",
   "metadata": {},
   "outputs": [
    {
     "data": {
      "text/html": [
       "<div>\n",
       "<style scoped>\n",
       "    .dataframe tbody tr th:only-of-type {\n",
       "        vertical-align: middle;\n",
       "    }\n",
       "\n",
       "    .dataframe tbody tr th {\n",
       "        vertical-align: top;\n",
       "    }\n",
       "\n",
       "    .dataframe thead th {\n",
       "        text-align: right;\n",
       "    }\n",
       "</style>\n",
       "<table border=\"1\" class=\"dataframe\">\n",
       "  <thead>\n",
       "    <tr style=\"text-align: right;\">\n",
       "      <th></th>\n",
       "      <th>SUBTLWF</th>\n",
       "      <th>Freq_HAL</th>\n",
       "    </tr>\n",
       "  </thead>\n",
       "  <tbody>\n",
       "    <tr>\n",
       "      <th>SUBTLWF</th>\n",
       "      <td>1.000000</td>\n",
       "      <td>0.538351</td>\n",
       "    </tr>\n",
       "    <tr>\n",
       "      <th>Freq_HAL</th>\n",
       "      <td>0.538351</td>\n",
       "      <td>1.000000</td>\n",
       "    </tr>\n",
       "  </tbody>\n",
       "</table>\n",
       "</div>"
      ],
      "text/plain": [
       "           SUBTLWF  Freq_HAL\n",
       "SUBTLWF   1.000000  0.538351\n",
       "Freq_HAL  0.538351  1.000000"
      ]
     },
     "execution_count": 65,
     "metadata": {},
     "output_type": "execute_result"
    }
   ],
   "source": [
    "pd.merge(df, target_F_df, how='inner', on='Word')[['SUBTLWF', 'Freq_HAL']].corr()"
   ]
  },
  {
   "cell_type": "markdown",
   "id": "b2bbb24a",
   "metadata": {},
   "source": [
    "# Dan et al.(2000)"
   ]
  },
  {
   "cell_type": "markdown",
   "id": "dc59ee51",
   "metadata": {},
   "source": [
    "Exposure to print and word recognition processes"
   ]
  },
  {
   "cell_type": "code",
   "execution_count": 292,
   "id": "d5db88f2",
   "metadata": {},
   "outputs": [
    {
     "data": {
      "text/plain": [
       "(24, 1)"
      ]
     },
     "execution_count": 292,
     "metadata": {},
     "output_type": "execute_result"
    }
   ],
   "source": [
    "LF_df = pd.DataFrame(\n",
    "    {\n",
    "        'Word': ['ton', 'sew', 'hoof', 'bush', 'bough', \n",
    "                 'swamp', 'soot', 'deaf', 'bowl', 'castle',\n",
    "                 'skied', 'lease', 'pint', 'doll', 'pour',\n",
    "                 'dose', 'wash', 'blown', 'swear', 'steak',\n",
    "                 'null', 'shone', 'shove', 'pear'\n",
    "                 ]\n",
    "    }\n",
    ")\n",
    "LF_df.shape"
   ]
  },
  {
   "cell_type": "code",
   "execution_count": 293,
   "id": "4fc73c15",
   "metadata": {},
   "outputs": [
    {
     "data": {
      "text/plain": [
       "(24, 1)"
      ]
     },
     "execution_count": 293,
     "metadata": {},
     "output_type": "execute_result"
    }
   ],
   "source": [
    "HF_df = pd.DataFrame(\n",
    "    {\n",
    "        'Word': ['bad', 'put', 'move', 'what', 'south',\n",
    "                 'break', 'word' ,'want', 'said', 'soul',\n",
    "                 'phase', 'blood', 'some', 'says', 'both',\n",
    "                 'sure', 'shall', 'touch', 'shook', 'head',\n",
    "                 'have', 'gross', 'could', 'give'\n",
    "                 ]\n",
    "    }\n",
    ")\n",
    "HF_df.shape"
   ]
  },
  {
   "cell_type": "code",
   "execution_count": 294,
   "id": "99a28ce0",
   "metadata": {},
   "outputs": [
    {
     "data": {
      "image/png": "[encoded data removed]",
      "text/plain": [
       "<Figure size 640x480 with 1 Axes>"
      ]
     },
     "metadata": {},
     "output_type": "display_data"
    }
   ],
   "source": [
    "plot(df, HF_df, LF_df)"
   ]
  },
  {
   "cell_type": "code",
   "execution_count": 174,
   "id": "0fb75129",
   "metadata": {},
   "outputs": [
    {
     "data": {
      "text/html": [
       "<div>\n",
       "<style scoped>\n",
       "    .dataframe tbody tr th:only-of-type {\n",
       "        vertical-align: middle;\n",
       "    }\n",
       "\n",
       "    .dataframe tbody tr th {\n",
       "        vertical-align: top;\n",
       "    }\n",
       "\n",
       "    .dataframe thead th {\n",
       "        text-align: right;\n",
       "    }\n",
       "</style>\n",
       "<table border=\"1\" class=\"dataframe\">\n",
       "  <thead>\n",
       "    <tr style=\"text-align: right;\">\n",
       "      <th></th>\n",
       "      <th>SUBTLWF</th>\n",
       "      <th>CSAT_Freq</th>\n",
       "    </tr>\n",
       "  </thead>\n",
       "  <tbody>\n",
       "    <tr>\n",
       "      <th>SUBTLWF</th>\n",
       "      <td>1.000000</td>\n",
       "      <td>0.889817</td>\n",
       "    </tr>\n",
       "    <tr>\n",
       "      <th>CSAT_Freq</th>\n",
       "      <td>0.889817</td>\n",
       "      <td>1.000000</td>\n",
       "    </tr>\n",
       "  </tbody>\n",
       "</table>\n",
       "</div>"
      ],
      "text/plain": [
       "            SUBTLWF  CSAT_Freq\n",
       "SUBTLWF    1.000000   0.889817\n",
       "CSAT_Freq  0.889817   1.000000"
      ]
     },
     "execution_count": 174,
     "metadata": {},
     "output_type": "execute_result"
    }
   ],
   "source": [
    "pd.merge(df, HF_df, how='inner', on='Word')[['SUBTLWF', 'CSAT_Freq']].corr()"
   ]
  },
  {
   "cell_type": "code",
   "execution_count": 175,
   "id": "0c30ef5f",
   "metadata": {},
   "outputs": [
    {
     "data": {
      "text/html": [
       "<div>\n",
       "<style scoped>\n",
       "    .dataframe tbody tr th:only-of-type {\n",
       "        vertical-align: middle;\n",
       "    }\n",
       "\n",
       "    .dataframe tbody tr th {\n",
       "        vertical-align: top;\n",
       "    }\n",
       "\n",
       "    .dataframe thead th {\n",
       "        text-align: right;\n",
       "    }\n",
       "</style>\n",
       "<table border=\"1\" class=\"dataframe\">\n",
       "  <thead>\n",
       "    <tr style=\"text-align: right;\">\n",
       "      <th></th>\n",
       "      <th>Freq_HAL</th>\n",
       "      <th>CSAT_Freq</th>\n",
       "    </tr>\n",
       "  </thead>\n",
       "  <tbody>\n",
       "    <tr>\n",
       "      <th>Freq_HAL</th>\n",
       "      <td>1.00000</td>\n",
       "      <td>0.97376</td>\n",
       "    </tr>\n",
       "    <tr>\n",
       "      <th>CSAT_Freq</th>\n",
       "      <td>0.97376</td>\n",
       "      <td>1.00000</td>\n",
       "    </tr>\n",
       "  </tbody>\n",
       "</table>\n",
       "</div>"
      ],
      "text/plain": [
       "           Freq_HAL  CSAT_Freq\n",
       "Freq_HAL    1.00000    0.97376\n",
       "CSAT_Freq   0.97376    1.00000"
      ]
     },
     "execution_count": 175,
     "metadata": {},
     "output_type": "execute_result"
    }
   ],
   "source": [
    "pd.merge(df, HF_df, how='inner', on='Word')[['Freq_HAL', 'CSAT_Freq']].corr()"
   ]
  },
  {
   "cell_type": "code",
   "execution_count": 176,
   "id": "e3828fe0",
   "metadata": {},
   "outputs": [
    {
     "data": {
      "text/html": [
       "<div>\n",
       "<style scoped>\n",
       "    .dataframe tbody tr th:only-of-type {\n",
       "        vertical-align: middle;\n",
       "    }\n",
       "\n",
       "    .dataframe tbody tr th {\n",
       "        vertical-align: top;\n",
       "    }\n",
       "\n",
       "    .dataframe thead th {\n",
       "        text-align: right;\n",
       "    }\n",
       "</style>\n",
       "<table border=\"1\" class=\"dataframe\">\n",
       "  <thead>\n",
       "    <tr style=\"text-align: right;\">\n",
       "      <th></th>\n",
       "      <th>SUBTLWF</th>\n",
       "      <th>Freq_HAL</th>\n",
       "    </tr>\n",
       "  </thead>\n",
       "  <tbody>\n",
       "    <tr>\n",
       "      <th>SUBTLWF</th>\n",
       "      <td>1.000000</td>\n",
       "      <td>0.781458</td>\n",
       "    </tr>\n",
       "    <tr>\n",
       "      <th>Freq_HAL</th>\n",
       "      <td>0.781458</td>\n",
       "      <td>1.000000</td>\n",
       "    </tr>\n",
       "  </tbody>\n",
       "</table>\n",
       "</div>"
      ],
      "text/plain": [
       "           SUBTLWF  Freq_HAL\n",
       "SUBTLWF   1.000000  0.781458\n",
       "Freq_HAL  0.781458  1.000000"
      ]
     },
     "execution_count": 176,
     "metadata": {},
     "output_type": "execute_result"
    }
   ],
   "source": [
    "pd.merge(df, HF_df, how='inner', on='Word')[['SUBTLWF', 'Freq_HAL']].corr()"
   ]
  },
  {
   "cell_type": "code",
   "execution_count": 177,
   "id": "3dd29a9e",
   "metadata": {},
   "outputs": [
    {
     "data": {
      "text/html": [
       "<div>\n",
       "<style scoped>\n",
       "    .dataframe tbody tr th:only-of-type {\n",
       "        vertical-align: middle;\n",
       "    }\n",
       "\n",
       "    .dataframe tbody tr th {\n",
       "        vertical-align: top;\n",
       "    }\n",
       "\n",
       "    .dataframe thead th {\n",
       "        text-align: right;\n",
       "    }\n",
       "</style>\n",
       "<table border=\"1\" class=\"dataframe\">\n",
       "  <thead>\n",
       "    <tr style=\"text-align: right;\">\n",
       "      <th></th>\n",
       "      <th>SUBTLWF</th>\n",
       "      <th>CSAT_Freq</th>\n",
       "    </tr>\n",
       "  </thead>\n",
       "  <tbody>\n",
       "    <tr>\n",
       "      <th>SUBTLWF</th>\n",
       "      <td>1.000000</td>\n",
       "      <td>0.237484</td>\n",
       "    </tr>\n",
       "    <tr>\n",
       "      <th>CSAT_Freq</th>\n",
       "      <td>0.237484</td>\n",
       "      <td>1.000000</td>\n",
       "    </tr>\n",
       "  </tbody>\n",
       "</table>\n",
       "</div>"
      ],
      "text/plain": [
       "            SUBTLWF  CSAT_Freq\n",
       "SUBTLWF    1.000000   0.237484\n",
       "CSAT_Freq  0.237484   1.000000"
      ]
     },
     "execution_count": 177,
     "metadata": {},
     "output_type": "execute_result"
    }
   ],
   "source": [
    "pd.merge(df, LF_df, how='inner', on='Word')[['SUBTLWF', 'CSAT_Freq']].corr()"
   ]
  },
  {
   "cell_type": "code",
   "execution_count": 178,
   "id": "a2e46d34",
   "metadata": {},
   "outputs": [
    {
     "data": {
      "text/html": [
       "<div>\n",
       "<style scoped>\n",
       "    .dataframe tbody tr th:only-of-type {\n",
       "        vertical-align: middle;\n",
       "    }\n",
       "\n",
       "    .dataframe tbody tr th {\n",
       "        vertical-align: top;\n",
       "    }\n",
       "\n",
       "    .dataframe thead th {\n",
       "        text-align: right;\n",
       "    }\n",
       "</style>\n",
       "<table border=\"1\" class=\"dataframe\">\n",
       "  <thead>\n",
       "    <tr style=\"text-align: right;\">\n",
       "      <th></th>\n",
       "      <th>Freq_HAL</th>\n",
       "      <th>CSAT_Freq</th>\n",
       "    </tr>\n",
       "  </thead>\n",
       "  <tbody>\n",
       "    <tr>\n",
       "      <th>Freq_HAL</th>\n",
       "      <td>1.000000</td>\n",
       "      <td>0.367989</td>\n",
       "    </tr>\n",
       "    <tr>\n",
       "      <th>CSAT_Freq</th>\n",
       "      <td>0.367989</td>\n",
       "      <td>1.000000</td>\n",
       "    </tr>\n",
       "  </tbody>\n",
       "</table>\n",
       "</div>"
      ],
      "text/plain": [
       "           Freq_HAL  CSAT_Freq\n",
       "Freq_HAL   1.000000   0.367989\n",
       "CSAT_Freq  0.367989   1.000000"
      ]
     },
     "execution_count": 178,
     "metadata": {},
     "output_type": "execute_result"
    }
   ],
   "source": [
    "pd.merge(df, LF_df, how='inner', on='Word')[['Freq_HAL', 'CSAT_Freq']].corr()"
   ]
  },
  {
   "cell_type": "code",
   "execution_count": 179,
   "id": "322967e6",
   "metadata": {},
   "outputs": [
    {
     "data": {
      "text/html": [
       "<div>\n",
       "<style scoped>\n",
       "    .dataframe tbody tr th:only-of-type {\n",
       "        vertical-align: middle;\n",
       "    }\n",
       "\n",
       "    .dataframe tbody tr th {\n",
       "        vertical-align: top;\n",
       "    }\n",
       "\n",
       "    .dataframe thead th {\n",
       "        text-align: right;\n",
       "    }\n",
       "</style>\n",
       "<table border=\"1\" class=\"dataframe\">\n",
       "  <thead>\n",
       "    <tr style=\"text-align: right;\">\n",
       "      <th></th>\n",
       "      <th>SUBTLWF</th>\n",
       "      <th>Freq_HAL</th>\n",
       "    </tr>\n",
       "  </thead>\n",
       "  <tbody>\n",
       "    <tr>\n",
       "      <th>SUBTLWF</th>\n",
       "      <td>1.000000</td>\n",
       "      <td>0.316981</td>\n",
       "    </tr>\n",
       "    <tr>\n",
       "      <th>Freq_HAL</th>\n",
       "      <td>0.316981</td>\n",
       "      <td>1.000000</td>\n",
       "    </tr>\n",
       "  </tbody>\n",
       "</table>\n",
       "</div>"
      ],
      "text/plain": [
       "           SUBTLWF  Freq_HAL\n",
       "SUBTLWF   1.000000  0.316981\n",
       "Freq_HAL  0.316981  1.000000"
      ]
     },
     "execution_count": 179,
     "metadata": {},
     "output_type": "execute_result"
    }
   ],
   "source": [
    "pd.merge(df, LF_df, how='inner', on='Word')[['SUBTLWF', 'Freq_HAL']].corr()"
   ]
  },
  {
   "cell_type": "markdown",
   "id": "f80bfe5f",
   "metadata": {},
   "source": [
    "# Bangert et al.(2012)"
   ]
  },
  {
   "cell_type": "markdown",
   "id": "93466d01",
   "metadata": {},
   "source": [
    "Reaching for words and nonwords: Interactive effects of word frequency and stimulus quality on the characteristics of reaching movements"
   ]
  },
  {
   "cell_type": "code",
   "execution_count": 295,
   "id": "acdda48d",
   "metadata": {},
   "outputs": [
    {
     "data": {
      "text/plain": [
       "(99, 1)"
      ]
     },
     "execution_count": 295,
     "metadata": {},
     "output_type": "execute_result"
    }
   ],
   "source": [
    "LF_df = pd.DataFrame(\n",
    "    {\n",
    "        'Word': ['adpet', 'anvil', 'apron', 'arid', 'awe',\n",
    "                 'banjo', 'bean', 'beggar', 'boom', 'canon',\n",
    "                 'carve', 'cavern', 'cheer', 'chore', 'comic',\n",
    "                 'concede', 'coral', 'coward', 'crate', 'dense',\n",
    "                 'dual',\n",
    "                 'dummy', 'dune', 'dusk', 'edit', 'embark',\n",
    "                 'exit', 'fare', 'float', 'flu', 'flute',\n",
    "                 'gaze', 'gorge', 'grape', 'gravel', 'haste',\n",
    "                 'hick', 'hibby', 'howl', 'jardon', 'jolt',\n",
    "                 'lass', 'loft', 'lord', 'lust', 'magnet',\n",
    "                 'march', 'mask', 'mayor', 'mentor', 'merry',\n",
    "                 'mesh', 'mint', 'mule', 'munch', 'ounce', \n",
    "                 'pail', 'peach', 'plump', 'polar', 'queen',\n",
    "                 'rim', 'roast',  \n",
    "                 'rude', 'ruler', 'rumor', 'scoop', 'scratch',\n",
    "                 'scrub', 'seam', 'servant', 'shrug', 'slab',\n",
    "                 'smash', 'sock', 'spice', 'spin', 'spoil', \n",
    "                 'spoon', 'spy', 'stack', 'stink', 'stool', \n",
    "                 'thorn', 'thrill', 'torch', 'traitor', 'tramp',\n",
    "                 'trout', 'uncle', 'valve', 'veil', 'vile',\n",
    "                 'weave', 'weld', 'witch', 'wizard', 'wreck',\n",
    "                 'zoo'\n",
    "                 ]\n",
    "    }\n",
    ")\n",
    "LF_df.shape"
   ]
  },
  {
   "cell_type": "code",
   "execution_count": 296,
   "id": "0853d027",
   "metadata": {},
   "outputs": [
    {
     "data": {
      "text/plain": [
       "(100, 1)"
      ]
     },
     "execution_count": 296,
     "metadata": {},
     "output_type": "execute_result"
    }
   ],
   "source": [
    "HF_df = pd.DataFrame(\n",
    "    {\n",
    "        'Word': ['air', 'artist', 'ball', 'behind', 'bottom',\n",
    "                 'carry', 'case', 'cause', 'chance', 'cheif',\n",
    "                 'child', 'chruch', 'claim', 'close', 'cold',\n",
    "                 'color', 'cur', 'desk', 'dinner', 'doctor',\n",
    "                 'drive', 'eight', 'father', 'feel', 'feet', \n",
    "                 'film', 'final', 'fire', 'food', 'force',\n",
    "                 'free', 'gas', 'girl', 'goal', 'gun',\n",
    "                 'happen', 'high', \n",
    "                 'home', 'hotel', 'house', 'human', 'index',\n",
    "                 'job', 'kitchen', 'labor', 'land', 'large', \n",
    "                 'later', 'less', 'letter', 'life', 'like', \n",
    "                 'long', 'loss', 'machine', 'major', 'money', \n",
    "                 'motor', 'music', 'name', 'novel', 'paid', \n",
    "                 'party', 'picture', 'piece', 'place', 'plane', \n",
    "                 'pretty', 'road', 'sea', 'ship', 'side', \n",
    "                 'sight', 'sign', 'six', 'sort', 'sound', \n",
    "                 'south', 'stage',\n",
    "                 'start', 'station', 'story', 'student', 'study',     \n",
    "                 'style', 'table', 'there', 'thing', 'today',\n",
    "                 'top', 'total', 'view', 'voice', 'wait',\n",
    "                 'well', 'wish', 'womamn', 'world', 'yellow',\n",
    "                 'you'            \n",
    "                 ]\n",
    "    }\n",
    ")\n",
    "HF_df.shape"
   ]
  },
  {
   "cell_type": "code",
   "execution_count": 297,
   "id": "3a82a6d2",
   "metadata": {},
   "outputs": [
    {
     "data": {
      "image/png": "[encoded data removed]",
      "text/plain": [
       "<Figure size 640x480 with 1 Axes>"
      ]
     },
     "metadata": {},
     "output_type": "display_data"
    }
   ],
   "source": [
    "plot(df, HF_df, LF_df)"
   ]
  },
  {
   "cell_type": "code",
   "execution_count": null,
   "id": "911faba8",
   "metadata": {},
   "outputs": [
    {
     "data": {
      "text/html": [
       "<div>\n",
       "<style scoped>\n",
       "    .dataframe tbody tr th:only-of-type {\n",
       "        vertical-align: middle;\n",
       "    }\n",
       "\n",
       "    .dataframe tbody tr th {\n",
       "        vertical-align: top;\n",
       "    }\n",
       "\n",
       "    .dataframe thead th {\n",
       "        text-align: right;\n",
       "    }\n",
       "</style>\n",
       "<table border=\"1\" class=\"dataframe\">\n",
       "  <thead>\n",
       "    <tr style=\"text-align: right;\">\n",
       "      <th></th>\n",
       "      <th>SUBTLWF</th>\n",
       "      <th>CSAT_Freq</th>\n",
       "    </tr>\n",
       "  </thead>\n",
       "  <tbody>\n",
       "    <tr>\n",
       "      <th>SUBTLWF</th>\n",
       "      <td>1.000000</td>\n",
       "      <td>0.984231</td>\n",
       "    </tr>\n",
       "    <tr>\n",
       "      <th>CSAT_Freq</th>\n",
       "      <td>0.984231</td>\n",
       "      <td>1.000000</td>\n",
       "    </tr>\n",
       "  </tbody>\n",
       "</table>\n",
       "</div>"
      ],
      "text/plain": [
       "            SUBTLWF  CSAT_Freq\n",
       "SUBTLWF    1.000000   0.984231\n",
       "CSAT_Freq  0.984231   1.000000"
      ]
     },
     "metadata": {},
     "output_type": "display_data"
    }
   ],
   "source": [
    "pd.merge(df, HF_df, how='inner', on='Word')[['SUBTLWF', 'CSAT_Freq']].corr()"
   ]
  },
  {
   "cell_type": "code",
   "execution_count": null,
   "id": "cdfb8803",
   "metadata": {},
   "outputs": [
    {
     "data": {
      "text/html": [
       "<div>\n",
       "<style scoped>\n",
       "    .dataframe tbody tr th:only-of-type {\n",
       "        vertical-align: middle;\n",
       "    }\n",
       "\n",
       "    .dataframe tbody tr th {\n",
       "        vertical-align: top;\n",
       "    }\n",
       "\n",
       "    .dataframe thead th {\n",
       "        text-align: right;\n",
       "    }\n",
       "</style>\n",
       "<table border=\"1\" class=\"dataframe\">\n",
       "  <thead>\n",
       "    <tr style=\"text-align: right;\">\n",
       "      <th></th>\n",
       "      <th>Freq_HAL</th>\n",
       "      <th>CSAT_Freq</th>\n",
       "    </tr>\n",
       "  </thead>\n",
       "  <tbody>\n",
       "    <tr>\n",
       "      <th>Freq_HAL</th>\n",
       "      <td>1.00000</td>\n",
       "      <td>0.99071</td>\n",
       "    </tr>\n",
       "    <tr>\n",
       "      <th>CSAT_Freq</th>\n",
       "      <td>0.99071</td>\n",
       "      <td>1.00000</td>\n",
       "    </tr>\n",
       "  </tbody>\n",
       "</table>\n",
       "</div>"
      ],
      "text/plain": [
       "           Freq_HAL  CSAT_Freq\n",
       "Freq_HAL    1.00000    0.99071\n",
       "CSAT_Freq   0.99071    1.00000"
      ]
     },
     "metadata": {},
     "output_type": "display_data"
    }
   ],
   "source": [
    "pd.merge(df, HF_df, how='inner', on='Word')[['Freq_HAL', 'CSAT_Freq']].corr()"
   ]
  },
  {
   "cell_type": "code",
   "execution_count": null,
   "id": "42933359",
   "metadata": {},
   "outputs": [
    {
     "data": {
      "text/html": [
       "<div>\n",
       "<style scoped>\n",
       "    .dataframe tbody tr th:only-of-type {\n",
       "        vertical-align: middle;\n",
       "    }\n",
       "\n",
       "    .dataframe tbody tr th {\n",
       "        vertical-align: top;\n",
       "    }\n",
       "\n",
       "    .dataframe thead th {\n",
       "        text-align: right;\n",
       "    }\n",
       "</style>\n",
       "<table border=\"1\" class=\"dataframe\">\n",
       "  <thead>\n",
       "    <tr style=\"text-align: right;\">\n",
       "      <th></th>\n",
       "      <th>SUBTLWF</th>\n",
       "      <th>Freq_HAL</th>\n",
       "    </tr>\n",
       "  </thead>\n",
       "  <tbody>\n",
       "    <tr>\n",
       "      <th>SUBTLWF</th>\n",
       "      <td>1.000000</td>\n",
       "      <td>0.979698</td>\n",
       "    </tr>\n",
       "    <tr>\n",
       "      <th>Freq_HAL</th>\n",
       "      <td>0.979698</td>\n",
       "      <td>1.000000</td>\n",
       "    </tr>\n",
       "  </tbody>\n",
       "</table>\n",
       "</div>"
      ],
      "text/plain": [
       "           SUBTLWF  Freq_HAL\n",
       "SUBTLWF   1.000000  0.979698\n",
       "Freq_HAL  0.979698  1.000000"
      ]
     },
     "metadata": {},
     "output_type": "display_data"
    }
   ],
   "source": [
    "pd.merge(df, HF_df, how='inner', on='Word')[['SUBTLWF', 'Freq_HAL']].corr()"
   ]
  },
  {
   "cell_type": "code",
   "execution_count": null,
   "id": "585491d6",
   "metadata": {},
   "outputs": [
    {
     "data": {
      "text/html": [
       "<div>\n",
       "<style scoped>\n",
       "    .dataframe tbody tr th:only-of-type {\n",
       "        vertical-align: middle;\n",
       "    }\n",
       "\n",
       "    .dataframe tbody tr th {\n",
       "        vertical-align: top;\n",
       "    }\n",
       "\n",
       "    .dataframe thead th {\n",
       "        text-align: right;\n",
       "    }\n",
       "</style>\n",
       "<table border=\"1\" class=\"dataframe\">\n",
       "  <thead>\n",
       "    <tr style=\"text-align: right;\">\n",
       "      <th></th>\n",
       "      <th>SUBTLWF</th>\n",
       "      <th>CSAT_Freq</th>\n",
       "    </tr>\n",
       "  </thead>\n",
       "  <tbody>\n",
       "    <tr>\n",
       "      <th>SUBTLWF</th>\n",
       "      <td>1.00000</td>\n",
       "      <td>0.53389</td>\n",
       "    </tr>\n",
       "    <tr>\n",
       "      <th>CSAT_Freq</th>\n",
       "      <td>0.53389</td>\n",
       "      <td>1.00000</td>\n",
       "    </tr>\n",
       "  </tbody>\n",
       "</table>\n",
       "</div>"
      ],
      "text/plain": [
       "           SUBTLWF  CSAT_Freq\n",
       "SUBTLWF    1.00000    0.53389\n",
       "CSAT_Freq  0.53389    1.00000"
      ]
     },
     "metadata": {},
     "output_type": "display_data"
    }
   ],
   "source": [
    "pd.merge(df, LF_df, how='inner', on='Word')[['SUBTLWF', 'CSAT_Freq']].corr()"
   ]
  },
  {
   "cell_type": "code",
   "execution_count": null,
   "id": "4d475dac",
   "metadata": {},
   "outputs": [
    {
     "data": {
      "text/html": [
       "<div>\n",
       "<style scoped>\n",
       "    .dataframe tbody tr th:only-of-type {\n",
       "        vertical-align: middle;\n",
       "    }\n",
       "\n",
       "    .dataframe tbody tr th {\n",
       "        vertical-align: top;\n",
       "    }\n",
       "\n",
       "    .dataframe thead th {\n",
       "        text-align: right;\n",
       "    }\n",
       "</style>\n",
       "<table border=\"1\" class=\"dataframe\">\n",
       "  <thead>\n",
       "    <tr style=\"text-align: right;\">\n",
       "      <th></th>\n",
       "      <th>Freq_HAL</th>\n",
       "      <th>CSAT_Freq</th>\n",
       "    </tr>\n",
       "  </thead>\n",
       "  <tbody>\n",
       "    <tr>\n",
       "      <th>Freq_HAL</th>\n",
       "      <td>1.000000</td>\n",
       "      <td>0.349895</td>\n",
       "    </tr>\n",
       "    <tr>\n",
       "      <th>CSAT_Freq</th>\n",
       "      <td>0.349895</td>\n",
       "      <td>1.000000</td>\n",
       "    </tr>\n",
       "  </tbody>\n",
       "</table>\n",
       "</div>"
      ],
      "text/plain": [
       "           Freq_HAL  CSAT_Freq\n",
       "Freq_HAL   1.000000   0.349895\n",
       "CSAT_Freq  0.349895   1.000000"
      ]
     },
     "metadata": {},
     "output_type": "display_data"
    }
   ],
   "source": [
    "pd.merge(df, LF_df, how='inner', on='Word')[['Freq_HAL', 'CSAT_Freq']].corr()"
   ]
  },
  {
   "cell_type": "code",
   "execution_count": null,
   "id": "849268a1",
   "metadata": {},
   "outputs": [
    {
     "data": {
      "text/html": [
       "<div>\n",
       "<style scoped>\n",
       "    .dataframe tbody tr th:only-of-type {\n",
       "        vertical-align: middle;\n",
       "    }\n",
       "\n",
       "    .dataframe tbody tr th {\n",
       "        vertical-align: top;\n",
       "    }\n",
       "\n",
       "    .dataframe thead th {\n",
       "        text-align: right;\n",
       "    }\n",
       "</style>\n",
       "<table border=\"1\" class=\"dataframe\">\n",
       "  <thead>\n",
       "    <tr style=\"text-align: right;\">\n",
       "      <th></th>\n",
       "      <th>SUBTLWF</th>\n",
       "      <th>Freq_HAL</th>\n",
       "    </tr>\n",
       "  </thead>\n",
       "  <tbody>\n",
       "    <tr>\n",
       "      <th>SUBTLWF</th>\n",
       "      <td>1.000000</td>\n",
       "      <td>0.315069</td>\n",
       "    </tr>\n",
       "    <tr>\n",
       "      <th>Freq_HAL</th>\n",
       "      <td>0.315069</td>\n",
       "      <td>1.000000</td>\n",
       "    </tr>\n",
       "  </tbody>\n",
       "</table>\n",
       "</div>"
      ],
      "text/plain": [
       "           SUBTLWF  Freq_HAL\n",
       "SUBTLWF   1.000000  0.315069\n",
       "Freq_HAL  0.315069  1.000000"
      ]
     },
     "metadata": {},
     "output_type": "display_data"
    }
   ],
   "source": [
    "pd.merge(df, LF_df, how='inner', on='Word')[['SUBTLWF', 'Freq_HAL']].corr()"
   ]
  },
  {
   "cell_type": "markdown",
   "id": "eecf4513",
   "metadata": {},
   "source": [
    "# Balota et al.(2002)"
   ]
  },
  {
   "cell_type": "markdown",
   "id": "e1ea0163",
   "metadata": {},
   "source": [
    "The Word-Frequency Mirror Effect in Young, Old, and Early-Stage\n",
    "Alzheimer’s Disease: Evidence for Two Processes in Episodic Recognition Performance"
   ]
  },
  {
   "cell_type": "code",
   "execution_count": 298,
   "id": "a09c016f",
   "metadata": {},
   "outputs": [
    {
     "data": {
      "text/plain": [
       "(48, 1)"
      ]
     },
     "execution_count": 298,
     "metadata": {},
     "output_type": "execute_result"
    }
   ],
   "source": [
    "HF_df = pd.DataFrame(\n",
    "    {\n",
    "        'Word': ['car', 'rose', 'key', 'cow', 'cat', 'sun', 'cup', 'tree',\n",
    "                 'road', 'home', 'ball', 'town', 'king', 'baby', 'pool', 'bear',\n",
    "                 'world', 'plane', 'floor', 'book', 'field', 'hotel', 'truck', 'wheel', \n",
    "                 'radio', 'beach', 'cloud' , 'bread', 'dress', 'mouth', 'snake', 'valley',\n",
    "                 'street', 'bottle', 'jacket', 'nation', 'garden', 'stream', 'market', 'engine', \n",
    "                 'college', 'library', 'picture',  'palace', 'kitchen', 'father', 'village', 'chicken' \n",
    "                 ]\n",
    "    }\n",
    ")\n",
    "HF_df.shape"
   ]
  },
  {
   "cell_type": "code",
   "execution_count": 299,
   "id": "fdeb0950",
   "metadata": {},
   "outputs": [
    {
     "data": {
      "text/plain": [
       "(48, 1)"
      ]
     },
     "execution_count": 299,
     "metadata": {},
     "output_type": "execute_result"
    }
   ],
   "source": [
    "LF_df = pd.DataFrame(\n",
    "    {\n",
    "        'Word': ['urn', 'boar', 'wol', 'spa', 'gem', 'keg', 'eel', 'vine',\n",
    "                 'flea', 'silo', 'kily', 'harp', 'lass', 'vase', 'plum', 'loft',\n",
    "                 'cobra', 'olive', 'otter', 'isle', 'valet', 'gourd', 'peacan', 'banjo',\n",
    "                 'wharf', 'yacht', 'dwarf', 'tunic', 'altar', 'flask', 'anvil', 'sequin',\n",
    "                 'tablet', 'tripod', 'galaxy', 'wizard', 'cavern', 'afghan', 'jaguar', 'bonnet',\n",
    "                 'crevice', 'dungeon', 'parasol', 'beggar', 'monsoon', 'sleuth', 'trolley', 'vulture'\n",
    "                 ]\n",
    "    }\n",
    ")\n",
    "LF_df.shape"
   ]
  },
  {
   "cell_type": "code",
   "execution_count": 300,
   "id": "7b516e92",
   "metadata": {},
   "outputs": [
    {
     "data": {
      "image/png": "[encoded data removed]",
      "text/plain": [
       "<Figure size 640x480 with 1 Axes>"
      ]
     },
     "metadata": {},
     "output_type": "display_data"
    }
   ],
   "source": [
    "plot(df, HF_df, LF_df)"
   ]
  },
  {
   "cell_type": "code",
   "execution_count": 198,
   "id": "22c0b428",
   "metadata": {},
   "outputs": [
    {
     "data": {
      "text/html": [
       "<div>\n",
       "<style scoped>\n",
       "    .dataframe tbody tr th:only-of-type {\n",
       "        vertical-align: middle;\n",
       "    }\n",
       "\n",
       "    .dataframe tbody tr th {\n",
       "        vertical-align: top;\n",
       "    }\n",
       "\n",
       "    .dataframe thead th {\n",
       "        text-align: right;\n",
       "    }\n",
       "</style>\n",
       "<table border=\"1\" class=\"dataframe\">\n",
       "  <thead>\n",
       "    <tr style=\"text-align: right;\">\n",
       "      <th></th>\n",
       "      <th>SUBTLWF</th>\n",
       "      <th>CSAT_Freq</th>\n",
       "    </tr>\n",
       "  </thead>\n",
       "  <tbody>\n",
       "    <tr>\n",
       "      <th>SUBTLWF</th>\n",
       "      <td>1.000000</td>\n",
       "      <td>0.661543</td>\n",
       "    </tr>\n",
       "    <tr>\n",
       "      <th>CSAT_Freq</th>\n",
       "      <td>0.661543</td>\n",
       "      <td>1.000000</td>\n",
       "    </tr>\n",
       "  </tbody>\n",
       "</table>\n",
       "</div>"
      ],
      "text/plain": [
       "            SUBTLWF  CSAT_Freq\n",
       "SUBTLWF    1.000000   0.661543\n",
       "CSAT_Freq  0.661543   1.000000"
      ]
     },
     "execution_count": 198,
     "metadata": {},
     "output_type": "execute_result"
    }
   ],
   "source": [
    "pd.merge(df, HF_df, how='inner', on='Word')[['SUBTLWF', 'CSAT_Freq']].corr()"
   ]
  },
  {
   "cell_type": "code",
   "execution_count": 199,
   "id": "e8411b8c",
   "metadata": {},
   "outputs": [
    {
     "data": {
      "text/html": [
       "<div>\n",
       "<style scoped>\n",
       "    .dataframe tbody tr th:only-of-type {\n",
       "        vertical-align: middle;\n",
       "    }\n",
       "\n",
       "    .dataframe tbody tr th {\n",
       "        vertical-align: top;\n",
       "    }\n",
       "\n",
       "    .dataframe thead th {\n",
       "        text-align: right;\n",
       "    }\n",
       "</style>\n",
       "<table border=\"1\" class=\"dataframe\">\n",
       "  <thead>\n",
       "    <tr style=\"text-align: right;\">\n",
       "      <th></th>\n",
       "      <th>Freq_HAL</th>\n",
       "      <th>CSAT_Freq</th>\n",
       "    </tr>\n",
       "  </thead>\n",
       "  <tbody>\n",
       "    <tr>\n",
       "      <th>Freq_HAL</th>\n",
       "      <td>1.000000</td>\n",
       "      <td>0.875975</td>\n",
       "    </tr>\n",
       "    <tr>\n",
       "      <th>CSAT_Freq</th>\n",
       "      <td>0.875975</td>\n",
       "      <td>1.000000</td>\n",
       "    </tr>\n",
       "  </tbody>\n",
       "</table>\n",
       "</div>"
      ],
      "text/plain": [
       "           Freq_HAL  CSAT_Freq\n",
       "Freq_HAL   1.000000   0.875975\n",
       "CSAT_Freq  0.875975   1.000000"
      ]
     },
     "execution_count": 199,
     "metadata": {},
     "output_type": "execute_result"
    }
   ],
   "source": [
    "pd.merge(df, HF_df, how='inner', on='Word')[['Freq_HAL', 'CSAT_Freq']].corr()"
   ]
  },
  {
   "cell_type": "code",
   "execution_count": 200,
   "id": "ca5a5f10",
   "metadata": {},
   "outputs": [
    {
     "data": {
      "text/html": [
       "<div>\n",
       "<style scoped>\n",
       "    .dataframe tbody tr th:only-of-type {\n",
       "        vertical-align: middle;\n",
       "    }\n",
       "\n",
       "    .dataframe tbody tr th {\n",
       "        vertical-align: top;\n",
       "    }\n",
       "\n",
       "    .dataframe thead th {\n",
       "        text-align: right;\n",
       "    }\n",
       "</style>\n",
       "<table border=\"1\" class=\"dataframe\">\n",
       "  <thead>\n",
       "    <tr style=\"text-align: right;\">\n",
       "      <th></th>\n",
       "      <th>SUBTLWF</th>\n",
       "      <th>Freq_HAL</th>\n",
       "    </tr>\n",
       "  </thead>\n",
       "  <tbody>\n",
       "    <tr>\n",
       "      <th>SUBTLWF</th>\n",
       "      <td>1.000000</td>\n",
       "      <td>0.555812</td>\n",
       "    </tr>\n",
       "    <tr>\n",
       "      <th>Freq_HAL</th>\n",
       "      <td>0.555812</td>\n",
       "      <td>1.000000</td>\n",
       "    </tr>\n",
       "  </tbody>\n",
       "</table>\n",
       "</div>"
      ],
      "text/plain": [
       "           SUBTLWF  Freq_HAL\n",
       "SUBTLWF   1.000000  0.555812\n",
       "Freq_HAL  0.555812  1.000000"
      ]
     },
     "execution_count": 200,
     "metadata": {},
     "output_type": "execute_result"
    }
   ],
   "source": [
    "pd.merge(df, HF_df, how='inner', on='Word')[['SUBTLWF', 'Freq_HAL']].corr()"
   ]
  },
  {
   "cell_type": "code",
   "execution_count": 201,
   "id": "4c6863eb",
   "metadata": {},
   "outputs": [
    {
     "data": {
      "text/html": [
       "<div>\n",
       "<style scoped>\n",
       "    .dataframe tbody tr th:only-of-type {\n",
       "        vertical-align: middle;\n",
       "    }\n",
       "\n",
       "    .dataframe tbody tr th {\n",
       "        vertical-align: top;\n",
       "    }\n",
       "\n",
       "    .dataframe thead th {\n",
       "        text-align: right;\n",
       "    }\n",
       "</style>\n",
       "<table border=\"1\" class=\"dataframe\">\n",
       "  <thead>\n",
       "    <tr style=\"text-align: right;\">\n",
       "      <th></th>\n",
       "      <th>SUBTLWF</th>\n",
       "      <th>CSAT_Freq</th>\n",
       "    </tr>\n",
       "  </thead>\n",
       "  <tbody>\n",
       "    <tr>\n",
       "      <th>SUBTLWF</th>\n",
       "      <td>1.00000</td>\n",
       "      <td>0.42076</td>\n",
       "    </tr>\n",
       "    <tr>\n",
       "      <th>CSAT_Freq</th>\n",
       "      <td>0.42076</td>\n",
       "      <td>1.00000</td>\n",
       "    </tr>\n",
       "  </tbody>\n",
       "</table>\n",
       "</div>"
      ],
      "text/plain": [
       "           SUBTLWF  CSAT_Freq\n",
       "SUBTLWF    1.00000    0.42076\n",
       "CSAT_Freq  0.42076    1.00000"
      ]
     },
     "execution_count": 201,
     "metadata": {},
     "output_type": "execute_result"
    }
   ],
   "source": [
    "pd.merge(df, LF_df, how='inner', on='Word')[['SUBTLWF', 'CSAT_Freq']].corr()"
   ]
  },
  {
   "cell_type": "code",
   "execution_count": 202,
   "id": "7de6845b",
   "metadata": {},
   "outputs": [
    {
     "data": {
      "text/html": [
       "<div>\n",
       "<style scoped>\n",
       "    .dataframe tbody tr th:only-of-type {\n",
       "        vertical-align: middle;\n",
       "    }\n",
       "\n",
       "    .dataframe tbody tr th {\n",
       "        vertical-align: top;\n",
       "    }\n",
       "\n",
       "    .dataframe thead th {\n",
       "        text-align: right;\n",
       "    }\n",
       "</style>\n",
       "<table border=\"1\" class=\"dataframe\">\n",
       "  <thead>\n",
       "    <tr style=\"text-align: right;\">\n",
       "      <th></th>\n",
       "      <th>Freq_HAL</th>\n",
       "      <th>CSAT_Freq</th>\n",
       "    </tr>\n",
       "  </thead>\n",
       "  <tbody>\n",
       "    <tr>\n",
       "      <th>Freq_HAL</th>\n",
       "      <td>1.000000</td>\n",
       "      <td>0.350384</td>\n",
       "    </tr>\n",
       "    <tr>\n",
       "      <th>CSAT_Freq</th>\n",
       "      <td>0.350384</td>\n",
       "      <td>1.000000</td>\n",
       "    </tr>\n",
       "  </tbody>\n",
       "</table>\n",
       "</div>"
      ],
      "text/plain": [
       "           Freq_HAL  CSAT_Freq\n",
       "Freq_HAL   1.000000   0.350384\n",
       "CSAT_Freq  0.350384   1.000000"
      ]
     },
     "execution_count": 202,
     "metadata": {},
     "output_type": "execute_result"
    }
   ],
   "source": [
    "pd.merge(df, LF_df, how='inner', on='Word')[['Freq_HAL', 'CSAT_Freq']].corr()"
   ]
  },
  {
   "cell_type": "code",
   "execution_count": null,
   "id": "4fc22af8",
   "metadata": {},
   "outputs": [
    {
     "data": {
      "text/html": [
       "<div>\n",
       "<style scoped>\n",
       "    .dataframe tbody tr th:only-of-type {\n",
       "        vertical-align: middle;\n",
       "    }\n",
       "\n",
       "    .dataframe tbody tr th {\n",
       "        vertical-align: top;\n",
       "    }\n",
       "\n",
       "    .dataframe thead th {\n",
       "        text-align: right;\n",
       "    }\n",
       "</style>\n",
       "<table border=\"1\" class=\"dataframe\">\n",
       "  <thead>\n",
       "    <tr style=\"text-align: right;\">\n",
       "      <th></th>\n",
       "      <th>SUBTLWF</th>\n",
       "      <th>Freq_HAL</th>\n",
       "    </tr>\n",
       "  </thead>\n",
       "  <tbody>\n",
       "    <tr>\n",
       "      <th>SUBTLWF</th>\n",
       "      <td>1.000000</td>\n",
       "      <td>0.584759</td>\n",
       "    </tr>\n",
       "    <tr>\n",
       "      <th>Freq_HAL</th>\n",
       "      <td>0.584759</td>\n",
       "      <td>1.000000</td>\n",
       "    </tr>\n",
       "  </tbody>\n",
       "</table>\n",
       "</div>"
      ],
      "text/plain": [
       "           SUBTLWF  Freq_HAL\n",
       "SUBTLWF   1.000000  0.584759\n",
       "Freq_HAL  0.584759  1.000000"
      ]
     },
     "execution_count": 203,
     "metadata": {},
     "output_type": "execute_result"
    }
   ],
   "source": [
    "pd.merge(df, LF_df, how='inner', on='Word')[['SUBTLWF', 'Freq_HAL']].corr()"
   ]
  },
  {
   "cell_type": "markdown",
   "id": "e94e87fe",
   "metadata": {},
   "source": [
    "# Cleland et al.(2006)"
   ]
  },
  {
   "cell_type": "markdown",
   "id": "bd399831",
   "metadata": {},
   "source": [
    "Frequency Effects in Spoken and Visual Word Recognition: Evidence From\n",
    "Dual-Task Methodologies"
   ]
  },
  {
   "cell_type": "code",
   "execution_count": 301,
   "id": "f601a63c",
   "metadata": {},
   "outputs": [
    {
     "data": {
      "text/plain": [
       "(120, 1)"
      ]
     },
     "execution_count": 301,
     "metadata": {},
     "output_type": "execute_result"
    }
   ],
   "source": [
    "HF_df = pd.DataFrame(\n",
    "    {\n",
    "        'Word': [ \"back\", \"ball\", \"bank\", \"bed\", \"bird\", \"blood\", \"book\", \"box\",\n",
    "                 \"break\", \"bring\", \"build\", \"call\", \"car\", \"care\", \"case\", \"chance\",\n",
    "                 \"change\", \"choice\", \"church\", \"class\", \"club\", \"cost\", \"course\", \"cut\",\n",
    "                 \"dog\", \"door\", \"draw\", \"drop\", \"face\", \"fact\", \"fear\", \"feed\",\n",
    "                 \"fight\", \"find\", \"fish\", \"floor\", \"food\", \"foot\", \"force\", \"game\",\n",
    "                 \"girl\", \"give\", \"glass\", \"group\", \"growth\", \"head\", \"health\", \"heat\",\n",
    "                 \"hill\", \"home\", \"hope\", \"house\", \"job\", \"kind\", \"land\", \"laugh\",\n",
    "                 \"lead\", \"learn\", \"leave\", \"life\", \"light\", \"lose\", \"lot\", \"love\",\n",
    "                 \"man\", \"mass\", \"meet\", \"milk\", \"mouth\", \"name\", \"need\", \"night\",\n",
    "                 \"note\", \"part\", \"pass\", \"pick\", \"piece\", \"place\", \"plan\", \"play\",\n",
    "                 \"point\", \"push\", \"rate\", \"read\", \"rest\", \"rock\", \"room\", \"run\",\n",
    "                 \"sense\", \"share\", \"shop\", \"sign\", \"sit\", \"skin\", \"sound\", \"source\",\n",
    "                 \"space\", \"staff\", \"stage\", \"stone\", \"stop\", \"style\", \"talk\", \"teach\",\n",
    "                 \"team\", \"think\", \"time\", \"town\", \"trade\", \"truth\", \"view\", \"voice\",\n",
    "                 \"walk\", \"wall\", \"watch\", \"week\", \"wind\", \"wish\", \"work\", \"year\"\n",
    "    ]\n",
    "    }\n",
    ")\n",
    "HF_df.shape"
   ]
  },
  {
   "cell_type": "code",
   "execution_count": 302,
   "id": "55b29290",
   "metadata": {},
   "outputs": [
    {
     "data": {
      "text/plain": [
       "(120, 1)"
      ]
     },
     "execution_count": 302,
     "metadata": {},
     "output_type": "execute_result"
    }
   ],
   "source": [
    "LF_df = pd.DataFrame(\n",
    "    {\n",
    "        'Word': [\"barb\", \"bard\", \"bash\", \"bask\", \"beak\", \"bloat\", \"blob\", \"brag\", \"bran\",\n",
    "    \"bunk\", \"busk\", \"carp\", \"cask\", \"chef\", \"chrome\", \"churn\", \"cone\", \"cork\",\n",
    "    \"cove\", \"crone\", \"cuff\", \"cull\", \"cult\", \"cyst\", \"deem\", \"dime\", \"dove\",\n",
    "    \"farce\", \"fawn\", \"fern\", \"fin\", \"flan\", \"flaw\", \"flog\", \"fluke\", \"font\",\n",
    "    \"frog\", \"fuzz\", \"gape\", \"germ\", \"girth\", \"glade\", \"gong\", \"gouge\", \"grid\",\n",
    "    \"grieve\", \"gust\", \"hark\", \"harp\", \"hoax\", \"hoop\", \"hose\", \"hub\", \"jig\",\n",
    "    \"kilt\", \"lark\", \"leer\", \"lint\", \"loathe\", \"lobe\", \"loft\", \"lout\", \"lull\",\n",
    "    \"lunge\", \"lurch\", \"maim\", \"maze\", \"mole\", \"moth\", \"musk\", \"nib\", \"node\",\n",
    "    \"noose\", \"nudge\", \"parch\", \"pave\", \"peep\", \"perk\", \"pew\", \"pike\", \"pod\",\n",
    "    \"pram\", \"prawn\", \"rake\", \"ream\", \"reef\", \"rind\", \"roam\", \"rook\", \"sage\",\n",
    "    \"scorch\", \"scum\", \"shrew\", \"shun\", \"slab\", \"slay\", \"slime\", \"smog\", \"snare\",\n",
    "    \"spouse\", \"stag\", \"sty\", \"tab\", \"tame\", \"toad\", \"toil\", \"tram\", \"turf\",\n",
    "    \"tusk\", \"vend\", \"vet\", \"void\", \"wade\", \"warp\", \"wart\", \"wasp\", \"wed\",\n",
    "    \"wick\", \"womb\", \"yak\"\n",
    "                 ]\n",
    "    }\n",
    ")\n",
    "LF_df.shape"
   ]
  },
  {
   "cell_type": "code",
   "execution_count": 303,
   "id": "9d16434c",
   "metadata": {},
   "outputs": [
    {
     "data": {
      "image/png": "[encoded data removed]",
      "text/plain": [
       "<Figure size 640x480 with 1 Axes>"
      ]
     },
     "metadata": {},
     "output_type": "display_data"
    }
   ],
   "source": [
    "plot(df, HF_df, LF_df)"
   ]
  },
  {
   "cell_type": "code",
   "execution_count": 207,
   "id": "7c0840e0",
   "metadata": {},
   "outputs": [
    {
     "data": {
      "text/html": [
       "<div>\n",
       "<style scoped>\n",
       "    .dataframe tbody tr th:only-of-type {\n",
       "        vertical-align: middle;\n",
       "    }\n",
       "\n",
       "    .dataframe tbody tr th {\n",
       "        vertical-align: top;\n",
       "    }\n",
       "\n",
       "    .dataframe thead th {\n",
       "        text-align: right;\n",
       "    }\n",
       "</style>\n",
       "<table border=\"1\" class=\"dataframe\">\n",
       "  <thead>\n",
       "    <tr style=\"text-align: right;\">\n",
       "      <th></th>\n",
       "      <th>SUBTLWF</th>\n",
       "      <th>CSAT_Freq</th>\n",
       "    </tr>\n",
       "  </thead>\n",
       "  <tbody>\n",
       "    <tr>\n",
       "      <th>SUBTLWF</th>\n",
       "      <td>1.000000</td>\n",
       "      <td>0.746652</td>\n",
       "    </tr>\n",
       "    <tr>\n",
       "      <th>CSAT_Freq</th>\n",
       "      <td>0.746652</td>\n",
       "      <td>1.000000</td>\n",
       "    </tr>\n",
       "  </tbody>\n",
       "</table>\n",
       "</div>"
      ],
      "text/plain": [
       "            SUBTLWF  CSAT_Freq\n",
       "SUBTLWF    1.000000   0.746652\n",
       "CSAT_Freq  0.746652   1.000000"
      ]
     },
     "execution_count": 207,
     "metadata": {},
     "output_type": "execute_result"
    }
   ],
   "source": [
    "pd.merge(df, HF_df, how='inner', on='Word')[['SUBTLWF', 'CSAT_Freq']].corr()"
   ]
  },
  {
   "cell_type": "code",
   "execution_count": 208,
   "id": "49431f00",
   "metadata": {},
   "outputs": [
    {
     "data": {
      "text/html": [
       "<div>\n",
       "<style scoped>\n",
       "    .dataframe tbody tr th:only-of-type {\n",
       "        vertical-align: middle;\n",
       "    }\n",
       "\n",
       "    .dataframe tbody tr th {\n",
       "        vertical-align: top;\n",
       "    }\n",
       "\n",
       "    .dataframe thead th {\n",
       "        text-align: right;\n",
       "    }\n",
       "</style>\n",
       "<table border=\"1\" class=\"dataframe\">\n",
       "  <thead>\n",
       "    <tr style=\"text-align: right;\">\n",
       "      <th></th>\n",
       "      <th>Freq_HAL</th>\n",
       "      <th>CSAT_Freq</th>\n",
       "    </tr>\n",
       "  </thead>\n",
       "  <tbody>\n",
       "    <tr>\n",
       "      <th>Freq_HAL</th>\n",
       "      <td>1.000000</td>\n",
       "      <td>0.861681</td>\n",
       "    </tr>\n",
       "    <tr>\n",
       "      <th>CSAT_Freq</th>\n",
       "      <td>0.861681</td>\n",
       "      <td>1.000000</td>\n",
       "    </tr>\n",
       "  </tbody>\n",
       "</table>\n",
       "</div>"
      ],
      "text/plain": [
       "           Freq_HAL  CSAT_Freq\n",
       "Freq_HAL   1.000000   0.861681\n",
       "CSAT_Freq  0.861681   1.000000"
      ]
     },
     "execution_count": 208,
     "metadata": {},
     "output_type": "execute_result"
    }
   ],
   "source": [
    "pd.merge(df, HF_df, how='inner', on='Word')[['Freq_HAL', 'CSAT_Freq']].corr()"
   ]
  },
  {
   "cell_type": "code",
   "execution_count": 209,
   "id": "5d44fe45",
   "metadata": {},
   "outputs": [
    {
     "data": {
      "text/html": [
       "<div>\n",
       "<style scoped>\n",
       "    .dataframe tbody tr th:only-of-type {\n",
       "        vertical-align: middle;\n",
       "    }\n",
       "\n",
       "    .dataframe tbody tr th {\n",
       "        vertical-align: top;\n",
       "    }\n",
       "\n",
       "    .dataframe thead th {\n",
       "        text-align: right;\n",
       "    }\n",
       "</style>\n",
       "<table border=\"1\" class=\"dataframe\">\n",
       "  <thead>\n",
       "    <tr style=\"text-align: right;\">\n",
       "      <th></th>\n",
       "      <th>SUBTLWF</th>\n",
       "      <th>Freq_HAL</th>\n",
       "    </tr>\n",
       "  </thead>\n",
       "  <tbody>\n",
       "    <tr>\n",
       "      <th>SUBTLWF</th>\n",
       "      <td>1.000000</td>\n",
       "      <td>0.763498</td>\n",
       "    </tr>\n",
       "    <tr>\n",
       "      <th>Freq_HAL</th>\n",
       "      <td>0.763498</td>\n",
       "      <td>1.000000</td>\n",
       "    </tr>\n",
       "  </tbody>\n",
       "</table>\n",
       "</div>"
      ],
      "text/plain": [
       "           SUBTLWF  Freq_HAL\n",
       "SUBTLWF   1.000000  0.763498\n",
       "Freq_HAL  0.763498  1.000000"
      ]
     },
     "execution_count": 209,
     "metadata": {},
     "output_type": "execute_result"
    }
   ],
   "source": [
    "pd.merge(df, HF_df, how='inner', on='Word')[['SUBTLWF', 'Freq_HAL']].corr()"
   ]
  },
  {
   "cell_type": "code",
   "execution_count": 210,
   "id": "f9eb2685",
   "metadata": {},
   "outputs": [
    {
     "data": {
      "text/html": [
       "<div>\n",
       "<style scoped>\n",
       "    .dataframe tbody tr th:only-of-type {\n",
       "        vertical-align: middle;\n",
       "    }\n",
       "\n",
       "    .dataframe tbody tr th {\n",
       "        vertical-align: top;\n",
       "    }\n",
       "\n",
       "    .dataframe thead th {\n",
       "        text-align: right;\n",
       "    }\n",
       "</style>\n",
       "<table border=\"1\" class=\"dataframe\">\n",
       "  <thead>\n",
       "    <tr style=\"text-align: right;\">\n",
       "      <th></th>\n",
       "      <th>SUBTLWF</th>\n",
       "      <th>CSAT_Freq</th>\n",
       "    </tr>\n",
       "  </thead>\n",
       "  <tbody>\n",
       "    <tr>\n",
       "      <th>SUBTLWF</th>\n",
       "      <td>NaN</td>\n",
       "      <td>NaN</td>\n",
       "    </tr>\n",
       "    <tr>\n",
       "      <th>CSAT_Freq</th>\n",
       "      <td>NaN</td>\n",
       "      <td>NaN</td>\n",
       "    </tr>\n",
       "  </tbody>\n",
       "</table>\n",
       "</div>"
      ],
      "text/plain": [
       "           SUBTLWF  CSAT_Freq\n",
       "SUBTLWF        NaN        NaN\n",
       "CSAT_Freq      NaN        NaN"
      ]
     },
     "execution_count": 210,
     "metadata": {},
     "output_type": "execute_result"
    }
   ],
   "source": [
    "pd.merge(df, LF_df, how='inner', on='Word')[['SUBTLWF', 'CSAT_Freq']].corr()"
   ]
  },
  {
   "cell_type": "code",
   "execution_count": 211,
   "id": "69b858ec",
   "metadata": {},
   "outputs": [
    {
     "data": {
      "text/html": [
       "<div>\n",
       "<style scoped>\n",
       "    .dataframe tbody tr th:only-of-type {\n",
       "        vertical-align: middle;\n",
       "    }\n",
       "\n",
       "    .dataframe tbody tr th {\n",
       "        vertical-align: top;\n",
       "    }\n",
       "\n",
       "    .dataframe thead th {\n",
       "        text-align: right;\n",
       "    }\n",
       "</style>\n",
       "<table border=\"1\" class=\"dataframe\">\n",
       "  <thead>\n",
       "    <tr style=\"text-align: right;\">\n",
       "      <th></th>\n",
       "      <th>Freq_HAL</th>\n",
       "      <th>CSAT_Freq</th>\n",
       "    </tr>\n",
       "  </thead>\n",
       "  <tbody>\n",
       "    <tr>\n",
       "      <th>Freq_HAL</th>\n",
       "      <td>NaN</td>\n",
       "      <td>NaN</td>\n",
       "    </tr>\n",
       "    <tr>\n",
       "      <th>CSAT_Freq</th>\n",
       "      <td>NaN</td>\n",
       "      <td>NaN</td>\n",
       "    </tr>\n",
       "  </tbody>\n",
       "</table>\n",
       "</div>"
      ],
      "text/plain": [
       "           Freq_HAL  CSAT_Freq\n",
       "Freq_HAL        NaN        NaN\n",
       "CSAT_Freq       NaN        NaN"
      ]
     },
     "execution_count": 211,
     "metadata": {},
     "output_type": "execute_result"
    }
   ],
   "source": [
    "pd.merge(df, LF_df, how='inner', on='Word')[['Freq_HAL', 'CSAT_Freq']].corr()"
   ]
  },
  {
   "cell_type": "code",
   "execution_count": 212,
   "id": "2901fbe4",
   "metadata": {},
   "outputs": [
    {
     "data": {
      "text/html": [
       "<div>\n",
       "<style scoped>\n",
       "    .dataframe tbody tr th:only-of-type {\n",
       "        vertical-align: middle;\n",
       "    }\n",
       "\n",
       "    .dataframe tbody tr th {\n",
       "        vertical-align: top;\n",
       "    }\n",
       "\n",
       "    .dataframe thead th {\n",
       "        text-align: right;\n",
       "    }\n",
       "</style>\n",
       "<table border=\"1\" class=\"dataframe\">\n",
       "  <thead>\n",
       "    <tr style=\"text-align: right;\">\n",
       "      <th></th>\n",
       "      <th>SUBTLWF</th>\n",
       "      <th>Freq_HAL</th>\n",
       "    </tr>\n",
       "  </thead>\n",
       "  <tbody>\n",
       "    <tr>\n",
       "      <th>SUBTLWF</th>\n",
       "      <td>NaN</td>\n",
       "      <td>NaN</td>\n",
       "    </tr>\n",
       "    <tr>\n",
       "      <th>Freq_HAL</th>\n",
       "      <td>NaN</td>\n",
       "      <td>NaN</td>\n",
       "    </tr>\n",
       "  </tbody>\n",
       "</table>\n",
       "</div>"
      ],
      "text/plain": [
       "          SUBTLWF  Freq_HAL\n",
       "SUBTLWF       NaN       NaN\n",
       "Freq_HAL      NaN       NaN"
      ]
     },
     "execution_count": 212,
     "metadata": {},
     "output_type": "execute_result"
    }
   ],
   "source": [
    "pd.merge(df, LF_df, how='inner', on='Word')[['SUBTLWF', 'Freq_HAL']].corr()"
   ]
  }
 ],
 "metadata": {
  "kernelspec": {
   "display_name": ".venv",
   "language": "python",
   "name": "python3"
  },
  "language_info": {
   "codemirror_mode": {
    "name": "ipython",
    "version": 3
   },
   "file_extension": ".py",
   "mimetype": "text/x-python",
   "name": "python",
   "nbconvert_exporter": "python",
   "pygments_lexer": "ipython3",
   "version": "3.10.17"
  }
 },
 "nbformat": 4,
 "nbformat_minor": 5
}
