{
 "cells": [
  {
   "cell_type": "markdown",
   "metadata": {},
   "source": [
    "# Corpus Merging."
   ]
  },
  {
   "cell_type": "markdown",
   "metadata": {},
   "source": [
    "## CSAT 만들기"
   ]
  },
  {
   "cell_type": "markdown",
   "metadata": {},
   "source": [
    "CSAT의 경우, 자체적인 POS 값들 달기 애매하기 때문에 E-lexicon proj에서 제공하는 POS 값을 우선적으로 가져와서 붙여 넣자. 아마 대부분 있지 않을까?"
   ]
  },
  {
   "cell_type": "markdown",
   "metadata": {},
   "source": [
    "### Module Import"
   ]
  },
  {
   "cell_type": "code",
   "execution_count": 2,
   "metadata": {},
   "outputs": [],
   "source": [
    "import pandas as pd # 데이터 처리\n",
    "import numpy as np # 데이터 처리\n",
    "import seaborn as sns # 데이터 시각화\n",
    "from tqdm import tqdm # 데이터 처리\n",
    "import re # 정규식으로 특수기호 및 char 처리\n",
    "import json # 데이터 가공 후 저장할 형식\n",
    "from typing import Any, Dict, List  # python data-type 정의\n",
    "from pathlib import Path # 파일 경로 처리\n",
    "import os # 파일 경로 및 처리\n",
    "from json_handler import JsonFileHandler\n",
    "from preprocessor import Preprocessor, TargetCorpusPreprocessor"
   ]
  },
  {
   "cell_type": "markdown",
   "metadata": {},
   "source": [
    "### file path setting"
   ]
  },
  {
   "cell_type": "code",
   "execution_count": 10,
   "metadata": {},
   "outputs": [
    {
     "name": "stdout",
     "output_type": "stream",
     "text": [
      "All file paths are valid.\n"
     ]
    }
   ],
   "source": [
    "# 파일 경로 확인.\n",
    "proj_path = os.path.dirname(os.path.dirname(Path.cwd()))\n",
    "corpora_dir = os.path.join(proj_path, 'Corpora')\n",
    "CSAT_json_path = save_path = os.path.join(corpora_dir, 'CSAT-latest')\n",
    "\n",
    "# 파일 경로 유효성 확인.\n",
    "if not os.path.exists(proj_path):\n",
    "    raise FileNotFoundError(f\"Project path not found at {proj_path}\")\n",
    "if not os.path.exists(CSAT_json_path):\n",
    "    raise FileNotFoundError(f\"CSAT json path not found at {CSAT_json_path}\")\n",
    "if not any(file.endswith('.json') for file in os.listdir(CSAT_json_path)):\n",
    "    raise FileExistsError(f\"Any .json file doesn't exist in {CSAT_json_path}\")\n",
    "print(\"All file paths are valid.\")"
   ]
  },
  {
   "cell_type": "markdown",
   "metadata": {},
   "source": [
    "### Utils: generate_word_list\n",
    "중복을 허용하여 단어를 extend 한 list 생성.\n",
    "이후 pandas 다른 method(ex: value_count)를 사용해서 빈도수 계산."
   ]
  },
  {
   "cell_type": "code",
   "execution_count": 14,
   "metadata": {},
   "outputs": [],
   "source": [
    "def generate_word_list(document_list: list, document_dir: str):\n",
    "    # article 별 단어 분석.\n",
    "    word_list = []   # word 정보를 담을 리스트\n",
    "    json_handler = JsonFileHandler()\n",
    "\n",
    "    for document_name in document_list: # corpus에서 하나의 json 파일을 가져와서\n",
    "        document = json_handler.load_data(os.path.join(document_dir, document_name))  # 하나의 json 파일 내에 있는 모든 파일을 가져옴.\n",
    "\n",
    "        if isinstance(document, list):   # 한 json 내에 여러 obj가 있는 경우, \n",
    "            for sentence in document:  # json 파일 내 있는 여러 문장들 수 \n",
    "                word_list.extend(sentence['tokens'])\n",
    "        else:   # 한 json 내에 하나의 obj가 있는 경우, \n",
    "            word_list.extend(document['tokens'])   \n",
    "\n",
    "    return word_list"
   ]
  },
  {
   "cell_type": "markdown",
   "metadata": {},
   "source": [
    "### CSAT(only): 수능 + 모의고사"
   ]
  },
  {
   "cell_type": "code",
   "execution_count": null,
   "metadata": {},
   "outputs": [
    {
     "data": {
      "text/plain": [
       "(52, 49)"
      ]
     },
     "execution_count": 11,
     "metadata": {},
     "output_type": "execute_result"
    }
   ],
   "source": [
    "json_handler = JsonFileHandler()\n",
    "CSAT_path = os.path.join(corpora_dir, 'CSAT-latest')\n",
    "corpus_list = os.listdir(CSAT_path)\n",
    "corpus_list = [file for file in corpus_list if file.endswith('.json')]\n",
    "reading_corpus = [file for file in corpus_list if 'reading' in file]\n",
    "listening_corpus = [file for file in corpus_list if 'listening' in file]\n",
    "\n",
    "len(reading_corpus), len(listening_corpus)"
   ]
  },
  {
   "cell_type": "code",
   "execution_count": 40,
   "metadata": {},
   "outputs": [],
   "source": [
    "listening_word_list = generate_word_list(listening_corpus, CSAT_path)\n",
    "reading_word_list = generate_word_list(reading_corpus, CSAT_path)\n",
    "CSAT_only_word_list = pd.Series(listening_word_list + reading_word_list)"
   ]
  },
  {
   "cell_type": "code",
   "execution_count": 41,
   "metadata": {},
   "outputs": [
    {
     "data": {
      "text/plain": [
       "(58328,)"
      ]
     },
     "execution_count": 41,
     "metadata": {},
     "output_type": "execute_result"
    }
   ],
   "source": [
    "CSAT_only_word_list.shape"
   ]
  },
  {
   "cell_type": "code",
   "execution_count": 42,
   "metadata": {},
   "outputs": [
    {
     "data": {
      "text/plain": [
       ".              3435\n",
       ",              2787\n",
       "the            2748\n",
       "to             1627\n",
       "of             1376\n",
       "               ... \n",
       "substantial       1\n",
       "tolls             1\n",
       "merchants         1\n",
       "immediacy         1\n",
       "doubly            1\n",
       "Name: count, Length: 7282, dtype: int64"
      ]
     },
     "execution_count": 42,
     "metadata": {},
     "output_type": "execute_result"
    }
   ],
   "source": [
    "CSAT_only_word_list.value_counts()"
   ]
  },
  {
   "cell_type": "code",
   "execution_count": 45,
   "metadata": {},
   "outputs": [
    {
     "data": {
      "text/html": [
       "<div>\n",
       "<style scoped>\n",
       "    .dataframe tbody tr th:only-of-type {\n",
       "        vertical-align: middle;\n",
       "    }\n",
       "\n",
       "    .dataframe tbody tr th {\n",
       "        vertical-align: top;\n",
       "    }\n",
       "\n",
       "    .dataframe thead th {\n",
       "        text-align: right;\n",
       "    }\n",
       "</style>\n",
       "<table border=\"1\" class=\"dataframe\">\n",
       "  <thead>\n",
       "    <tr style=\"text-align: right;\">\n",
       "      <th></th>\n",
       "      <th>Word</th>\n",
       "      <th>Freq</th>\n",
       "    </tr>\n",
       "  </thead>\n",
       "  <tbody>\n",
       "    <tr>\n",
       "      <th>0</th>\n",
       "      <td>.</td>\n",
       "      <td>3435</td>\n",
       "    </tr>\n",
       "    <tr>\n",
       "      <th>1</th>\n",
       "      <td>,</td>\n",
       "      <td>2787</td>\n",
       "    </tr>\n",
       "    <tr>\n",
       "      <th>2</th>\n",
       "      <td>the</td>\n",
       "      <td>2748</td>\n",
       "    </tr>\n",
       "    <tr>\n",
       "      <th>3</th>\n",
       "      <td>to</td>\n",
       "      <td>1627</td>\n",
       "    </tr>\n",
       "    <tr>\n",
       "      <th>4</th>\n",
       "      <td>of</td>\n",
       "      <td>1376</td>\n",
       "    </tr>\n",
       "    <tr>\n",
       "      <th>...</th>\n",
       "      <td>...</td>\n",
       "      <td>...</td>\n",
       "    </tr>\n",
       "    <tr>\n",
       "      <th>7277</th>\n",
       "      <td>substantial</td>\n",
       "      <td>1</td>\n",
       "    </tr>\n",
       "    <tr>\n",
       "      <th>7278</th>\n",
       "      <td>tolls</td>\n",
       "      <td>1</td>\n",
       "    </tr>\n",
       "    <tr>\n",
       "      <th>7279</th>\n",
       "      <td>merchants</td>\n",
       "      <td>1</td>\n",
       "    </tr>\n",
       "    <tr>\n",
       "      <th>7280</th>\n",
       "      <td>immediacy</td>\n",
       "      <td>1</td>\n",
       "    </tr>\n",
       "    <tr>\n",
       "      <th>7281</th>\n",
       "      <td>doubly</td>\n",
       "      <td>1</td>\n",
       "    </tr>\n",
       "  </tbody>\n",
       "</table>\n",
       "<p>7282 rows × 2 columns</p>\n",
       "</div>"
      ],
      "text/plain": [
       "             Word  Freq\n",
       "0               .  3435\n",
       "1               ,  2787\n",
       "2             the  2748\n",
       "3              to  1627\n",
       "4              of  1376\n",
       "...           ...   ...\n",
       "7277  substantial     1\n",
       "7278        tolls     1\n",
       "7279    merchants     1\n",
       "7280    immediacy     1\n",
       "7281       doubly     1\n",
       "\n",
       "[7282 rows x 2 columns]"
      ]
     },
     "execution_count": 45,
     "metadata": {},
     "output_type": "execute_result"
    }
   ],
   "source": [
    "CSAT_only_word_list_df = CSAT_only_word_list.value_counts().to_frame().reset_index().rename(columns={'index': 'Word', 'count': 'Freq'})\n",
    "CSAT_only_word_list_df.to_excel(os.path.join(corpora_dir, 'merged_corpora', 'CSAT_only.xlsx'), index=False)\n",
    "CSAT_only_word_list_df"
   ]
  },
  {
   "cell_type": "markdown",
   "metadata": {},
   "source": [
    "### textbook(only)"
   ]
  },
  {
   "cell_type": "code",
   "execution_count": 12,
   "metadata": {},
   "outputs": [
    {
     "data": {
      "text/plain": [
       "71"
      ]
     },
     "execution_count": 12,
     "metadata": {},
     "output_type": "execute_result"
    }
   ],
   "source": [
    "json_handler = JsonFileHandler()\n",
    "CSAT_path = os.path.join(corpora_dir, 'CSAT-latest')\n",
    "corpus_list = os.listdir(CSAT_path)\n",
    "corpus_list = [file for file in corpus_list if file.endswith('.json')]\n",
    "textbook_corpus = [file for file in corpus_list if 'textbook' in file]\n",
    "\n",
    "len(textbook_corpus)"
   ]
  },
  {
   "cell_type": "code",
   "execution_count": 46,
   "metadata": {},
   "outputs": [],
   "source": [
    "textbook_word_list = generate_word_list(textbook_corpus, CSAT_path)\n",
    "textbook_only_word_list = pd.Series(textbook_word_list)"
   ]
  },
  {
   "cell_type": "code",
   "execution_count": 47,
   "metadata": {},
   "outputs": [
    {
     "data": {
      "text/plain": [
       "(9043,)"
      ]
     },
     "execution_count": 47,
     "metadata": {},
     "output_type": "execute_result"
    }
   ],
   "source": [
    "textbook_only_word_list.shape"
   ]
  },
  {
   "cell_type": "code",
   "execution_count": 48,
   "metadata": {},
   "outputs": [
    {
     "data": {
      "text/plain": [
       ".            530\n",
       "the          401\n",
       ",            398\n",
       "to           254\n",
       "and          240\n",
       "            ... \n",
       "finale         1\n",
       "shoulders      1\n",
       "teammates      1\n",
       "field          1\n",
       "enjoyed        1\n",
       "Name: count, Length: 2076, dtype: int64"
      ]
     },
     "execution_count": 48,
     "metadata": {},
     "output_type": "execute_result"
    }
   ],
   "source": [
    "textbook_only_word_list.value_counts()"
   ]
  },
  {
   "cell_type": "code",
   "execution_count": 49,
   "metadata": {},
   "outputs": [
    {
     "data": {
      "text/html": [
       "<div>\n",
       "<style scoped>\n",
       "    .dataframe tbody tr th:only-of-type {\n",
       "        vertical-align: middle;\n",
       "    }\n",
       "\n",
       "    .dataframe tbody tr th {\n",
       "        vertical-align: top;\n",
       "    }\n",
       "\n",
       "    .dataframe thead th {\n",
       "        text-align: right;\n",
       "    }\n",
       "</style>\n",
       "<table border=\"1\" class=\"dataframe\">\n",
       "  <thead>\n",
       "    <tr style=\"text-align: right;\">\n",
       "      <th></th>\n",
       "      <th>Word</th>\n",
       "      <th>Freq</th>\n",
       "    </tr>\n",
       "  </thead>\n",
       "  <tbody>\n",
       "    <tr>\n",
       "      <th>0</th>\n",
       "      <td>.</td>\n",
       "      <td>530</td>\n",
       "    </tr>\n",
       "    <tr>\n",
       "      <th>1</th>\n",
       "      <td>the</td>\n",
       "      <td>401</td>\n",
       "    </tr>\n",
       "    <tr>\n",
       "      <th>2</th>\n",
       "      <td>,</td>\n",
       "      <td>398</td>\n",
       "    </tr>\n",
       "    <tr>\n",
       "      <th>3</th>\n",
       "      <td>to</td>\n",
       "      <td>254</td>\n",
       "    </tr>\n",
       "    <tr>\n",
       "      <th>4</th>\n",
       "      <td>and</td>\n",
       "      <td>240</td>\n",
       "    </tr>\n",
       "    <tr>\n",
       "      <th>...</th>\n",
       "      <td>...</td>\n",
       "      <td>...</td>\n",
       "    </tr>\n",
       "    <tr>\n",
       "      <th>2071</th>\n",
       "      <td>finale</td>\n",
       "      <td>1</td>\n",
       "    </tr>\n",
       "    <tr>\n",
       "      <th>2072</th>\n",
       "      <td>shoulders</td>\n",
       "      <td>1</td>\n",
       "    </tr>\n",
       "    <tr>\n",
       "      <th>2073</th>\n",
       "      <td>teammates</td>\n",
       "      <td>1</td>\n",
       "    </tr>\n",
       "    <tr>\n",
       "      <th>2074</th>\n",
       "      <td>field</td>\n",
       "      <td>1</td>\n",
       "    </tr>\n",
       "    <tr>\n",
       "      <th>2075</th>\n",
       "      <td>enjoyed</td>\n",
       "      <td>1</td>\n",
       "    </tr>\n",
       "  </tbody>\n",
       "</table>\n",
       "<p>2076 rows × 2 columns</p>\n",
       "</div>"
      ],
      "text/plain": [
       "           Word  Freq\n",
       "0             .   530\n",
       "1           the   401\n",
       "2             ,   398\n",
       "3            to   254\n",
       "4           and   240\n",
       "...         ...   ...\n",
       "2071     finale     1\n",
       "2072  shoulders     1\n",
       "2073  teammates     1\n",
       "2074      field     1\n",
       "2075    enjoyed     1\n",
       "\n",
       "[2076 rows x 2 columns]"
      ]
     },
     "execution_count": 49,
     "metadata": {},
     "output_type": "execute_result"
    }
   ],
   "source": [
    "textbook_only_word_list_df = textbook_only_word_list.value_counts().to_frame().reset_index().rename(columns={'index': 'Word', 'count': 'Freq'})\n",
    "textbook_only_word_list_df.to_excel(os.path.join(corpora_dir, 'merged_corpora', 'textbook_only.xlsx'), index=False)\n",
    "textbook_only_word_list_df"
   ]
  },
  {
   "cell_type": "markdown",
   "metadata": {},
   "source": [
    "### CSAT Total"
   ]
  },
  {
   "cell_type": "code",
   "execution_count": 13,
   "metadata": {},
   "outputs": [
    {
     "data": {
      "text/plain": [
       "(52, 49, 71)"
      ]
     },
     "execution_count": 13,
     "metadata": {},
     "output_type": "execute_result"
    }
   ],
   "source": [
    "json_handler = JsonFileHandler()\n",
    "CSAT_path = os.path.join(corpora_dir, 'CSAT-latest')\n",
    "corpus_list = os.listdir(CSAT_path)\n",
    "corpus_list = [file for file in corpus_list if file.endswith('.json')]\n",
    "reading_corpus = [file for file in corpus_list if 'reading' in file]\n",
    "listening_corpus = [file for file in corpus_list if 'listening' in file]\n",
    "textbook_corpus = [file for file in corpus_list if 'textbook' in file]\n",
    "\n",
    "len(reading_corpus), len(listening_corpus), len(textbook_corpus)"
   ]
  },
  {
   "cell_type": "code",
   "execution_count": null,
   "metadata": {},
   "outputs": [],
   "source": [
    "listening_word_list = generate_word_list(listening_corpus, CSAT_path)\n",
    "reading_word_list = generate_word_list(reading_corpus, CSAT_path)\n",
    "textbook_word_list = generate_word_list(textbook_corpus, CSAT_path)\n",
    "CSAT_word_list = pd.Series(listening_word_list + reading_word_list + textbook_word_list)"
   ]
  },
  {
   "cell_type": "code",
   "execution_count": 23,
   "metadata": {},
   "outputs": [
    {
     "data": {
      "text/plain": [
       "(67371,)"
      ]
     },
     "execution_count": 23,
     "metadata": {},
     "output_type": "execute_result"
    }
   ],
   "source": [
    "CSAT_word_list.shape"
   ]
  },
  {
   "cell_type": "code",
   "execution_count": 26,
   "metadata": {},
   "outputs": [
    {
     "data": {
      "text/plain": [
       ".               3965\n",
       ",               3185\n",
       "the             3149\n",
       "to              1881\n",
       "of              1561\n",
       "                ... \n",
       "reconnects         1\n",
       "trolly             1\n",
       "conveniently       1\n",
       "tagging            1\n",
       "treasured          1\n",
       "Name: count, Length: 7796, dtype: int64"
      ]
     },
     "execution_count": 26,
     "metadata": {},
     "output_type": "execute_result"
    }
   ],
   "source": [
    "CSAT_word_list.value_counts()"
   ]
  },
  {
   "cell_type": "code",
   "execution_count": 50,
   "metadata": {},
   "outputs": [
    {
     "data": {
      "text/html": [
       "<div>\n",
       "<style scoped>\n",
       "    .dataframe tbody tr th:only-of-type {\n",
       "        vertical-align: middle;\n",
       "    }\n",
       "\n",
       "    .dataframe tbody tr th {\n",
       "        vertical-align: top;\n",
       "    }\n",
       "\n",
       "    .dataframe thead th {\n",
       "        text-align: right;\n",
       "    }\n",
       "</style>\n",
       "<table border=\"1\" class=\"dataframe\">\n",
       "  <thead>\n",
       "    <tr style=\"text-align: right;\">\n",
       "      <th></th>\n",
       "      <th>Word</th>\n",
       "      <th>Freq</th>\n",
       "    </tr>\n",
       "  </thead>\n",
       "  <tbody>\n",
       "    <tr>\n",
       "      <th>0</th>\n",
       "      <td>.</td>\n",
       "      <td>3965</td>\n",
       "    </tr>\n",
       "    <tr>\n",
       "      <th>1</th>\n",
       "      <td>,</td>\n",
       "      <td>3185</td>\n",
       "    </tr>\n",
       "    <tr>\n",
       "      <th>2</th>\n",
       "      <td>the</td>\n",
       "      <td>3149</td>\n",
       "    </tr>\n",
       "    <tr>\n",
       "      <th>3</th>\n",
       "      <td>to</td>\n",
       "      <td>1881</td>\n",
       "    </tr>\n",
       "    <tr>\n",
       "      <th>4</th>\n",
       "      <td>of</td>\n",
       "      <td>1561</td>\n",
       "    </tr>\n",
       "    <tr>\n",
       "      <th>...</th>\n",
       "      <td>...</td>\n",
       "      <td>...</td>\n",
       "    </tr>\n",
       "    <tr>\n",
       "      <th>7791</th>\n",
       "      <td>reconnects</td>\n",
       "      <td>1</td>\n",
       "    </tr>\n",
       "    <tr>\n",
       "      <th>7792</th>\n",
       "      <td>trolly</td>\n",
       "      <td>1</td>\n",
       "    </tr>\n",
       "    <tr>\n",
       "      <th>7793</th>\n",
       "      <td>conveniently</td>\n",
       "      <td>1</td>\n",
       "    </tr>\n",
       "    <tr>\n",
       "      <th>7794</th>\n",
       "      <td>tagging</td>\n",
       "      <td>1</td>\n",
       "    </tr>\n",
       "    <tr>\n",
       "      <th>7795</th>\n",
       "      <td>treasured</td>\n",
       "      <td>1</td>\n",
       "    </tr>\n",
       "  </tbody>\n",
       "</table>\n",
       "<p>7796 rows × 2 columns</p>\n",
       "</div>"
      ],
      "text/plain": [
       "              Word  Freq\n",
       "0                .  3965\n",
       "1                ,  3185\n",
       "2              the  3149\n",
       "3               to  1881\n",
       "4               of  1561\n",
       "...            ...   ...\n",
       "7791    reconnects     1\n",
       "7792        trolly     1\n",
       "7793  conveniently     1\n",
       "7794       tagging     1\n",
       "7795     treasured     1\n",
       "\n",
       "[7796 rows x 2 columns]"
      ]
     },
     "execution_count": 50,
     "metadata": {},
     "output_type": "execute_result"
    }
   ],
   "source": [
    "CSAT_word_list_df = CSAT_word_list.value_counts().to_frame().reset_index().rename(columns={'index': 'Word', 'count': 'Freq'})\n",
    "CSAT_word_list_df.to_excel(os.path.join(corpora_dir, 'merged_corpora', 'CSAT.xlsx'), index=False)\n",
    "CSAT_word_list_df"
   ]
  },
  {
   "cell_type": "markdown",
   "metadata": {},
   "source": [
    "## E-lexicon proj"
   ]
  },
  {
   "cell_type": "markdown",
   "metadata": {},
   "source": [
    "E-lexicon proj를 보면, a의 orthographic N이 1이다. 즉, b,c,d,e 같이 치환된 케이스 중 비단어는 제외했다는 말이니, CSAT도 그대로 사용하기는 무리. 따라서 E-lexicon이랑 intersection을 먼저 시켜봐야 할 듯."
   ]
  },
  {
   "cell_type": "code",
   "execution_count": 32,
   "metadata": {},
   "outputs": [],
   "source": [
    "E_lexicon_proj_path = os.path.join(corpora_dir, 'E-lexicon-proj')"
   ]
  },
  {
   "cell_type": "code",
   "execution_count": 34,
   "metadata": {},
   "outputs": [
    {
     "data": {
      "text/html": [
       "<div>\n",
       "<style scoped>\n",
       "    .dataframe tbody tr th:only-of-type {\n",
       "        vertical-align: middle;\n",
       "    }\n",
       "\n",
       "    .dataframe tbody tr th {\n",
       "        vertical-align: top;\n",
       "    }\n",
       "\n",
       "    .dataframe thead th {\n",
       "        text-align: right;\n",
       "    }\n",
       "</style>\n",
       "<table border=\"1\" class=\"dataframe\">\n",
       "  <thead>\n",
       "    <tr style=\"text-align: right;\">\n",
       "      <th></th>\n",
       "      <th>Word</th>\n",
       "      <th>Length</th>\n",
       "      <th>Freq_HAL</th>\n",
       "      <th>Log_Freq_HAL</th>\n",
       "      <th>SUBTLWF</th>\n",
       "      <th>LgSUBTLWF</th>\n",
       "      <th>SUBTLCD</th>\n",
       "      <th>LgSUBTLCD</th>\n",
       "      <th>Ortho_N</th>\n",
       "      <th>OLD</th>\n",
       "      <th>POS</th>\n",
       "    </tr>\n",
       "  </thead>\n",
       "  <tbody>\n",
       "    <tr>\n",
       "      <th>0</th>\n",
       "      <td>a</td>\n",
       "      <td>1</td>\n",
       "      <td>10,610,626</td>\n",
       "      <td>16.177</td>\n",
       "      <td>20,415.270</td>\n",
       "      <td>6.018</td>\n",
       "      <td>99.930</td>\n",
       "      <td>3.923</td>\n",
       "      <td>1</td>\n",
       "      <td>1.450</td>\n",
       "      <td>minor|NN</td>\n",
       "    </tr>\n",
       "    <tr>\n",
       "      <th>1</th>\n",
       "      <td>aah</td>\n",
       "      <td>3</td>\n",
       "      <td>222</td>\n",
       "      <td>5.403</td>\n",
       "      <td>52.710</td>\n",
       "      <td>3.430</td>\n",
       "      <td>7.560</td>\n",
       "      <td>2.803</td>\n",
       "      <td>2</td>\n",
       "      <td>1.850</td>\n",
       "      <td>#</td>\n",
       "    </tr>\n",
       "    <tr>\n",
       "      <th>2</th>\n",
       "      <td>Aaron</td>\n",
       "      <td>5</td>\n",
       "      <td>10,806</td>\n",
       "      <td>9.288</td>\n",
       "      <td>14.650</td>\n",
       "      <td>2.874</td>\n",
       "      <td>1.930</td>\n",
       "      <td>2.212</td>\n",
       "      <td>3</td>\n",
       "      <td>1.850</td>\n",
       "      <td>NN</td>\n",
       "    </tr>\n",
       "    <tr>\n",
       "      <th>3</th>\n",
       "      <td>aback</td>\n",
       "      <td>5</td>\n",
       "      <td>387</td>\n",
       "      <td>5.958</td>\n",
       "      <td>0.290</td>\n",
       "      <td>1.204</td>\n",
       "      <td>0.180</td>\n",
       "      <td>1.204</td>\n",
       "      <td>0</td>\n",
       "      <td>1.950</td>\n",
       "      <td>RB</td>\n",
       "    </tr>\n",
       "    <tr>\n",
       "      <th>4</th>\n",
       "      <td>abacus</td>\n",
       "      <td>6</td>\n",
       "      <td>513</td>\n",
       "      <td>6.240</td>\n",
       "      <td>0.240</td>\n",
       "      <td>1.114</td>\n",
       "      <td>0.120</td>\n",
       "      <td>1.041</td>\n",
       "      <td>0</td>\n",
       "      <td>2.900</td>\n",
       "      <td>NN</td>\n",
       "    </tr>\n",
       "  </tbody>\n",
       "</table>\n",
       "</div>"
      ],
      "text/plain": [
       "     Word  Length    Freq_HAL  Log_Freq_HAL     SUBTLWF LgSUBTLWF SUBTLCD  \\\n",
       "0       a       1  10,610,626        16.177  20,415.270     6.018  99.930   \n",
       "1     aah       3         222         5.403      52.710     3.430   7.560   \n",
       "2   Aaron       5      10,806         9.288      14.650     2.874   1.930   \n",
       "3   aback       5         387         5.958       0.290     1.204   0.180   \n",
       "4  abacus       6         513         6.240       0.240     1.114   0.120   \n",
       "\n",
       "  LgSUBTLCD  Ortho_N    OLD       POS  \n",
       "0     3.923        1  1.450  minor|NN  \n",
       "1     2.803        2  1.850         #  \n",
       "2     2.212        3  1.850        NN  \n",
       "3     1.204        0  1.950        RB  \n",
       "4     1.041        0  2.900        NN  "
      ]
     },
     "execution_count": 34,
     "metadata": {},
     "output_type": "execute_result"
    }
   ],
   "source": [
    "E_lexicon_df = pd.read_csv(os.path.join(E_lexicon_proj_path, 'English Lexicon Project Items original.csv'))\n",
    "E_lexicon_df.head()"
   ]
  },
  {
   "cell_type": "markdown",
   "metadata": {},
   "source": [
    "### CSAT_edit"
   ]
  },
  {
   "cell_type": "code",
   "execution_count": 52,
   "metadata": {},
   "outputs": [
    {
     "data": {
      "text/plain": [
       "((7796, 2), (7282, 2), (2076, 2))"
      ]
     },
     "execution_count": 52,
     "metadata": {},
     "output_type": "execute_result"
    }
   ],
   "source": [
    "CSAT_only_df = pd.read_excel(os.path.join(corpora_dir, 'merged_corpora', 'CSAT_only.xlsx'))\n",
    "textbook_only_df = pd.read_excel(os.path.join(corpora_dir, 'merged_corpora', 'textbook_only.xlsx'))\n",
    "CSAT_df = pd.read_excel(os.path.join(corpora_dir, 'merged_corpora', 'CSAT.xlsx'))\n",
    "\n",
    "# overlap 1562개\n",
    "CSAT_df.shape, CSAT_only_df.shape,textbook_only_df.shape"
   ]
  },
  {
   "cell_type": "code",
   "execution_count": 82,
   "metadata": {},
   "outputs": [
    {
     "data": {
      "text/html": [
       "<div>\n",
       "<style scoped>\n",
       "    .dataframe tbody tr th:only-of-type {\n",
       "        vertical-align: middle;\n",
       "    }\n",
       "\n",
       "    .dataframe tbody tr th {\n",
       "        vertical-align: top;\n",
       "    }\n",
       "\n",
       "    .dataframe thead th {\n",
       "        text-align: right;\n",
       "    }\n",
       "</style>\n",
       "<table border=\"1\" class=\"dataframe\">\n",
       "  <thead>\n",
       "    <tr style=\"text-align: right;\">\n",
       "      <th></th>\n",
       "      <th>Word</th>\n",
       "      <th>Freq</th>\n",
       "      <th>POS</th>\n",
       "    </tr>\n",
       "  </thead>\n",
       "  <tbody>\n",
       "    <tr>\n",
       "      <th>0</th>\n",
       "      <td>the</td>\n",
       "      <td>2748</td>\n",
       "      <td>minor</td>\n",
       "    </tr>\n",
       "    <tr>\n",
       "      <th>1</th>\n",
       "      <td>to</td>\n",
       "      <td>1627</td>\n",
       "      <td>minor</td>\n",
       "    </tr>\n",
       "    <tr>\n",
       "      <th>2</th>\n",
       "      <td>of</td>\n",
       "      <td>1376</td>\n",
       "      <td>minor</td>\n",
       "    </tr>\n",
       "    <tr>\n",
       "      <th>3</th>\n",
       "      <td>and</td>\n",
       "      <td>1253</td>\n",
       "      <td>minor</td>\n",
       "    </tr>\n",
       "    <tr>\n",
       "      <th>4</th>\n",
       "      <td>a</td>\n",
       "      <td>1098</td>\n",
       "      <td>minor|NN</td>\n",
       "    </tr>\n",
       "    <tr>\n",
       "      <th>...</th>\n",
       "      <td>...</td>\n",
       "      <td>...</td>\n",
       "      <td>...</td>\n",
       "    </tr>\n",
       "    <tr>\n",
       "      <th>6264</th>\n",
       "      <td>substantial</td>\n",
       "      <td>1</td>\n",
       "      <td>JJ</td>\n",
       "    </tr>\n",
       "    <tr>\n",
       "      <th>6265</th>\n",
       "      <td>tolls</td>\n",
       "      <td>1</td>\n",
       "      <td>NN|VB</td>\n",
       "    </tr>\n",
       "    <tr>\n",
       "      <th>6266</th>\n",
       "      <td>merchants</td>\n",
       "      <td>1</td>\n",
       "      <td>NN</td>\n",
       "    </tr>\n",
       "    <tr>\n",
       "      <th>6267</th>\n",
       "      <td>immediacy</td>\n",
       "      <td>1</td>\n",
       "      <td>NN</td>\n",
       "    </tr>\n",
       "    <tr>\n",
       "      <th>6268</th>\n",
       "      <td>doubly</td>\n",
       "      <td>1</td>\n",
       "      <td>RB</td>\n",
       "    </tr>\n",
       "  </tbody>\n",
       "</table>\n",
       "<p>6269 rows × 3 columns</p>\n",
       "</div>"
      ],
      "text/plain": [
       "             Word  Freq       POS\n",
       "0             the  2748     minor\n",
       "1              to  1627     minor\n",
       "2              of  1376     minor\n",
       "3             and  1253     minor\n",
       "4               a  1098  minor|NN\n",
       "...           ...   ...       ...\n",
       "6264  substantial     1        JJ\n",
       "6265        tolls     1     NN|VB\n",
       "6266    merchants     1        NN\n",
       "6267    immediacy     1        NN\n",
       "6268       doubly     1        RB\n",
       "\n",
       "[6269 rows x 3 columns]"
      ]
     },
     "execution_count": 82,
     "metadata": {},
     "output_type": "execute_result"
    }
   ],
   "source": [
    "CSAT_only_POS_df = pd.merge(CSAT_only_df, E_lexicon_df, on='Word', how='left')[['Word', 'Freq', 'POS']]\n",
    "CSAT_only_POS_df.dropna(subset=['POS']).reset_index(drop=True)"
   ]
  },
  {
   "cell_type": "code",
   "execution_count": 83,
   "metadata": {},
   "outputs": [
    {
     "data": {
      "text/html": [
       "<div>\n",
       "<style scoped>\n",
       "    .dataframe tbody tr th:only-of-type {\n",
       "        vertical-align: middle;\n",
       "    }\n",
       "\n",
       "    .dataframe tbody tr th {\n",
       "        vertical-align: top;\n",
       "    }\n",
       "\n",
       "    .dataframe thead th {\n",
       "        text-align: right;\n",
       "    }\n",
       "</style>\n",
       "<table border=\"1\" class=\"dataframe\">\n",
       "  <thead>\n",
       "    <tr style=\"text-align: right;\">\n",
       "      <th></th>\n",
       "      <th>Word</th>\n",
       "      <th>Freq</th>\n",
       "      <th>POS</th>\n",
       "    </tr>\n",
       "  </thead>\n",
       "  <tbody>\n",
       "    <tr>\n",
       "      <th>0</th>\n",
       "      <td>the</td>\n",
       "      <td>401</td>\n",
       "      <td>minor</td>\n",
       "    </tr>\n",
       "    <tr>\n",
       "      <th>1</th>\n",
       "      <td>to</td>\n",
       "      <td>254</td>\n",
       "      <td>minor</td>\n",
       "    </tr>\n",
       "    <tr>\n",
       "      <th>2</th>\n",
       "      <td>and</td>\n",
       "      <td>240</td>\n",
       "      <td>minor</td>\n",
       "    </tr>\n",
       "    <tr>\n",
       "      <th>3</th>\n",
       "      <td>a</td>\n",
       "      <td>186</td>\n",
       "      <td>minor|NN</td>\n",
       "    </tr>\n",
       "    <tr>\n",
       "      <th>4</th>\n",
       "      <td>of</td>\n",
       "      <td>185</td>\n",
       "      <td>minor</td>\n",
       "    </tr>\n",
       "    <tr>\n",
       "      <th>...</th>\n",
       "      <td>...</td>\n",
       "      <td>...</td>\n",
       "      <td>...</td>\n",
       "    </tr>\n",
       "    <tr>\n",
       "      <th>1840</th>\n",
       "      <td>finale</td>\n",
       "      <td>1</td>\n",
       "      <td>NN</td>\n",
       "    </tr>\n",
       "    <tr>\n",
       "      <th>1841</th>\n",
       "      <td>shoulders</td>\n",
       "      <td>1</td>\n",
       "      <td>NN|VB</td>\n",
       "    </tr>\n",
       "    <tr>\n",
       "      <th>1842</th>\n",
       "      <td>teammates</td>\n",
       "      <td>1</td>\n",
       "      <td>NN</td>\n",
       "    </tr>\n",
       "    <tr>\n",
       "      <th>1843</th>\n",
       "      <td>field</td>\n",
       "      <td>1</td>\n",
       "      <td>NN|VB</td>\n",
       "    </tr>\n",
       "    <tr>\n",
       "      <th>1844</th>\n",
       "      <td>enjoyed</td>\n",
       "      <td>1</td>\n",
       "      <td>VB</td>\n",
       "    </tr>\n",
       "  </tbody>\n",
       "</table>\n",
       "<p>1845 rows × 3 columns</p>\n",
       "</div>"
      ],
      "text/plain": [
       "           Word  Freq       POS\n",
       "0           the   401     minor\n",
       "1            to   254     minor\n",
       "2           and   240     minor\n",
       "3             a   186  minor|NN\n",
       "4            of   185     minor\n",
       "...         ...   ...       ...\n",
       "1840     finale     1        NN\n",
       "1841  shoulders     1     NN|VB\n",
       "1842  teammates     1        NN\n",
       "1843      field     1     NN|VB\n",
       "1844    enjoyed     1        VB\n",
       "\n",
       "[1845 rows x 3 columns]"
      ]
     },
     "execution_count": 83,
     "metadata": {},
     "output_type": "execute_result"
    }
   ],
   "source": [
    "textbook_only_POS_df = pd.merge(textbook_only_df, E_lexicon_df, on='Word', how='left')[['Word', 'Freq', 'POS']]\n",
    "textbook_only_POS_df.dropna(subset=['POS']).reset_index(drop=True)"
   ]
  },
  {
   "cell_type": "markdown",
   "metadata": {},
   "source": [
    "각각 E-lexicon이랑 합치고 POS 달기"
   ]
  },
  {
   "cell_type": "code",
   "execution_count": null,
   "metadata": {},
   "outputs": [
    {
     "data": {
      "text/html": [
       "<div>\n",
       "<style scoped>\n",
       "    .dataframe tbody tr th:only-of-type {\n",
       "        vertical-align: middle;\n",
       "    }\n",
       "\n",
       "    .dataframe tbody tr th {\n",
       "        vertical-align: top;\n",
       "    }\n",
       "\n",
       "    .dataframe thead th {\n",
       "        text-align: right;\n",
       "    }\n",
       "</style>\n",
       "<table border=\"1\" class=\"dataframe\">\n",
       "  <thead>\n",
       "    <tr style=\"text-align: right;\">\n",
       "      <th></th>\n",
       "      <th>Word</th>\n",
       "      <th>Freq</th>\n",
       "      <th>POS</th>\n",
       "    </tr>\n",
       "  </thead>\n",
       "  <tbody>\n",
       "    <tr>\n",
       "      <th>0</th>\n",
       "      <td>the</td>\n",
       "      <td>3149</td>\n",
       "      <td>minor</td>\n",
       "    </tr>\n",
       "    <tr>\n",
       "      <th>1</th>\n",
       "      <td>to</td>\n",
       "      <td>1881</td>\n",
       "      <td>minor</td>\n",
       "    </tr>\n",
       "    <tr>\n",
       "      <th>2</th>\n",
       "      <td>of</td>\n",
       "      <td>1561</td>\n",
       "      <td>minor</td>\n",
       "    </tr>\n",
       "    <tr>\n",
       "      <th>3</th>\n",
       "      <td>and</td>\n",
       "      <td>1493</td>\n",
       "      <td>minor</td>\n",
       "    </tr>\n",
       "    <tr>\n",
       "      <th>4</th>\n",
       "      <td>a</td>\n",
       "      <td>1284</td>\n",
       "      <td>minor|NN</td>\n",
       "    </tr>\n",
       "    <tr>\n",
       "      <th>...</th>\n",
       "      <td>...</td>\n",
       "      <td>...</td>\n",
       "      <td>...</td>\n",
       "    </tr>\n",
       "    <tr>\n",
       "      <th>6619</th>\n",
       "      <td>palms</td>\n",
       "      <td>1</td>\n",
       "      <td>NN|VB</td>\n",
       "    </tr>\n",
       "    <tr>\n",
       "      <th>6620</th>\n",
       "      <td>renewing</td>\n",
       "      <td>1</td>\n",
       "      <td>VB</td>\n",
       "    </tr>\n",
       "    <tr>\n",
       "      <th>6621</th>\n",
       "      <td>conveniently</td>\n",
       "      <td>1</td>\n",
       "      <td>RB</td>\n",
       "    </tr>\n",
       "    <tr>\n",
       "      <th>6622</th>\n",
       "      <td>tagging</td>\n",
       "      <td>1</td>\n",
       "      <td>VB</td>\n",
       "    </tr>\n",
       "    <tr>\n",
       "      <th>6623</th>\n",
       "      <td>treasured</td>\n",
       "      <td>1</td>\n",
       "      <td>VB</td>\n",
       "    </tr>\n",
       "  </tbody>\n",
       "</table>\n",
       "<p>6624 rows × 3 columns</p>\n",
       "</div>"
      ],
      "text/plain": [
       "              Word  Freq       POS\n",
       "0              the  3149     minor\n",
       "1               to  1881     minor\n",
       "2               of  1561     minor\n",
       "3              and  1493     minor\n",
       "4                a  1284  minor|NN\n",
       "...            ...   ...       ...\n",
       "6619         palms     1     NN|VB\n",
       "6620      renewing     1        VB\n",
       "6621  conveniently     1        RB\n",
       "6622       tagging     1        VB\n",
       "6623     treasured     1        VB\n",
       "\n",
       "[6624 rows x 3 columns]"
      ]
     },
     "execution_count": 81,
     "metadata": {},
     "output_type": "execute_result"
    }
   ],
   "source": [
    "CSAT_POS_df = pd.merge(CSAT_df, E_lexicon_df, on='Word', how='left')[['Word', 'Freq', 'POS']]\n",
    "CSAT_POS_df.dropna(subset=['POS']).reset_index(drop=True)"
   ]
  },
  {
   "cell_type": "code",
   "execution_count": 84,
   "metadata": {},
   "outputs": [],
   "source": [
    "CSAT_only_POS_df.to_excel(os.path.join(corpora_dir, 'merged_corpora', 'CSAT_only_POS.xlsx'), index=False)\n",
    "textbook_only_POS_df.to_excel(os.path.join(corpora_dir, 'merged_corpora', 'textbook_only_POS.xlsx'), index=False)\n",
    "CSAT_POS_df.to_excel(os.path.join(corpora_dir, 'merged_corpora', 'CSAT_POS.xlsx'), index=False)"
   ]
  },
  {
   "cell_type": "code",
   "execution_count": null,
   "metadata": {},
   "outputs": [],
   "source": []
  },
  {
   "cell_type": "markdown",
   "metadata": {},
   "source": [
    "### HAL"
   ]
  },
  {
   "cell_type": "markdown",
   "metadata": {},
   "source": [
    "### SUBTLEX"
   ]
  },
  {
   "cell_type": "markdown",
   "metadata": {},
   "source": [
    "## HAL + SUBTLEX"
   ]
  },
  {
   "cell_type": "markdown",
   "metadata": {},
   "source": [
    "## CSAT + HAL"
   ]
  },
  {
   "cell_type": "markdown",
   "metadata": {},
   "source": [
    "## CSAT + SUBTLEX"
   ]
  },
  {
   "cell_type": "markdown",
   "metadata": {},
   "source": []
  }
 ],
 "metadata": {
  "kernelspec": {
   "display_name": ".venv",
   "language": "python",
   "name": "python3"
  },
  "language_info": {
   "codemirror_mode": {
    "name": "ipython",
    "version": 3
   },
   "file_extension": ".py",
   "mimetype": "text/x-python",
   "name": "python",
   "nbconvert_exporter": "python",
   "pygments_lexer": "ipython3",
   "version": "3.10.17"
  }
 },
 "nbformat": 4,
 "nbformat_minor": 2
}
